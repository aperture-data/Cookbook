{
 "cells": [
  {
   "cell_type": "markdown",
   "id": "32b9643a-ff73-4922-968d-d9fe552946de",
   "metadata": {},
   "source": [
    "# Quick Start\n",
    "\n",
    "In this notebook:\n",
    "* Setup ApertureDB database server \n",
    "* Setup a Google Colab notebook with aperturedb client\n",
    "* Then configure it\n",
    "* Load a dataset ApertureDB server\n",
    "* Run Queries!"
   ]
  },
  {
   "cell_type": "markdown",
   "id": "3e4243ac-d260-419f-9c70-01783965ea44",
   "metadata": {},
   "source": [
    "## 1. Set up the Database\n",
    "\n",
    "ApertureDB is set up as a database (server) and can be accessed from clients anywhere as long as the server is accessible on the network to the client.\n",
    "\n",
    "Sign up for an Aperture [cloud account here](https://cloud.aperturedata.io) (30 days free trial) or see [other methods here](http://docs.aperturedata.io/category/setup-server)"
   ]
  },
  {
   "cell_type": "markdown",
   "id": "b69b42ce-36a2-47f6-862a-328d34d2220e",
   "metadata": {},
   "source": [
    "## 2. Set up the Client"
   ]
  },
  {
   "cell_type": "markdown",
   "id": "89cc6b6c-0645-4cba-900c-39a91ff67c71",
   "metadata": {},
   "source": [
    "### a) Launch Colab or Jupyter Server\n",
    "\n",
    "* Run any of our notebooks on Google Colab or your own Jupyter server as indicated from Step 2.b) onwards.\n",
    "* You can use our [pre-configured Jupyter server](https://docs.aperturedata.io/Setup/client/notebooks?notebooks=notebook) \n",
    "* This jupyter lab launches on port 8888 which will already have the SDK installed.\n",
    "  \n",
    "```bash\n",
    "docker run --interactive --tty aperturedata/aperturedb-notebook\n",
    "```"
   ]
  },
  {
   "cell_type": "markdown",
   "id": "517f24d6-1b8c-4fc3-a74b-9ad472c2f194",
   "metadata": {},
   "source": [
    "### b) Install ApertureDB SDK"
   ]
  },
  {
   "cell_type": "code",
   "execution_count": null,
   "id": "5818af15-5f84-4a4a-b00a-a45dca8b17ab",
   "metadata": {},
   "outputs": [],
   "source": [
    "%pip install --quiet --upgrade aperturedb"
   ]
  },
  {
   "cell_type": "markdown",
   "id": "0692b1ed",
   "metadata": {},
   "source": [
    "### c) Define server configuration\n",
    "\n",
    "The easiest way to set up a configuration is to paste a JSON configuration string into `adb config create`.\n",
    "See [Configuration](https://docs.aperturedata.io/Setup/client/configuration) for how to get this string and for alternative ways to set up a configuration."
   ]
  },
  {
   "cell_type": "code",
   "execution_count": null,
   "id": "3cd0d138",
   "metadata": {},
   "outputs": [
    {
     "name": "stdout",
     "output_type": "stream",
     "text": [
      "Enter JSON string: "
     ]
    }
   ],
   "source": [
    "! adb config create --active --from-json"
   ]
  },
  {
   "cell_type": "markdown",
   "id": "1bdcdb1e-79e7-4c2a-b003-b2ba45d5b8e9",
   "metadata": {},
   "source": [
    "## 3. Connect ApertureDB Client and Server\n",
    "\n",
    "As a demonstration that you have connected to the server successfully, let's see a summary of the database schema.  \n",
    "The first time you do this, you may need to grant permission for this notebook to access your secrets."
   ]
  },
  {
   "cell_type": "code",
   "execution_count": null,
   "id": "de6844e9-d9c1-4963-8c1c-b375d024c5a0",
   "metadata": {},
   "outputs": [],
   "source": [
    "from aperturedb.Utils import Utils\n",
    "from aperturedb.CommonLibrary import create_connector\n",
    "\n",
    "# Create the connector for ApertureDB\n",
    "client = create_connector()\n",
    "\n",
    "# Use the connector to create a Utils object and print the summary\n",
    "utils = Utils(client)\n",
    "utils.summary()"
   ]
  },
  {
   "cell_type": "markdown",
   "id": "06e0b4f5-24a4-432a-a150-e0a27e6c3960",
   "metadata": {},
   "source": [
    "## 4. Ingest Our Example Cookbook Data\n",
    "\n",
    ">**Cookbook Dataset** is a dataset comprising of Dishes(their photos, descriptions), mapped to the constituent main ingredients.\n",
    ">\n",
    ">It is a small Dataset built to show the capabilities of ApertureDB.\n",
    "\n",
    "* [Cookbook Dataset](https://docs.google.com/spreadsheets/d/1G1HPG3Dxx5W39OD6b74wMHvWupD7N-DLUbV7tD5owx8/edit?gid=0#gid=0)\n",
    "* [Git Repository](https://github.com/aperture-data/Cookbook)\n",
    "* [More details on how to ingest](https://docs.aperturedata.io/HowToGuides/Ingestion/Ingestion/Examples/Loading_CSVParsers)"
   ]
  },
  {
   "cell_type": "code",
   "execution_count": null,
   "id": "4fc799eb-142a-4ba2-9de3-ef4630ba0644",
   "metadata": {},
   "outputs": [],
   "source": [
    "! wget https://github.com/aperture-data/Cookbook/raw/refs/heads/main/scripts/load_cookbook_data.sh\n",
    "! bash load_cookbook_data.sh\n",
    "\n",
    "\n",
    "from aperturedb.cli.ingest import from_csv, TransformerType, IngestType\n",
    "\n",
    "from_csv(\n",
    "    filepath=\"data/dishes.adb.csv\",\n",
    "    ingest_type=IngestType.IMAGE,\n",
    "    transformer=[\n",
    "      TransformerType.clip_pytorch_embeddings,\n",
    "      TransformerType.image_properties,\n",
    "      TransformerType.common_properties]\n",
    "    )\n",
    "\n",
    "from_csv(\n",
    "    filepath=\"data/ingredients.adb.csv\",\n",
    "    ingest_type=IngestType.ENTITY,\n",
    ")\n",
    "\n",
    "from_csv(\n",
    "    filepath=\"data/dish_ingredients.adb.csv\",\n",
    "    ingest_type=IngestType.CONNECTION,\n",
    ")"
   ]
  },
  {
   "cell_type": "markdown",
   "id": "cb68504a-1850-48cc-99ce-ab68f2757091",
   "metadata": {},
   "source": [
    "## 5. Run Queries!"
   ]
  },
  {
   "cell_type": "markdown",
   "id": "1e30006e-a38f-4eb5-816f-c5b006fc3e0a",
   "metadata": {},
   "source": [
    "### a) Find images of dishes from Scottish Cuisine\n",
    "\n",
    "For this simple query, we are able to use an object wrapper class."
   ]
  },
  {
   "cell_type": "code",
   "execution_count": null,
   "id": "5447cc69",
   "metadata": {},
   "outputs": [],
   "source": [
    "from aperturedb.Images import Images\n",
    "from aperturedb.Constraints import Constraints\n",
    "\n",
    "# Create an Images wrapper object\n",
    "images = Images(client)\n",
    "\n",
    "# Search\n",
    "images.search(\n",
    "    constraints=Constraints().equal(\"cuisine\", \"Scottish\"),\n",
    "    limit=3,\n",
    ")\n",
    "\n",
    "# display result\n",
    "images.display()"
   ]
  },
  {
   "cell_type": "markdown",
   "id": "07858c2e-2148-46b8-8d48-408163638825",
   "metadata": {},
   "source": [
    "### b) Find images and information of dishes with butter and chicken in them"
   ]
  },
  {
   "cell_type": "code",
   "execution_count": null,
   "id": "634a865a",
   "metadata": {},
   "outputs": [],
   "source": [
    "from aperturedb.CommonLibrary import create_connector, execute_query\n",
    "from aperturedb.NotebookHelpers import display\n",
    "\n",
    "query = [\n",
    "  { # Find an ingredient with the name \"butter\"\n",
    "    \"FindEntity\": {\n",
    "      \"with_class\": \"Ingredient\",\n",
    "      \"constraints\": {\n",
    "        \"name\": [\n",
    "          \"==\",\n",
    "          \"butter\"\n",
    "        ]\n",
    "      },\n",
    "      \"_ref\": 1, # forward reference\n",
    "    }\n",
    "  },\n",
    "  { # Find an ingredient with the name \"chicken\"\n",
    "    \"FindEntity\": {\n",
    "      \"with_class\": \"Ingredient\",\n",
    "      \"constraints\": {\n",
    "        \"name\": [\n",
    "          \"==\",\n",
    "          \"chicken\"\n",
    "        ]\n",
    "      },\n",
    "      \"_ref\": 2 # forward reference\n",
    "    }\n",
    "  },\n",
    "  { # Find an image connected to both ingredients\n",
    "    \"FindImage\": {\n",
    "      \"blobs\": True,\n",
    "      \"is_connected_to\": {\n",
    "        \"all\": [ # Must be connected to all ingredients\n",
    "          {\n",
    "            \"ref\": 1, # backward reference\n",
    "          },\n",
    "          {\n",
    "            \"ref\": 2, # backward reference\n",
    "          }\n",
    "        ]\n",
    "      },\n",
    "      \"results\": {\n",
    "        \"limit\": 5, # Maximum of five results\n",
    "        \"all_properties\": True # Return all properties\n",
    "      }\n",
    "    }\n",
    "  }\n",
    "]\n",
    "client = create_connector()\n",
    "result, response, blobs = execute_query(client, query, [])\n",
    "\n",
    "# Print the response\n",
    "print(response)\n",
    "\n",
    "# Check if the query was successful\n",
    "if result == 0:\n",
    "  display(blobs)\n"
   ]
  },
  {
   "cell_type": "markdown",
   "id": "db52bad4-6674-4880-b6da-3668e10c5674",
   "metadata": {},
   "source": [
    "### c) Find similar looking dishes to a bread"
   ]
  },
  {
   "cell_type": "code",
   "execution_count": null,
   "id": "a76c1b46",
   "metadata": {},
   "outputs": [],
   "source": [
    "from aperturedb.CommonLibrary import create_connector, execute_query\n",
    "from aperturedb.NotebookHelpers import display\n",
    "import clip\n",
    "import torch\n",
    "\n",
    "device = \"cuda\" if torch.cuda.is_available() else \"cpu\"\n",
    "model, preprocess = clip.load(\"ViT-B/16\", device=device)\n",
    "\n",
    "search_tokens = clip.tokenize([f\"a photo of bread\"]).to(device)\n",
    "search_embeddings = model.encode_text(search_tokens)\n",
    "\n",
    "query = [{\n",
    "    \"FindDescriptor\": {\n",
    "        \"set\": \"ViT-B/16\", # Name of descriptor set to use\n",
    "        \"k_neighbors\": 5, # How many results to return\n",
    "        \"distances\": True, # Also return distances (as _distance property)\n",
    "        \"blobs\": False, # Don't return vectors of matching descriptors\n",
    "        \"_ref\": 1 # forward reference\n",
    "    }\n",
    "}, {\n",
    "    \"FindImage\": {\n",
    "        \"blobs\": True, # Return image binary data\n",
    "        \"is_connected_to\": {\n",
    "            \"ref\": 1 # backward reference\n",
    "        },\n",
    "        \"results\": {\n",
    "            \"all_properties\": True # Return all properties\n",
    "        }\n",
    "    }\n",
    "}]\n",
    "\n",
    "if device == \"cuda\":\n",
    "    search_embeddings = search_embeddings.float()\n",
    "    blobs = search_embeddings[0].cpu().detach().numpy().tobytes()\n",
    "else:\n",
    "    blobs = search_embeddings[0].detach().numpy().tobytes()\n",
    "\n",
    "client = create_connector()\n",
    "result, response, blobs = execute_query(client, query, [blobs])\n",
    "\n",
    "# Print the response\n",
    "print(response)\n",
    "\n",
    "# Check if the query was successful\n",
    "if result == 0:\n",
    "  display(blobs)\n"
   ]
  },
  {
   "cell_type": "markdown",
   "id": "9d1b2123-d702-4c5b-958f-3041c6994657",
   "metadata": {},
   "source": [
    "# What's Next?\n",
    "* Think about how to move from your current data tools to ApertureDB - [learn more](https://docs.aperturedata.io/category/database-concepts) about the unique features and differences\n",
    "* Learn to add and [work with various objects](https://docs.aperturedata.io/category/start-with-basics) in your instance using our Cookbook dataset\n",
    "* [Bulk load](https://docs.aperturedata.io/category/manage-multimodal-datasets) various data types"
   ]
  },
  {
   "cell_type": "code",
   "execution_count": null,
   "id": "6116753e-28a6-4c3e-bd50-b471bd61e8d0",
   "metadata": {},
   "outputs": [],
   "source": []
  }
 ],
 "metadata": {
  "kernelspec": {
   "display_name": "Python 3 (ipykernel)",
   "language": "python",
   "name": "python3"
  },
  "language_info": {
   "codemirror_mode": {
    "name": "ipython",
    "version": 3
   },
   "file_extension": ".py",
   "mimetype": "text/x-python",
   "name": "python",
   "nbconvert_exporter": "python",
   "pygments_lexer": "ipython3",
   "version": "3.10.12"
  }
 },
 "nbformat": 4,
 "nbformat_minor": 5
}
