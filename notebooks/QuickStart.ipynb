{
 "cells": [
  {
   "cell_type": "markdown",
   "id": "32b9643a-ff73-4922-968d-d9fe552946de",
   "metadata": {},
   "source": [
    "# Quick Start\n",
    "\n",
    "In this notebook:\n",
    "* Setup ApertureDB database server \n",
    "* Setup a Google Colab notebook with aperturedb client\n",
    "* Then configure it\n",
    "* Load a dataset ApertureDB server\n",
    "* Query!"
   ]
  },
  {
   "cell_type": "markdown",
   "id": "3e4243ac-d260-419f-9c70-01783965ea44",
   "metadata": {},
   "source": [
    "## 1. Set up the Database\n",
    "\n",
    "ApertureDB is set up as a database (server) and can be accessed from clients anywhere as long as the server is accessible on the network to the client.\n",
    "\n",
    "Sign up for an Aperture [cloud account here](aperturedata.io/cloud) (30 days free trial) or see [other methods here](http://docs.aperturedata.io/category/setup-aperturedb)"
   ]
  },
  {
   "cell_type": "markdown",
   "id": "b69b42ce-36a2-47f6-862a-328d34d2220e",
   "metadata": {},
   "source": [
    "## 2. Set up the Client"
   ]
  },
  {
   "cell_type": "markdown",
   "id": "89cc6b6c-0645-4cba-900c-39a91ff67c71",
   "metadata": {},
   "source": [
    "### a) Launch Colab or Jupyter Server\n",
    "\n",
    "* Run any of our notebooks on Google Colab or your own Jupyter server as indicated from Step 2.b) onwards.\n",
    "* You can use our [pre-configured Jupyter server](https://docs.aperturedata.io/Setup/client/notebooks) (launches on port 8888) which will already have the SDK installed (so you can skip Step 2.b)) by doing:\n",
    "  \n",
    "   **docker run --interactive --tty aperturedata/aperturedb-notebook**"
   ]
  },
  {
   "cell_type": "markdown",
   "id": "517f24d6-1b8c-4fc3-a74b-9ad472c2f194",
   "metadata": {},
   "source": [
    "### b) Install ApertureDB SDK"
   ]
  },
  {
   "cell_type": "code",
   "execution_count": null,
   "id": "5818af15-5f84-4a4a-b00a-a45dca8b17ab",
   "metadata": {},
   "outputs": [],
   "source": [
    "! pip install -q aperturedb"
   ]
  },
  {
   "cell_type": "markdown",
   "id": "b120d0ff-caa9-45c9-a086-5b4f0061b436",
   "metadata": {},
   "source": [
    "### c) Define server configuration\n",
    "\n",
    "**On ApertureDB-Cloud**\n",
    "\n",
    "When you click on Connect for your instance, you can copy the JSON configuration string for your server. It looks like:\n",
    "\n",
    "```javascript\n",
    "{\n",
    "  \"host\": \"localhost\",\n",
    "  \"username\": \"admin\",\n",
    "  \"password\": \"admin\",\n",
    "  .....\n",
    "}\n",
    "```\n",
    "\n",
    "For any other method, the parameters for host will depend on where the database is hosted, default username and password is admin:admin, and the default port that ApertureDB listens on is 55555 (except on Macbooks where we choose a different port like 55557). "
   ]
  },
  {
   "cell_type": "markdown",
   "id": "c4cfb3e2-6419-40b0-8452-563ee0b070cc",
   "metadata": {},
   "source": [
    "### d) For Colab - Add Server Configuration to Secrets\n",
    "\n",
    "The easiest way to configure one or more Colab notebooks to point to the same ApertureDB server is to put the JSON config into a Colab secret.  \n",
    "This secret will persist over kernel restarts and can be used by all of your notebooks, \n",
    "but it will not be exposed if you share your notebook with anyone.\n",
    "\n",
    "![Screenshot of setting a Colab Secret](images/colab-secret.png)\n",
    "\n",
    "1. Click on the key icon at the left of Google Colab to open the Secrets interface.\n",
    "2. Click on \"Add new secret\"\n",
    "3. Ensure that \"Notebook access\" is enabled\n",
    "4. For the name, enter `APERTUREDB_JSON`\n",
    "5. Paste the JSON object into the \"Value\" box."
   ]
  },
  {
   "cell_type": "markdown",
   "id": "e81dc85c-4171-44ed-b638-c0639182c4c8",
   "metadata": {},
   "source": [
    "### e) For Jupyter lab - Run adb config create\n",
    "\n",
    "If there is no active configuration, the new one is used for all future ApertureDB communication but it's easy to switch between servers by activating different configuration profiles created as below:"
   ]
  },
  {
   "cell_type": "code",
   "execution_count": null,
   "id": "315c29a9-c0c6-46f2-b1e9-8fb83fa8785a",
   "metadata": {},
   "outputs": [
    {
     "name": "stdout",
     "output_type": "stream",
     "text": [
      "Enter aperturedb host name [localhost]: "
     ]
    }
   ],
   "source": [
    "! adb config create my_adb_config"
   ]
  },
  {
   "cell_type": "markdown",
   "id": "1bdcdb1e-79e7-4c2a-b003-b2ba45d5b8e9",
   "metadata": {},
   "source": [
    "## 3. Connect ApertureDB Client and Server\n",
    "\n",
    "As a demonstration that you have connected to the server successfully, let's see a summary of the database schema.  \n",
    "The first time you do this, you may need to grant permission for this notebook to access your secrets."
   ]
  },
  {
   "cell_type": "code",
   "execution_count": null,
   "id": "de6844e9-d9c1-4963-8c1c-b375d024c5a0",
   "metadata": {},
   "outputs": [],
   "source": [
    "from aperturedb.Utils import Utils\n",
    "from aperturedb.CommonLibrary import create_connector\n",
    "\n",
    "# Create the connector for ApertureDB\n",
    "connector = create_connector()"
   ]
  },
  {
   "cell_type": "code",
   "execution_count": null,
   "id": "6f44e76d-85ad-4104-a3b2-0eb115cf50ae",
   "metadata": {},
   "outputs": [],
   "source": [
    "# Use the connector to create a Utils object and print the summary\n",
    "utils = Utils(connector)\n",
    "utils.summary()"
   ]
  },
  {
   "cell_type": "markdown",
   "id": "06e0b4f5-24a4-432a-a150-e0a27e6c3960",
   "metadata": {},
   "source": [
    "## 4. Ingest Our Example Cookbook Data\n",
    "\n",
    "* [Git Repository](https://github.com/aperture-data/Cookbook)\n",
    "* [More details on how to ingest](https://docs.aperturedata.io/category/manage-multimodal-datasets)"
   ]
  },
  {
   "cell_type": "code",
   "execution_count": null,
   "id": "4fc799eb-142a-4ba2-9de3-ef4630ba0644",
   "metadata": {},
   "outputs": [],
   "source": [
    "! wget https://github.com/aperture-data/Cookbook/blob/quick_start/notebooks/load_cookbook_data.sh\n",
    "! bash ingest_cookbook_data.sh"
   ]
  },
  {
   "cell_type": "markdown",
   "id": "cb68504a-1850-48cc-99ce-ab68f2757091",
   "metadata": {},
   "source": [
    "## 5. Run Queries!"
   ]
  },
  {
   "cell_type": "markdown",
   "id": "1e30006e-a38f-4eb5-816f-c5b006fc3e0a",
   "metadata": {},
   "source": [
    "### a) Find images of dishes served for breakfast"
   ]
  },
  {
   "cell_type": "markdown",
   "id": "07858c2e-2148-46b8-8d48-408163638825",
   "metadata": {},
   "source": [
    "### b) Find images and information of dishes with butter and chicken in them"
   ]
  },
  {
   "cell_type": "markdown",
   "id": "db52bad4-6674-4880-b6da-3668e10c5674",
   "metadata": {},
   "source": [
    "### c) Find similar looking dishes to a bread"
   ]
  },
  {
   "cell_type": "code",
   "execution_count": null,
   "id": "de995e4f-031c-4f86-852a-b060e07aa98f",
   "metadata": {},
   "outputs": [],
   "source": []
  }
 ],
 "metadata": {
  "kernelspec": {
   "display_name": "Python 3 (ipykernel)",
   "language": "python",
   "name": "python3"
  },
  "language_info": {
   "codemirror_mode": {
    "name": "ipython",
    "version": 3
   },
   "file_extension": ".py",
   "mimetype": "text/x-python",
   "name": "python",
   "nbconvert_exporter": "python",
   "pygments_lexer": "ipython3",
   "version": "3.10.12"
  }
 },
 "nbformat": 4,
 "nbformat_minor": 5
}
