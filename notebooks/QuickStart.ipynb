{
 "cells": [
  {
   "cell_type": "markdown",
   "id": "32b9643a-ff73-4922-968d-d9fe552946de",
   "metadata": {},
   "source": [
    "# Quick Start\n",
    "\n",
    "In this notebook:\n",
    "* Setup ApertureDB database server \n",
    "* Setup a Google Colab notebook with aperturedb client\n",
    "* Then configure it\n",
    "* Load a dataset ApertureDB server\n",
    "* Query!"
   ]
  },
  {
   "cell_type": "markdown",
   "id": "3e4243ac-d260-419f-9c70-01783965ea44",
   "metadata": {},
   "source": [
    "## 1. Set up the Database\n",
    "\n",
    "ApertureDB is set up as a database (server) and can be accessed from clients anywhere as long as the server is accessible on the network to the client.\n",
    "\n",
    "Sign up for an Aperture [cloud account here](https://aperturedata.io/cloud) (30 days free trial) or see [other methods here](http://docs.aperturedata.io/category/setup-server)"
   ]
  },
  {
   "cell_type": "markdown",
   "id": "b69b42ce-36a2-47f6-862a-328d34d2220e",
   "metadata": {},
   "source": [
    "## 2. Set up the Client"
   ]
  },
  {
   "cell_type": "markdown",
   "id": "89cc6b6c-0645-4cba-900c-39a91ff67c71",
   "metadata": {},
   "source": [
    "### a) Launch Colab or Jupyter Server\n",
    "\n",
    "* Run any of our notebooks on Google Colab or your own Jupyter server as indicated from Step 2.b) onwards.\n",
    "* You can use our [pre-configured Jupyter server](https://docs.aperturedata.io/Setup/client/notebooks?notebooks=notebook) \n",
    "* This jupyter lab launches on port 8888 which will already have the SDK installed.\n",
    "  \n",
    "```bash\n",
    "docker run --interactive --tty aperturedata/aperturedb-notebook\n",
    "```"
   ]
  },
  {
   "cell_type": "markdown",
   "id": "517f24d6-1b8c-4fc3-a74b-9ad472c2f194",
   "metadata": {},
   "source": [
    "### b) Install ApertureDB SDK"
   ]
  },
  {
   "cell_type": "code",
   "execution_count": null,
   "id": "5818af15-5f84-4a4a-b00a-a45dca8b17ab",
   "metadata": {},
   "outputs": [],
   "source": [
    "%pip install --quiet --upgrade aperturedb"
   ]
  },
  {
   "cell_type": "markdown",
   "id": "b120d0ff-caa9-45c9-a086-5b4f0061b436",
   "metadata": {},
   "source": [
    "### c) Define server configuration\n",
    "\n",
    "**On ApertureDB-Cloud**\n",
    "\n",
    "When you click on Connect for your instance, you can copy the JSON configuration string for your server. It looks like:\n",
    "\n",
    "![cloud](images/connect_on_cloud.png)\n",
    "![connect](images/connect_json.png)\n",
    "\n",
    "```javascript title=\"template only. Use actual values\"\n",
    "{\n",
    "  \"host\": \"<hostname>\",\n",
    "  \"port\": 55555,\n",
    "  \"username\": \"admin\",\n",
    "  \"password\": \"[User enters passwd here]\",\n",
    "  \"name\": \"demo\",\n",
    "  \"use_ssl\": true,\n",
    "  \"use_rest\": false,\n",
    "  \"use_keepalive\": true,\n",
    "  \"retry_interval_seconds\": 1,\n",
    "  \"retry_max_attempts\": 3\n",
    "}\n",
    "```\n",
    "\n",
    "> **Information**\n",
    ">\n",
    "> For any other method, the parameters for `host` will depend on where the database is hosted.\n",
    ">\n",
    "> Default username:password values are `admin`:`admin`.\n",
    ">\n",
    "> Default `port` that ApertureDB listens on is `55555` (on linux) or `55557` (on MacOS)."
   ]
  },
  {
   "cell_type": "markdown",
   "id": "c4cfb3e2-6419-40b0-8452-563ee0b070cc",
   "metadata": {},
   "source": [
    "### d) For Colab - Add Server Configuration to Secrets\n",
    "\n",
    "The easiest way to configure one or more Colab notebooks to point to the same ApertureDB server is to put the JSON config into a Colab secret.\n",
    "\n",
    "This secret will persist over runtime restarts and can be used by all of your notebooks, but it will not be exposed if you share your notebook with anyone.\n",
    "\n",
    "![Screenshot of setting a Colab Secret](images/colab-secret.png)\n",
    "\n",
    "1. Click on the key icon at the left of Google Colab to open the Secrets interface.\n",
    "2. Click on \"Add new secret\"\n",
    "3. Ensure that \"Notebook access\" is enabled\n",
    "4. For the name, enter `APERTUREDB_JSON`\n",
    "5. Paste the JSON object into the \"Value\" box."
   ]
  },
  {
   "cell_type": "markdown",
   "id": "e81dc85c-4171-44ed-b638-c0639182c4c8",
   "metadata": {},
   "source": [
    "### e) For Jupyter lab - Run adb config create\n",
    "\n",
    "If there is no active configuration, a new one needs to be created as a one time setup. It's interactive and will ask you for the parameters needed to create a connection.\n",
    "\n",
    "It will used for all subsequent ApertureDB connections and the command line utility `adb` has an easy command switch between instances."
   ]
  },
  {
   "cell_type": "code",
   "execution_count": null,
   "id": "315c29a9-c0c6-46f2-b1e9-8fb83fa8785a",
   "metadata": {},
   "outputs": [],
   "source": [
    "# Change Port to 55557 for a Mac installation of ApertureDB\n",
    "! adb config create my_adb_config --host \"localhost\" --port 55555 --username \"admin\" --password \"temp_password\" --no-interactive"
   ]
  },
  {
   "cell_type": "markdown",
   "id": "1bdcdb1e-79e7-4c2a-b003-b2ba45d5b8e9",
   "metadata": {},
   "source": [
    "## 3. Connect ApertureDB Client and Server\n",
    "\n",
    "As a demonstration that you have connected to the server successfully, let's see a summary of the database schema.  \n",
    "The first time you do this, you may need to grant permission for this notebook to access your secrets."
   ]
  },
  {
   "cell_type": "code",
   "execution_count": null,
   "id": "de6844e9-d9c1-4963-8c1c-b375d024c5a0",
   "metadata": {},
   "outputs": [],
   "source": [
    "from aperturedb.Utils import Utils\n",
    "from aperturedb.CommonLibrary import create_connector\n",
    "\n",
    "# Create the connector for ApertureDB\n",
    "client = create_connector()\n",
    "\n",
    "# Use the connector to create a Utils object and print the summary\n",
    "utils = Utils(client)\n",
    "utils.summary()"
   ]
  },
  {
   "cell_type": "markdown",
   "id": "06e0b4f5-24a4-432a-a150-e0a27e6c3960",
   "metadata": {},
   "source": [
    "## 4. Ingest Our Example Cookbook Data\n",
    "\n",
    ">**Cookbook Dataset** is a dataset comprising of Dishes(their photos, descriptions), mapped to the constituent main ingredients.\n",
    ">\n",
    ">It is a small Dataset built to show the capabilities of ApertureDB.\n",
    "\n",
    "* [Cookbook Dataset](https://docs.google.com/spreadsheets/d/1G1HPG3Dxx5W39OD6b74wMHvWupD7N-DLUbV7tD5owx8/edit?gid=0#gid=0)\n",
    "* [Git Repository](https://github.com/aperture-data/Cookbook)\n",
    "* [More details on how to ingest](https://docs.aperturedata.io/HowToGuides/Ingestion/Ingestion/Examples/Loading_CSVParsers)"
   ]
  },
  {
   "cell_type": "code",
   "execution_count": null,
   "id": "4fc799eb-142a-4ba2-9de3-ef4630ba0644",
   "metadata": {},
   "outputs": [],
   "source": [
    "! wget https://github.com/aperture-data/Cookbook/raw/refs/heads/main/scripts/load_cookbook_data.sh\n",
    "! bash load_cookbook_data.sh\n",
    "\n",
    "\n",
    "from aperturedb.cli.ingest import from_csv, TransformerType, IngestType\n",
    "\n",
    "from_csv(\n",
    "    filepath=\"data/dishes.adb.csv\",\n",
    "    ingest_type=IngestType.IMAGE,\n",
    "    transformer=[\n",
    "      TransformerType.clip_pytorch_embeddings,\n",
    "      TransformerType.image_properties,\n",
    "      TransformerType.common_properties]\n",
    "    )\n",
    "\n",
    "from_csv(\n",
    "    filepath=\"data/ingredients.adb.csv\",\n",
    "    ingest_type=IngestType.ENTITY,\n",
    ")\n",
    "\n",
    "from_csv(\n",
    "    filepath=\"data/dish_ingredients.adb.csv\",\n",
    "    ingest_type=IngestType.CONNECTION,\n",
    ")"
   ]
  },
  {
   "cell_type": "markdown",
   "id": "cb68504a-1850-48cc-99ce-ab68f2757091",
   "metadata": {},
   "source": [
    "## 5. Run Queries!"
   ]
  },
  {
   "cell_type": "markdown",
   "id": "1e30006e-a38f-4eb5-816f-c5b006fc3e0a",
   "metadata": {},
   "source": [
    "### a) Find images of dishes from Scottish Cuisine\n",
    "\n",
    "For this simple query, we are able to use an object wrapper class."
   ]
  },
  {
   "cell_type": "code",
   "execution_count": null,
   "id": "5447cc69",
   "metadata": {},
   "outputs": [],
   "source": [
    "from aperturedb.Images import Images\n",
    "from aperturedb.Constraints import Constraints\n",
    "\n",
    "# Create an Images wrapper object\n",
    "images = Images(client)\n",
    "\n",
    "# Search\n",
    "images.search(\n",
    "    constraints=Constraints().equal(\"cuisine\", \"Scottish\"),\n",
    "    limit=3,\n",
    ")\n",
    "\n",
    "# display result\n",
    "images.display()"
   ]
  },
  {
   "cell_type": "markdown",
   "id": "07858c2e-2148-46b8-8d48-408163638825",
   "metadata": {},
   "source": [
    "### b) Find images and information of dishes with butter and chicken in them"
   ]
  },
  {
   "cell_type": "code",
   "execution_count": null,
   "id": "634a865a",
   "metadata": {},
   "outputs": [],
   "source": [
    "from aperturedb.CommonLibrary import create_connector, execute_query\n",
    "from aperturedb.NotebookHelpers import display\n",
    "\n",
    "query = [\n",
    "  {\n",
    "    \"FindEntity\": {\n",
    "      \"with_class\": \"Ingredient\",\n",
    "      \"constraints\": {\n",
    "        \"name\": [\n",
    "          \"==\",\n",
    "          \"butter\"\n",
    "        ]\n",
    "      },\n",
    "      \"_ref\": 1,\n",
    "    }\n",
    "  },\n",
    "  {\n",
    "    \"FindEntity\": {\n",
    "      \"with_class\": \"Ingredient\",\n",
    "      \"constraints\": {\n",
    "        \"name\": [\n",
    "          \"==\",\n",
    "          \"chicken\"\n",
    "        ]\n",
    "      },\n",
    "      \"_ref\": 2\n",
    "    }\n",
    "  },\n",
    "  {\n",
    "    \"FindImage\": {\n",
    "      \"blobs\": True,\n",
    "      \"is_connected_to\": {\n",
    "        \"all\": [\n",
    "          {\n",
    "            \"ref\": 1,\n",
    "          },\n",
    "          {\n",
    "            \"ref\": 2,\n",
    "          }\n",
    "        ]\n",
    "      },\n",
    "      \"results\": {\n",
    "        \"limit\": 5,\n",
    "        \"all_properties\": True\n",
    "      }\n",
    "    }\n",
    "  }\n",
    "]\n",
    "client = create_connector()\n",
    "result, response, blobs = execute_query(client, query, [])\n",
    "\n",
    "# Print the response\n",
    "print(response)\n",
    "\n",
    "# Check if the query was successful\n",
    "if result == 0:\n",
    "  display(blobs)\n"
   ]
  },
  {
   "cell_type": "markdown",
   "id": "db52bad4-6674-4880-b6da-3668e10c5674",
   "metadata": {},
   "source": [
    "### c) Find similar looking dishes to a bread"
   ]
  },
  {
   "cell_type": "code",
   "execution_count": null,
   "id": "a76c1b46",
   "metadata": {},
   "outputs": [],
   "source": [
    "from aperturedb.CommonLibrary import create_connector, execute_query\n",
    "from aperturedb.NotebookHelpers import display\n",
    "import clip\n",
    "import torch\n",
    "\n",
    "device = \"cuda\" if torch.cuda.is_available() else \"cpu\"\n",
    "model, preprocess = clip.load(\"ViT-B/16\", device=device)\n",
    "\n",
    "search_tokens = clip.tokenize([f\"a photo of bread\"]).to(device)\n",
    "search_embeddings = model.encode_text(search_tokens)\n",
    "\n",
    "query = [{\n",
    "    \"FindDescriptor\": {\n",
    "        \"set\": \"ViT-B/16\",\n",
    "        \"k_neighbors\": 5,\n",
    "        \"distances\": True,\n",
    "        \"blobs\": False,\n",
    "        \"_ref\": 1\n",
    "    }\n",
    "}, {\n",
    "    \"FindImage\": {\n",
    "        \"_ref\": 2,\n",
    "        \"blobs\": True,\n",
    "        \"is_connected_to\": {\n",
    "            \"ref\": 1\n",
    "        },\n",
    "        \"results\": {\n",
    "            \"all_properties\": True\n",
    "        }\n",
    "    }\n",
    "}]\n",
    "\n",
    "if device == \"cuda\":\n",
    "    search_embeddings = search_embeddings.float()\n",
    "    blobs = search_embeddings[0].cpu().detach().numpy().tobytes()\n",
    "else:\n",
    "    blobs = search_embeddings[0].detach().numpy().tobytes()\n",
    "\n",
    "client = create_connector()\n",
    "result, response, blobs = execute_query(client, query, [blobs])\n",
    "\n",
    "# Print the response\n",
    "print(response)\n",
    "\n",
    "# Check if the query was successful\n",
    "if result == 0:\n",
    "  display(blobs)\n"
   ]
  },
  {
   "cell_type": "markdown",
   "id": "9d1b2123-d702-4c5b-958f-3041c6994657",
   "metadata": {},
   "source": [
    "# What's Next?\n",
    "* Think about how to move from your current data tools to ApertureDB - [learn more](https://docs.aperturedata.io/category/database-concepts) about the unique features and differences\n",
    "* Learn to add and [work with various objects](https://docs.aperturedata.io/category/start-with-basics) in your instance using our Cookbook dataset\n",
    "* [Bulk load](https://docs.aperturedata.io/category/manage-multimodal-datasets) various data types"
   ]
  },
  {
   "cell_type": "code",
   "execution_count": null,
   "id": "6116753e-28a6-4c3e-bd50-b471bd61e8d0",
   "metadata": {},
   "outputs": [],
   "source": []
  }
 ],
 "metadata": {
  "kernelspec": {
   "display_name": "Python 3 (ipykernel)",
   "language": "python",
   "name": "python3"
  },
  "language_info": {
   "codemirror_mode": {
    "name": "ipython",
    "version": 3
   },
   "file_extension": ".py",
   "mimetype": "text/x-python",
   "name": "python",
   "nbconvert_exporter": "python",
   "pygments_lexer": "ipython3",
   "version": "3.10.12"
  }
 },
 "nbformat": 4,
 "nbformat_minor": 5
}
