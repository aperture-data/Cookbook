{
 "cells": [
  {
   "cell_type": "markdown",
   "id": "32b9643a-ff73-4922-968d-d9fe552946de",
   "metadata": {},
   "source": [
    "# Quick Start\n",
    "\n",
    "**Pre-requisite**\n",
    "Set up an [instance of ApertureDB](http://docs.aperturedata.io/category/setup-aperturedb)\n",
    "\n",
    "In this notebook:\n",
    "* Set up a Google Colab notebook with aperturedb client\n",
    "* Then configure it\n",
    "* Load a dataset ApertureDB server\n",
    "* Query!"
   ]
  },
  {
   "cell_type": "markdown",
   "id": "517f24d6-1b8c-4fc3-a74b-9ad472c2f194",
   "metadata": {},
   "source": [
    "## Install ApertureDB SDK\n",
    "\n",
    "You may see a warning about some versions of the `typer` library.  This is not harmful and can be safely ignored."
   ]
  },
  {
   "cell_type": "code",
   "execution_count": null,
   "id": "5818af15-5f84-4a4a-b00a-a45dca8b17ab",
   "metadata": {},
   "outputs": [],
   "source": [
    "! pip install -q aperturedb"
   ]
  },
  {
   "cell_type": "markdown",
   "id": "b120d0ff-caa9-45c9-a086-5b4f0061b436",
   "metadata": {},
   "source": [
    "## Get server configuration\n",
    "\n",
    "You should have received configuration information for your server, which must be configured as a JSON object.  Here is an example.\n",
    "\n",
    "```javascript\n",
    "{\n",
    "  \"host\": \"localhost\",\n",
    "  \"username\": \"admin\",\n",
    "  \"password\": \"admin\"\n",
    "}\n",
    "```"
   ]
  },
  {
   "cell_type": "markdown",
   "id": "c4cfb3e2-6419-40b0-8452-563ee0b070cc",
   "metadata": {},
   "source": [
    "## Create and activate server configuration\n",
    "\n",
    "The following code will request the server configuration in a password box, create a configuration for it called `notebook`, and activate it.  Because this uses `getpass`, your secret information will be not be shown on-screen."
   ]
  },
  {
   "cell_type": "code",
   "execution_count": null,
   "id": "0548d6e6-1c99-40a9-9931-510f811747a3",
   "metadata": {},
   "outputs": [],
   "source": [
    "config_name = \"notebook\"\n",
    "print(\"Enter configuration JSON (will show as stars for security)\")\n",
    "import json\n",
    "from getpass import getpass\n",
    "from aperturedb.Utils import create_connector, Utils\n",
    "config = json.loads(getpass())\n",
    "args = \" \".join([f\"--{k} {v}\" for k, v in config.items()])\n",
    "! adb config create --active {config_name} --no-interactive {args}\n",
    "connector = create_connector()\n",
    "utils = Utils(connector)"
   ]
  },
  {
   "cell_type": "markdown",
   "id": "1bdcdb1e-79e7-4c2a-b003-b2ba45d5b8e9",
   "metadata": {},
   "source": [
    "## Use the server\n",
    "\n",
    "As a demonstration that the server has been connected successfully, we'll show a summary of the database schema."
   ]
  },
  {
   "cell_type": "code",
   "execution_count": null,
   "id": "de6844e9-d9c1-4963-8c1c-b375d024c5a0",
   "metadata": {},
   "outputs": [],
   "source": [
    "utils.summary()"
   ]
  }
 ],
 "metadata": {
  "kernelspec": {
   "display_name": "Python 3 (ipykernel)",
   "language": "python",
   "name": "python3"
  },
  "language_info": {
   "codemirror_mode": {
    "name": "ipython",
    "version": 3
   },
   "file_extension": ".py",
   "mimetype": "text/x-python",
   "name": "python",
   "nbconvert_exporter": "python",
   "pygments_lexer": "ipython3",
   "version": "3.10.12"
  }
 },
 "nbformat": 4,
 "nbformat_minor": 5
}
