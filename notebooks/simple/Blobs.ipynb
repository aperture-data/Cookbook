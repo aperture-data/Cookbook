{
 "cells": [
  {
   "cell_type": "markdown",
   "id": "f3aa1ed0-d54f-4d76-8fb2-324cb41c754e",
   "metadata": {},
   "source": [
    "# Work with Text,PDFs,Audio,Blobs...\n",
    "\n",
    "**[Blob](https://docs.aperturedata.io/category/blob-commands) is how we can store any object like a text file, audio file, PDF, or another modality not yet specially recognized in ApertureDB and the query language allows you to directly add, find, update, and delete blob.**"
   ]
  },
  {
   "cell_type": "markdown",
   "id": "53a3c764-0b7c-4b94-9d80-4c456a9eccd7",
   "metadata": {},
   "source": [
    "## Connect to the database\n",
    "\n",
    "If you haven't already setup the database or configured it, check out our [quick start guide](https://docs.aperturedata.io/Setup/Quick%20Start)"
   ]
  },
  {
   "cell_type": "code",
   "execution_count": 1,
   "id": "3e91d4e4-38fa-430d-ae4a-f8e8871467e4",
   "metadata": {},
   "outputs": [],
   "source": [
    "from aperturedb.CommonLibrary import create_connector\n",
    "\n",
    "# Create the connector for ApertureDB\n",
    "client = create_connector()"
   ]
  },
  {
   "cell_type": "code",
   "execution_count": 2,
   "id": "9728df50-38c3-4c00-93dc-1e6c9bac91ee",
   "metadata": {},
   "outputs": [
    {
     "name": "stdout",
     "output_type": "stream",
     "text": [
      "[\n",
      "    {\n",
      "        \"GetStatus\": {\n",
      "            \"info\": \"OK\",\n",
      "            \"status\": 0,\n",
      "            \"system\": \"ApertureDB\",\n",
      "            \"version\": \"0.17.23\"\n",
      "        }\n",
      "    }\n",
      "]\n"
     ]
    }
   ],
   "source": [
    "# Simple query to see how the database is doing\n",
    "# https://docs.aperturedata.io/query_language/Reference/db_commands/GetStatus\n",
    "query = [{\n",
    "    \"GetStatus\": {\n",
    "    }\n",
    "}]\n",
    "\n",
    "# Execute the query to get back a JSON response for GetStatus \n",
    "response, blobs = client.query(query)\n",
    "\n",
    "client.print_last_response()"
   ]
  },
  {
   "cell_type": "markdown",
   "id": "6e1e7a7e-6509-4ee8-82b3-ccd539320dfa",
   "metadata": {},
   "source": [
    "## Create or Add a Recipe to ApertureDB\n",
    "\n",
    "Let's say we want to add a recipe text file (this could be a property in an entity if small). One way to introduce new text in the database is through our query language\n",
    "\n",
    "**For bulk additions, we recommend using the [Python SDK loaders](http://docs.aperturedata.io/category/manage-multimodal-datasets)**"
<<<<<<< Updated upstream
=======
   ]
  },
  {
   "cell_type": "code",
   "execution_count": null,
   "id": "588d2c71-ace1-498d-82a2-37c912ad9921",
   "metadata": {},
   "outputs": [],
   "source": [
    "# Download the sample file\n",
    "! mkdir -p data; cd data; wget https://github.com/aperture-data/Cookbook/blob/e333f6c59070b9165033d9ddd5af852a6b9624ba/notebooks/simple/data/baked_potato.txt; cd -"
>>>>>>> Stashed changes
   ]
  },
  {
   "cell_type": "code",
   "execution_count": 3,
   "id": "5b168c6d",
   "metadata": {
    "tags": []
   },
   "outputs": [
    {
     "name": "stdout",
     "output_type": "stream",
     "text": [
      "[\n",
      "    {\n",
      "        \"AddBlob\": {\n",
      "            \"status\": 0\n",
      "        }\n",
      "    }\n",
      "]\n"
     ]
    }
   ],
   "source": [
    "query = [{\n",
    "    \"AddBlob\": {\n",
    "        # Notice the missing \"class\" property since we are adding it as a blob (represented as _Blob in ApertureDB)\n",
    "        \"properties\": {\n",
    "            \"type\": \"text\",                 # since blobs can be of different types like audio, pdf, etc, we can make that explicit          \n",
    "            \"name\": \"baked_potato\",\n",
    "            \"id\": 55,\n",
    "            \"category\": \"sides\",\n",
    "            \"cuisine\": \"American\",\n",
    "            \"caption\": \"Special baked potatoes\"\n",
    "        },\n",
    "        \"if_not_found\": {                  # avoid adding twice\n",
    "            \"id\": [\"==\", 55]\n",
    "        }\n",
    "    }\n",
    "}]\n",
    "\n",
    "# Read the image data as a binary blob\n",
    "fd = open(\"data/baked_potato.txt\", 'rb')\n",
    "array = [ fd.read() ]\n",
    "fd.close()\n",
    "\n",
    "response, blobs = client.query(query, array)\n",
    "\n",
    "client.print_last_response()"
   ]
  },
  {
   "cell_type": "markdown",
   "id": "c267cd0f-c173-42c7-8013-21962133cb63",
   "metadata": {},
   "source": [
    "## Query blob by its metadata attributes\n",
    "\n",
    "Verify this Blob was added to the database and read all the property values"
   ]
  },
  {
   "cell_type": "code",
   "execution_count": 4,
   "id": "8ec11ff5-8e69-4131-ba57-70ce40366eb0",
   "metadata": {
    "tags": []
   },
   "outputs": [
    {
     "name": "stdout",
     "output_type": "stream",
     "text": [
      "[\n",
      "    {\n",
      "        \"FindBlob\": {\n",
      "            \"blobs_start\": 0,\n",
      "            \"entities\": [\n",
      "                {\n",
      "                    \"_blob_index\": 0,\n",
<<<<<<< Updated upstream
      "                    \"_uniqueid\": \"11.29.223960\",\n",
=======
      "                    \"_uniqueid\": \"11.29.224580\",\n",
>>>>>>> Stashed changes
      "                    \"caption\": \"Special baked potatoes\",\n",
      "                    \"category\": \"sides\",\n",
      "                    \"cuisine\": \"American\",\n",
      "                    \"id\": 55,\n",
      "                    \"name\": \"baked_potato\",\n",
      "                    \"type\": \"text\"\n",
      "                }\n",
      "            ],\n",
      "            \"returned\": 1,\n",
      "            \"status\": 0\n",
      "        }\n",
      "    }\n",
      "]\n",
      "Perfect Baked Potato\n",
      "Cook Time: 1 hour hr\n",
      "Serves 4\n",
      "Bake a potato perfectly every time! With the olive oil & sea salt coating, it'll come out of the oven with crispy skin and fluffy insides that are delicious with your favorite toppings.\n",
      "Equipment\n",
      "\n",
      "    Baking Sheets (I use these nonstick ones from USA Pan Bakeware!)\n",
      "    Parchment Paper (this one doesn't burn)\n",
      "\n",
      "Ingredients\n",
      "\n",
      "    4 medium russet potatoes\n",
      "    Extra-virgin olive oil\n",
      "    Sea salt\n",
      "\n",
      "Instructions\n",
      "\n",
      "    Preheat the oven to 425°F and line a baking sheet with parchment paper.\n",
      "    Use a fork to poke a few holes into the potatoes. Place on the baking sheet, rub with olive oil, and sprinkle liberally with sea salt all over. Bake 45 to 60 minutes, or until the potato is fork-tender and the skin is crisp.\n",
      "    Slice open each potato, fluff the insides, and serve with desired toppings.\n"
     ]
    }
   ],
   "source": [
    "from aperturedb import NotebookHelpers as nh   # Our helper package for image displays and other utilities\n",
    "\n",
    "query = [{\n",
    "    \"FindBlob\": {\n",
    "        \"constraints\": {\n",
    "            \"name\": [\">=\", \"baked\"],\n",
    "            \"type\": [\"==\", \"text\"] \n",
    "        },\n",
    "        \"blobs\": True,                          # This is set to False by default\n",
    "        \"results\": {\n",
    "            \"all_properties\": True\n",
    "        }\n",
    "    }\n",
    "}]\n",
    "\n",
    "response, blobs = client.query(query)\n",
    "\n",
    "client.print_last_response()\n",
    "num_blobs = response[0][\"FindBlob\"][\"returned\"]\n",
    "for count in range(num_blobs):\n",
    "    print(blobs[count].decode())"
   ]
  },
  {
   "cell_type": "markdown",
   "id": "8e165690-4a56-4e14-9e42-600a587d276f",
   "metadata": {},
   "source": [
    "## Update properties of the blob already in ApertureDB\n",
    "\n",
    "Use [UpdateBlob](https://docs.aperturedata.io/query_language/Reference/blob_commands/UpdateBlob) if any of the attributes need a new value or your application now needs a new attribute in existing blobs"
   ]
  },
  {
   "cell_type": "code",
   "execution_count": 5,
   "id": "670ce0d6",
   "metadata": {
    "tags": []
   },
   "outputs": [
    {
     "name": "stdout",
     "output_type": "stream",
     "text": [
      "[\n",
      "    {\n",
      "        \"UpdateBlob\": {\n",
      "            \"count\": 1,\n",
      "            \"status\": 0\n",
      "        }\n",
      "    }\n",
      "]\n"
     ]
    }
   ],
   "source": [
    "query = [{\n",
    "    \"UpdateBlob\": {\n",
    "        \"properties\": {\n",
    "            \"contributor\": \"Gavin\"     # property will get added if missing or the value will be updated\n",
    "        },\n",
    "        \"constraints\": {\n",
    "            \"name\": [\"==\", \"baked_potato\"]\n",
    "        },\n",
    "    }\n",
    "}]\n",
    "\n",
    "response, blobs = client.query(query)\n",
    "\n",
    "client.print_last_response()"
   ]
  },
  {
   "cell_type": "code",
   "execution_count": 6,
   "id": "ce5a4626",
   "metadata": {
    "tags": []
   },
   "outputs": [
    {
     "name": "stdout",
     "output_type": "stream",
     "text": [
      "[\n",
      "    {\n",
      "        \"FindBlob\": {\n",
      "            \"entities\": [\n",
      "                {\n",
<<<<<<< Updated upstream
      "                    \"_uniqueid\": \"11.29.223960\",\n",
=======
      "                    \"_uniqueid\": \"11.29.224580\",\n",
>>>>>>> Stashed changes
      "                    \"caption\": \"Special baked potatoes\",\n",
      "                    \"category\": \"sides\",\n",
      "                    \"contributor\": \"Gavin\",\n",
      "                    \"cuisine\": \"American\",\n",
      "                    \"id\": 55,\n",
      "                    \"name\": \"baked_potato\",\n",
      "                    \"type\": \"text\"\n",
      "                }\n",
      "            ],\n",
      "            \"returned\": 1,\n",
      "            \"status\": 0\n",
      "        }\n",
      "    }\n",
      "]\n"
     ]
    }
   ],
   "source": [
    "query = [{\n",
    "    \"FindBlob\": {\n",
    "        \"constraints\": {\n",
    "            \"name\": [\"==\", \"baked_potato\"]\n",
    "        },\n",
    "        \"results\": {\n",
    "            \"all_properties\": True\n",
    "        }\n",
    "    }\n",
    "}]\n",
    "\n",
    "response, blobs = client.query(query)\n",
    "\n",
    "client.print_last_response()"
   ]
  },
  {
   "cell_type": "markdown",
   "id": "523fad8a-aead-449e-8e34-582df15dabfa",
   "metadata": {},
   "source": [
    "## Delete the blob we no longer need"
   ]
  },
  {
   "cell_type": "code",
   "execution_count": 7,
   "id": "dadbcbbd-4063-45ac-b68a-c4348c4d5270",
   "metadata": {
    "tags": []
   },
   "outputs": [
    {
     "name": "stdout",
     "output_type": "stream",
     "text": [
      "[\n",
      "    {\n",
      "        \"DeleteBlob\": {\n",
      "            \"count\": 1,\n",
      "            \"status\": 0\n",
      "        }\n",
      "    }\n",
      "]\n"
     ]
    }
   ],
   "source": [
    "query = [{\n",
    "    \"DeleteBlob\": {\n",
    "        \"constraints\": {\n",
    "            \"name\": [\"==\", \"baked_potato\"]     # if this matches multiple videos, they will all be deleted\n",
    "        }\n",
    "    }\n",
    "}]\n",
    "\n",
    "response, blobs = client.query(query)\n",
    "\n",
    "client.print_last_response()"
   ]
  },
  {
   "cell_type": "markdown",
   "id": "2bee265f-3016-422c-9d17-d69a2712916e",
   "metadata": {},
   "source": [
    "### Verify deletion\n",
    "\n",
    "We can verify that the blob is not longer in the database."
   ]
  },
  {
   "cell_type": "code",
   "execution_count": 8,
   "id": "1a463c87-25b2-4c7a-a5c4-62ec52ec03e8",
   "metadata": {
    "tags": []
   },
   "outputs": [
    {
     "name": "stdout",
     "output_type": "stream",
     "text": [
      "[\n",
      "    {\n",
      "        \"FindBlob\": {\n",
      "            \"returned\": 0,\n",
      "            \"status\": 0\n",
      "        }\n",
      "    }\n",
      "]\n"
     ]
    }
   ],
   "source": [
    "query = [{\n",
    "    \"FindBlob\": {\n",
    "        \"constraints\": {\n",
    "            \"name\": [\"==\", \"baked_potato\"]\n",
    "        },\n",
    "        \"results\": {\n",
    "            \"all_properties\": True\n",
    "        }\n",
    "    }\n",
    "}]\n",
    "\n",
    "response, blobs = client.query(query)\n",
    "\n",
    "client.print_last_response()"
   ]
  },
  {
   "cell_type": "code",
   "execution_count": null,
   "id": "76ff9531-73ec-4d4d-9504-4528179d43a3",
   "metadata": {},
   "outputs": [],
   "source": []
  }
 ],
 "metadata": {
  "kernelspec": {
   "display_name": "Python 3 (ipykernel)",
   "language": "python",
   "name": "python3"
  },
  "language_info": {
   "codemirror_mode": {
    "name": "ipython",
    "version": 3
   },
   "file_extension": ".py",
   "mimetype": "text/x-python",
   "name": "python",
   "nbconvert_exporter": "python",
   "pygments_lexer": "ipython3",
   "version": "3.10.12"
  }
 },
 "nbformat": 4,
 "nbformat_minor": 5
}
