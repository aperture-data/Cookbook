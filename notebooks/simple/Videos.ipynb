{
 "cells": [
  {
   "cell_type": "markdown",
   "id": "f3aa1ed0-d54f-4d76-8fb2-324cb41c754e",
   "metadata": {},
   "source": [
    "# Work with Videos\n",
    "\n",
    "**[Video](https://docs.aperturedata.io/category/video-commands) is an object recognized by ApertureDB and the query language allows you to directly add, find, update, and delete video.**"
   ]
  },
  {
   "cell_type": "markdown",
   "id": "3780618f-c72f-46cc-ae65-10659c6ba84c",
   "metadata": {},
   "source": [
    "## Connect to the database\n",
    "\n",
    "If you haven't already setup the database or configured it, check out our [quick start guide](https://docs.aperturedata.io/Setup/QuickStart)"
   ]
  },
  {
   "cell_type": "code",
   "execution_count": null,
   "id": "ed20aa1d-c7de-4683-958e-3e0cfde3168c",
   "metadata": {},
   "outputs": [],
   "source": [
    "# Install the required client packages if needed\n",
    "%pip install --upgrade --quiet pip\n",
    "%pip install --upgrade --quiet aperturedb"
   ]
  },
  {
   "cell_type": "code",
   "execution_count": 1,
   "id": "7f1a07bb-f884-450f-90ad-6a3e62d3d01b",
   "metadata": {},
   "outputs": [],
   "source": [
    "from aperturedb.CommonLibrary import create_connector\n",
    "\n",
    "# Create the connector for ApertureDB\n",
    "client = create_connector()"
   ]
  },
  {
   "cell_type": "code",
   "execution_count": 2,
   "id": "9728df50-38c3-4c00-93dc-1e6c9bac91ee",
   "metadata": {},
   "outputs": [
    {
     "name": "stdout",
     "output_type": "stream",
     "text": [
      "[\n",
      "    {\n",
      "        \"GetStatus\": {\n",
      "            \"info\": \"OK\",\n",
      "            \"status\": 0,\n",
      "            \"system\": \"ApertureDB\",\n",
      "            \"version\": \"0.17.23\"\n",
      "        }\n",
      "    }\n",
      "]\n"
     ]
    }
   ],
   "source": [
    "# Simple query to see how the database is doing\n",
    "# https://docs.aperturedata.io/query_language/Reference/db_commands/GetStatus\n",
    "query = [{\n",
    "    \"GetStatus\": {\n",
    "    }\n",
    "}]\n",
    "\n",
    "# Execute the query to get back a JSON response for GetStatus \n",
    "response, blobs = client.query(query)\n",
    "\n",
    "client.print_last_response()"
   ]
  },
  {
   "cell_type": "markdown",
   "id": "6e1e7a7e-6509-4ee8-82b3-ccd539320dfa",
   "metadata": {},
   "source": [
    "## Create or Add a Cooking Video to ApertureDB\n",
    "\n",
    "Let's say we want to add some videos of how some recipe is prepared. One way to introduce new videos in the database is through our query language\n",
    "\n",
    "**For bulk additions, we recommend using the [Python SDK loaders](http://docs.aperturedata.io/category/manage-multimodal-datasets)**"
   ]
  },
  {
   "cell_type": "code",
   "execution_count": null,
   "id": "a280e824-99cf-4cf1-ae2b-baedd836708c",
   "metadata": {},
   "outputs": [],
   "source": [
    "# Download the sample file\n",
    "! mkdir -p data; cd data; wget https://github.com/aperture-data/Cookbook/blob/e333f6c59070b9165033d9ddd5af852a6b9624ba/notebooks/simple/data/crepe_flambe.mp4; cd -"
   ]
  },
  {
   "cell_type": "code",
   "execution_count": 3,
   "id": "5b168c6d",
   "metadata": {
    "tags": []
   },
   "outputs": [
    {
     "name": "stdout",
     "output_type": "stream",
     "text": [
      "[\n",
      "    {\n",
      "        \"AddVideo\": {\n",
      "            \"status\": 0\n",
      "        }\n",
      "    }\n",
      "]\n"
     ]
    }
   ],
   "source": [
    "query = [{\n",
    "    \"AddVideo\": {\n",
    "        # Notice the missing \"class\" property since we already know its a Video (represented as _Video in ApertureDB)\n",
    "        \"properties\": {\n",
    "            \"name\": \"crepe_flambe\",\n",
    "            \"id\": 45,\n",
    "            \"category\": \"dessert\",\n",
    "            \"cuisine\": \"French\",\n",
    "            \"location\": \"Brittany\",\n",
    "            \"caption\": \"Special Brittany flambe crepe\"\n",
    "        },\n",
    "        \"if_not_found\": {                  # avoid adding twice\n",
    "            \"id\": [\"==\", 45]\n",
    "        }\n",
    "    }\n",
    "}]\n",
    "\n",
    "# Read the image data as a binary blob\n",
    "fd = open(\"data/crepe_flambe.mp4\", 'rb')\n",
    "array = [ fd.read() ]\n",
    "fd.close()\n",
    "\n",
    "response, blobs = client.query(query, array)\n",
    "\n",
    "client.print_last_response()"
   ]
  },
  {
   "cell_type": "markdown",
   "id": "c267cd0f-c173-42c7-8013-21962133cb63",
   "metadata": {},
   "source": [
    "## Query video by its metadata attributes\n",
    "\n",
    "Verify this Video was added to the database and read all the property values"
   ]
  },
  {
   "cell_type": "code",
   "execution_count": null,
   "id": "8ec11ff5-8e69-4131-ba57-70ce40366eb0",
   "metadata": {
    "tags": []
   },
   "outputs": [],
   "source": [
    "from aperturedb import NotebookHelpers as nh   # Our helper package for image displays and other utilities\n",
    "\n",
    "query = [{\n",
    "    \"FindVideo\": {\n",
    "        \"constraints\": {\n",
    "            \"name\": [\">=\", \"crepe\"],\n",
    "            \"location\": [\">\", \"A\"] \n",
    "        },\n",
    "        \"blobs\": True,                          # This is set to False by default\n",
    "        \"results\": {\n",
    "            \"all_properties\": True\n",
    "        }\n",
    "    }\n",
    "}]\n",
    "\n",
    "response, blobs = client.query(query)\n",
    "\n",
    "client.print_last_response()\n",
    "num_videos = response[0][\"FindVideo\"][\"returned\"]\n",
    "for count in range(num_videos):\n",
    "    nh.display_video_mp4(blobs[count])"
   ]
  },
  {
   "cell_type": "markdown",
   "id": "8e165690-4a56-4e14-9e42-600a587d276f",
   "metadata": {},
   "source": [
    "## Update properties of the video already in ApertureDB\n",
    "\n",
    "Use [UpdateVideo](https://docs.aperturedata.io/query_language/Reference/video_commands/video_commands/UpdateVideo) if any of the attributes need a new value or your application now needs a new attribute in existing videos"
   ]
  },
  {
   "cell_type": "code",
   "execution_count": 5,
   "id": "670ce0d6",
   "metadata": {
    "tags": []
   },
   "outputs": [
    {
     "name": "stdout",
     "output_type": "stream",
     "text": [
      "[\n",
      "    {\n",
      "        \"UpdateVideo\": {\n",
      "            \"count\": 1,\n",
      "            \"status\": 0\n",
      "        }\n",
      "    }\n",
      "]\n"
     ]
    }
   ],
   "source": [
    "query = [{\n",
    "    \"UpdateVideo\": {\n",
    "        \"properties\": {\n",
    "            \"contributor\": \"Vishakha\"     # property will get added if missing or the value will be updated\n",
    "        },\n",
    "        \"constraints\": {\n",
    "            \"name\": [\"==\", \"crepe_flambe\"]\n",
    "        },\n",
    "    }\n",
    "}]\n",
    "\n",
    "response, blobs = client.query(query)\n",
    "\n",
    "client.print_last_response()"
   ]
  },
  {
   "cell_type": "code",
   "execution_count": 6,
   "id": "ce5a4626",
   "metadata": {
    "tags": []
   },
   "outputs": [
    {
     "name": "stdout",
     "output_type": "stream",
     "text": [
      "[\n",
      "    {\n",
      "        \"FindVideo\": {\n",
      "            \"entities\": [\n",
      "                {\n",
      "                    \"_duration_us\": 5500000,\n",
      "                    \"_fps\": 30,\n",
      "                    \"_frame_count\": 165,\n",
      "                    \"_frame_height\": 480,\n",
      "                    \"_frame_width\": 852,\n",
      "                    \"_uniqueid\": \"5.6863.224520\",\n",
      "                    \"caption\": \"Special Brittany flambe crepe\",\n",
      "                    \"category\": \"dessert\",\n",
      "                    \"contributor\": \"Vishakha\",\n",
      "                    \"cuisine\": \"French\",\n",
      "                    \"id\": 45,\n",
      "                    \"location\": \"Brittany\",\n",
      "                    \"name\": \"crepe_flambe\"\n",
      "                }\n",
      "            ],\n",
      "            \"returned\": 1,\n",
      "            \"status\": 0\n",
      "        }\n",
      "    }\n",
      "]\n"
     ]
    }
   ],
   "source": [
    "query = [{\n",
    "    \"FindVideo\": {\n",
    "        \"constraints\": {\n",
    "            \"name\": [\"==\", \"crepe_flambe\"]\n",
    "        },\n",
    "        \"results\": {\n",
    "            \"all_properties\": True\n",
    "        }\n",
    "    }\n",
    "}]\n",
    "\n",
    "response, blobs = client.query(query)\n",
    "\n",
    "client.print_last_response()"
   ]
  },
  {
   "cell_type": "markdown",
   "id": "523fad8a-aead-449e-8e34-582df15dabfa",
   "metadata": {},
   "source": [
    "## Delete the video we no longer need"
   ]
  },
  {
   "cell_type": "code",
   "execution_count": 7,
   "id": "dadbcbbd-4063-45ac-b68a-c4348c4d5270",
   "metadata": {
    "tags": []
   },
   "outputs": [
    {
     "name": "stdout",
     "output_type": "stream",
     "text": [
      "[\n",
      "    {\n",
      "        \"DeleteVideo\": {\n",
      "            \"count\": 1,\n",
      "            \"status\": 0\n",
      "        }\n",
      "    }\n",
      "]\n"
     ]
    }
   ],
   "source": [
    "query = [{\n",
    "    \"DeleteVideo\": {\n",
    "        \"constraints\": {\n",
    "            \"name\": [\"==\", \"crepe_flambe\"]     # if this matches multiple videos, they will all be deleted\n",
    "        }\n",
    "    }\n",
    "}]\n",
    "\n",
    "response, blobs = client.query(query)\n",
    "\n",
    "client.print_last_response()"
   ]
  },
  {
   "cell_type": "markdown",
   "id": "2bee265f-3016-422c-9d17-d69a2712916e",
   "metadata": {},
   "source": [
    "### Verify deletion\n",
    "\n",
    "We can verify that the video is not longer in the database."
   ]
  },
  {
   "cell_type": "code",
   "execution_count": 8,
   "id": "1a463c87-25b2-4c7a-a5c4-62ec52ec03e8",
   "metadata": {
    "tags": []
   },
   "outputs": [
    {
     "name": "stdout",
     "output_type": "stream",
     "text": [
      "[\n",
      "    {\n",
      "        \"FindVideo\": {\n",
      "            \"returned\": 0,\n",
      "            \"status\": 0\n",
      "        }\n",
      "    }\n",
      "]\n"
     ]
    }
   ],
   "source": [
    "query = [{\n",
    "    \"FindVideo\": {\n",
    "        \"constraints\": {\n",
    "            \"name\": [\"==\", \"crepe_flambe\"]\n",
    "        },\n",
    "        \"results\": {\n",
    "            \"all_properties\": True\n",
    "        }\n",
    "    }\n",
    "}]\n",
    "\n",
    "response, blobs = client.query(query)\n",
    "\n",
    "client.print_last_response()"
   ]
  },
  {
   "cell_type": "markdown",
   "id": "02be2518-87f2-49f3-8096-b1800412124a",
   "metadata": {},
   "source": [
    "## What's next?\n",
    "\n",
    "* [Bulk load](https://docs.aperturedata.io/HowToGuides/Ingestion/Ingestion/Ingestion) videos\n",
    "* Perform [operations on videos](https://docs.aperturedata.io/HowToGuides/start/Operations) or [add clips/frames](https://docs.aperturedata.io/HowToGuides/start/ClipsFrames) to ApertureDB"
   ]
  },
  {
   "cell_type": "code",
   "execution_count": null,
   "id": "76ff9531-73ec-4d4d-9504-4528179d43a3",
   "metadata": {},
   "outputs": [],
   "source": []
  }
 ],
 "metadata": {
  "kernelspec": {
   "display_name": "Python 3 (ipykernel)",
   "language": "python",
   "name": "python3"
  },
  "language_info": {
   "codemirror_mode": {
    "name": "ipython",
    "version": 3
   },
   "file_extension": ".py",
   "mimetype": "text/x-python",
   "name": "python",
   "nbconvert_exporter": "python",
   "pygments_lexer": "ipython3",
   "version": "3.10.12"
  }
 },
 "nbformat": 4,
 "nbformat_minor": 5
}
