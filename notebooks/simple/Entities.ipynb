{
 "cells": [
  {
   "cell_type": "markdown",
   "id": "f3aa1ed0-d54f-4d76-8fb2-324cb41c754e",
   "metadata": {},
   "source": [
    "# Work with Entities\n",
    "\n",
    "**[Entities](https://docs.aperturedata.io/category/entity-commands) are a way to represent any [application level concept](https://docs.aperturedata.io/concepts/Schema) in ApertureDB like a Person, Ingredient, Product, Event, etc**"
   ]
  },
  {
   "cell_type": "markdown",
   "id": "026861d3-3981-402b-bcae-001ba38cf96b",
   "metadata": {},
   "source": [
    "## Connect to the database\n",
    "\n",
    "If you haven't already setup the database or configured it, check out our [quick start guide](https://docs.aperturedata.io/Setup/Quick%20Start)"
   ]
  },
  {
   "cell_type": "code",
   "execution_count": 1,
   "id": "0f98186b-4ce4-4c66-b9c6-1b7c5b548bc2",
   "metadata": {},
   "outputs": [],
   "source": [
    "from aperturedb.CommonLibrary import create_connector\n",
    "\n",
    "# Create the connector for ApertureDB\n",
    "client = create_connector()"
   ]
  },
  {
   "cell_type": "code",
   "execution_count": 2,
   "id": "9728df50-38c3-4c00-93dc-1e6c9bac91ee",
   "metadata": {},
   "outputs": [
    {
     "name": "stdout",
     "output_type": "stream",
     "text": [
      "[\n",
      "    {\n",
      "        \"GetStatus\": {\n",
      "            \"info\": \"OK\",\n",
      "            \"status\": 0,\n",
      "            \"system\": \"ApertureDB\",\n",
      "            \"version\": \"0.17.23\"\n",
      "        }\n",
      "    }\n",
      "]\n"
     ]
    }
   ],
   "source": [
    "# Simple query to see how the database is doing\n",
    "# https://docs.aperturedata.io/query_language/Reference/db_commands/GetStatus\n",
    "query = [{\n",
    "    \"GetStatus\": {\n",
    "    }\n",
    "}]\n",
    "\n",
    "# Execute the query to get back a JSON response for GetStatus \n",
    "response, blobs = client.query(query)\n",
    "\n",
    "client.print_last_response()"
   ]
  },
  {
   "cell_type": "markdown",
   "id": "6e1e7a7e-6509-4ee8-82b3-ccd539320dfa",
   "metadata": {},
   "source": [
    "## Create or Add an Ingredient to ApertureDB\n",
    "\n",
    "Let's say we want to introduce some ingredients that we use to cook. One way to introduce new entities in the database is through our query language\n",
    "\n",
    "**For bulk additions, we recommend using the [Python SDK loaders](http://docs.aperturedata.io/category/manage-multimodal-datasets)**"
   ]
  },
  {
   "cell_type": "code",
   "execution_count": 3,
   "id": "5b168c6d",
   "metadata": {
    "tags": []
   },
   "outputs": [
    {
     "name": "stdout",
     "output_type": "stream",
     "text": [
      "[\n",
      "    {\n",
      "        \"AddEntity\": {\n",
      "            \"status\": 0\n",
      "        }\n",
      "    }\n",
      "]\n"
     ]
    }
   ],
   "source": [
    "query = [{\n",
    "    \"AddEntity\": {\n",
    "        \"class\": \"Ingredient\",           # Every entity belongs to a class, in this case Ingredient\n",
    "        \"properties\": {                  # You can define as many key, value properties per entity, as needed\n",
    "            \"name\": \"butter\",            # The data type for \"name\" property of an Ingredient will now always be of the type \"string\".\n",
    "            \"macronutrient\": \"fat\",\n",
    "            \"subgroup\": \"dairy\",\n",
    "            \"category\": \"vegetarian\"\n",
    "        },\n",
    "        \"if_not_found\": {                # conditional add\n",
    "            \"name\": [\"==\", \"butter\"] \n",
    "        }\n",
    "    }\n",
    "}]\n",
    "\n",
    "response, blobs = client.query(query)\n",
    "\n",
    "client.print_last_response()"
   ]
  },
  {
   "cell_type": "markdown",
   "id": "c267cd0f-c173-42c7-8013-21962133cb63",
   "metadata": {},
   "source": [
    "## Read or Query properties of the added Ingredient\n",
    "\n",
    "Verify this \"Ingredient\" entity was added to the database and read all the property values"
   ]
  },
  {
   "cell_type": "code",
   "execution_count": 4,
   "id": "8ec11ff5-8e69-4131-ba57-70ce40366eb0",
   "metadata": {
    "tags": []
   },
   "outputs": [
    {
     "name": "stdout",
     "output_type": "stream",
     "text": [
      "[\n",
      "    {\n",
      "        \"FindEntity\": {\n",
      "            \"entities\": [\n",
      "                {\n",
      "                    \"_uniqueid\": \"23.0.224300\",\n",
      "                    \"category\": \"vegetarian\",\n",
      "                    \"macronutrient\": \"fat\",\n",
      "                    \"name\": \"butter\",\n",
      "                    \"subgroup\": \"dairy\"\n",
      "                }\n",
      "            ],\n",
      "            \"returned\": 1,\n",
      "            \"status\": 0\n",
      "        }\n",
      "    }\n",
      "]\n"
     ]
    }
   ],
   "source": [
    "query = [{\n",
    "    \"FindEntity\": {\n",
    "        \"with_class\": \"Ingredient\",               # Every entity belongs to a class, in this case Ingredient\n",
    "        \"constraints\": {\n",
    "            \"name\": [\"==\", \"butter\"],\n",
    "            \"subgroup\": [\"==\", \"dairy\"] \n",
    "        },\n",
    "        \"results\": {\n",
    "            \"all_properties\": True\n",
    "        }\n",
    "    }\n",
    "}]\n",
    "\n",
    "response, blobs = client.query(query)\n",
    "\n",
    "client.print_last_response()"
   ]
  },
  {
   "cell_type": "markdown",
   "id": "8e165690-4a56-4e14-9e42-600a587d276f",
   "metadata": {},
   "source": [
    "## Update properties of the Ingredient already in ApertureDB\n",
    "\n",
    "Use [UpdateEntity](https://docs.aperturedata.io/query_language/Reference/entity_commands/UpdateEntity) if any of the attributes need a new value or your application now needs a new attribute in existing entities"
   ]
  },
  {
   "cell_type": "code",
   "execution_count": 5,
   "id": "670ce0d6",
   "metadata": {
    "tags": []
   },
   "outputs": [
    {
     "name": "stdout",
     "output_type": "stream",
     "text": [
      "[\n",
      "    {\n",
      "        \"UpdateEntity\": {\n",
      "            \"count\": 1,\n",
      "            \"status\": 0\n",
      "        }\n",
      "    }\n",
      "]\n"
     ]
    }
   ],
   "source": [
    "query = [{\n",
    "    \"UpdateEntity\": {\n",
    "        \"with_class\": \"Ingredient\",\n",
    "        \"properties\": {\n",
    "            \"micronutrient\": \"omega-3\"     # property will get added if missing or the value will be updated\n",
    "        },\n",
    "        \"constraints\": {\n",
    "            \"name\": [\"==\", \"butter\"]\n",
    "        },\n",
    "    }\n",
    "}]\n",
    "\n",
    "response, blobs = client.query(query)\n",
    "\n",
    "client.print_last_response()"
   ]
  },
  {
   "cell_type": "code",
   "execution_count": 6,
   "id": "ce5a4626",
   "metadata": {
    "tags": []
   },
   "outputs": [
    {
     "name": "stdout",
     "output_type": "stream",
     "text": [
      "[\n",
      "    {\n",
      "        \"FindEntity\": {\n",
      "            \"entities\": [\n",
      "                {\n",
      "                    \"_uniqueid\": \"23.0.224300\",\n",
      "                    \"category\": \"vegetarian\",\n",
      "                    \"macronutrient\": \"fat\",\n",
      "                    \"micronutrient\": \"omega-3\",\n",
      "                    \"name\": \"butter\",\n",
      "                    \"subgroup\": \"dairy\"\n",
      "                }\n",
      "            ],\n",
      "            \"returned\": 1,\n",
      "            \"status\": 0\n",
      "        }\n",
      "    }\n",
      "]\n"
     ]
    }
   ],
   "source": [
    "query = [{\n",
    "    \"FindEntity\": {\n",
    "        \"with_class\": \"Ingredient\",\n",
    "        \"constraints\": {\n",
    "            \"name\": [\"==\", \"butter\"]                # property names and values are case sensitive\n",
    "        },\n",
    "        \"results\": {\n",
    "            \"all_properties\": True\n",
    "        }\n",
    "    }\n",
    "}]\n",
    "\n",
    "response, blobs = client.query(query)\n",
    "\n",
    "client.print_last_response()"
   ]
  },
  {
   "cell_type": "markdown",
   "id": "523fad8a-aead-449e-8e34-582df15dabfa",
   "metadata": {},
   "source": [
    "## Delete the Ingredient we no longer need"
   ]
  },
  {
   "cell_type": "code",
   "execution_count": 7,
   "id": "dadbcbbd-4063-45ac-b68a-c4348c4d5270",
   "metadata": {
    "tags": []
   },
   "outputs": [
    {
     "name": "stdout",
     "output_type": "stream",
     "text": [
      "[\n",
      "    {\n",
      "        \"DeleteEntity\": {\n",
      "            \"count\": 1,\n",
      "            \"status\": 0\n",
      "        }\n",
      "    }\n",
      "]\n"
     ]
    }
   ],
   "source": [
    "query = [{\n",
    "    \"DeleteEntity\": {\n",
    "        \"with_class\": \"Ingredient\",\n",
    "        \"constraints\": {\n",
    "            \"name\": [\"==\", \"butter\"] \n",
    "        }\n",
    "    }\n",
    "}]\n",
    "\n",
    "response, blobs = client.query(query)\n",
    "\n",
    "client.print_last_response()"
   ]
  },
  {
   "cell_type": "markdown",
   "id": "2bee265f-3016-422c-9d17-d69a2712916e",
   "metadata": {},
   "source": [
    "### Verify deletion\n",
    "\n",
    "We can verify that the entity is not longer in the database with another FindEntity"
   ]
  },
  {
   "cell_type": "code",
   "execution_count": 8,
   "id": "1a463c87-25b2-4c7a-a5c4-62ec52ec03e8",
   "metadata": {
    "tags": []
   },
   "outputs": [
    {
     "name": "stdout",
     "output_type": "stream",
     "text": [
      "[\n",
      "    {\n",
      "        \"FindEntity\": {\n",
      "            \"returned\": 0,\n",
      "            \"status\": 0\n",
      "        }\n",
      "    }\n",
      "]\n"
     ]
    }
   ],
   "source": [
    "query = [{\n",
    "    \"FindEntity\": {\n",
    "        \"with_class\": \"Ingredient\",\n",
    "        \"constraints\": {\n",
    "            \"name\": [\"==\", \"butter\"] \n",
    "        },\n",
    "        \"results\": {\n",
    "            \"all_properties\": True\n",
    "        }\n",
    "    }\n",
    "}]\n",
    "\n",
    "response, blobs = client.query(query)\n",
    "\n",
    "client.print_last_response()"
   ]
  }
 ],
 "metadata": {
  "kernelspec": {
   "display_name": "Python 3 (ipykernel)",
   "language": "python",
   "name": "python3"
  },
  "language_info": {
   "codemirror_mode": {
    "name": "ipython",
    "version": 3
   },
   "file_extension": ".py",
   "mimetype": "text/x-python",
   "name": "python",
   "nbconvert_exporter": "python",
   "pygments_lexer": "ipython3",
   "version": "3.10.12"
  }
 },
 "nbformat": 4,
 "nbformat_minor": 5
}
