{
 "cells": [
  {
   "cell_type": "markdown",
   "id": "94cb8c60-86f3-4ab0-a2b4-7fcca14935e6",
   "metadata": {
    "tags": []
   },
   "source": [
    "# Image and Video Preprocessing or Augmentation\n",
    "\n",
    "**With our prior expertise in computer vision based data, we have in-built support for [preprocessing or augmenting](https://docs.aperturedata.io/query_language/Reference/shared_command_parameters/operations) images, videos, and their regions of interest while storing or accessing them.**"
   ]
  },
  {
   "cell_type": "code",
   "execution_count": 1,
   "id": "a1442514-fdc2-4918-9afa-9c1904645aa9",
   "metadata": {},
   "outputs": [],
   "source": [
    "from aperturedb.CommonLibrary import create_connector\n",
    "\n",
    "# Create the connector for ApertureDB\n",
    "client = create_connector()"
   ]
  },
  {
   "cell_type": "code",
   "execution_count": 2,
   "id": "dbe4b20e-261b-46d3-92d5-453130d9a016",
   "metadata": {},
   "outputs": [],
   "source": [
    "from aperturedb.CommonLibrary import create_connector\n",
    "\n",
    "# Create the connector for ApertureDB\n",
    "client = create_connector()"
   ]
  },
  {
   "cell_type": "code",
   "execution_count": 3,
   "id": "b98d0ac3-c80a-4fa4-94b1-d82035795f1b",
   "metadata": {},
   "outputs": [
    {
     "name": "stdout",
     "output_type": "stream",
     "text": [
      "[\n",
      "    {\n",
      "        \"GetStatus\": {\n",
      "            \"info\": \"OK\",\n",
      "            \"status\": 0,\n",
      "            \"system\": \"ApertureDB\",\n",
      "            \"version\": \"0.17.23\"\n",
      "        }\n",
      "    }\n",
      "]\n"
     ]
    }
   ],
   "source": [
    "# Simple query to see how the database is doing\n",
    "# https://docs.aperturedata.io/query_language/Reference/db_commands/GetStatus\n",
    "query = [{\n",
    "    \"GetStatus\": {\n",
    "    }\n",
    "}]\n",
    "\n",
    "# Execute the query to get back a JSON response for GetStatus \n",
    "response, blobs = client.query(query)\n",
    "\n",
    "client.print_last_response()"
   ]
  },
  {
   "cell_type": "markdown",
   "id": "8bd9a18f-a856-4e01-aa2f-20587d10abe6",
   "metadata": {},
   "source": [
    "## Add a reformatted Image of a Dish to ApertureDB\n",
    "\n",
    "**Original image is JPEG but let's say we want to add it as png**"
   ]
  },
  {
   "cell_type": "code",
   "execution_count": 4,
   "id": "38681d39-03bc-4eae-9948-043f8c6731c9",
   "metadata": {
    "tags": []
   },
   "outputs": [
    {
     "name": "stdout",
     "output_type": "stream",
     "text": [
      "[\n",
      "    {\n",
      "        \"AddImage\": {\n",
      "            \"status\": 0\n",
      "        }\n",
      "    }\n",
      "]\n"
     ]
    }
   ],
   "source": [
    "query = [{\n",
    "    \"AddImage\": {\n",
    "        # Notice the missing \"class\" property since we already know its an Image (represented as _Image in ApertureDB)\n",
    "        \"properties\": {\n",
    "            \"name\": \"Focaccia\",\n",
    "            \"id\": 35,\n",
    "            \"contributor\": \"Vishakha\",\n",
    "            \"category\": \"starter\",\n",
    "            \"cuisine\": \"Italian\",\n",
    "            \"location\": \"Brittany\",\n",
    "            \"caption\": \"fresh made focaccia with herbs from the garden\"\n",
    "        },\n",
    "        \"format\": \"png\",\n",
    "        \"if_not_found\": {                  # avoid adding twice\n",
    "            \"id\": [\"==\", 35]\n",
    "        }\n",
    "    }\n",
    "}]\n",
    "\n",
    "# Read the image data as a binary blob\n",
    "fd = open(\"data/focaccia_brittany.jpg\", 'rb')\n",
    "image_arr = [ fd.read() ]\n",
    "fd.close()\n",
    "\n",
    "response, blobs = client.query(query, image_arr)\n",
    "\n",
    "client.print_last_response()"
   ]
  },
  {
   "cell_type": "markdown",
   "id": "9247627b",
   "metadata": {},
   "source": [
    "## Now retrieve a thumbnail of the Food image"
   ]
  },
  {
   "cell_type": "code",
   "execution_count": 5,
   "id": "ec1d3f96",
   "metadata": {
    "tags": []
   },
   "outputs": [
    {
     "name": "stdout",
     "output_type": "stream",
     "text": [
      "1\n"
     ]
    },
    {
     "data": {
      "image/jpeg": "[encoded data removed]",
      "text/plain": [
       "<IPython.core.display.Image object>"
      ]
     },
     "metadata": {},
     "output_type": "display_data"
    }
   ],
   "source": [
    "from aperturedb import NotebookHelpers as nh   # Our helper package for image displays and other utilities\n",
    "\n",
    "query = [{\n",
    "    \"FindImage\": {\n",
    "        \"constraints\": {\n",
    "            \"name\": [\"==\", \"Focaccia\"],\n",
    "            \"location\": [\">\", \"A\"] \n",
    "        },\n",
    "        \"operations\": [{\n",
    "            \"type\": \"resize\",\n",
    "            \"width\": 100,\n",
    "            \"height\": 100\n",
    "        } ],\n",
    "        \"as_format\": \"jpg\",\n",
    "        \"blobs\": True\n",
    "    }\n",
    "}]\n",
    "\n",
    "response, blobs = client.query(query)\n",
    "\n",
    "# Instead of using nh.display, which automatically reformats an image\n",
    "# for display, we use IPython.display to show how its returned from the query.\n",
    "from IPython.display import display,Image\n",
    "num_images = response[0][\"FindImage\"][\"returned\"]\n",
    "print(num_images)\n",
    "for count in range(num_images):\n",
    "    image = Image(blobs[count], format=\"JPEG\")\n",
    "    display(image)"
   ]
  },
  {
   "cell_type": "markdown",
   "id": "ea9cb860-0b86-4d12-b5dd-f2730a5ffa4f",
   "metadata": {},
   "source": [
    "## Videos can similarly be pre-processed when adding or searching"
   ]
  },
  {
   "cell_type": "code",
   "execution_count": 6,
   "id": "cb158371-72b3-4d71-8d12-b7d5b6747900",
   "metadata": {},
   "outputs": [
    {
     "name": "stdout",
     "output_type": "stream",
     "text": [
      "[\n",
      "    {\n",
      "        \"AddVideo\": {\n",
      "            \"status\": 0\n",
      "        }\n",
      "    }\n",
      "]\n"
     ]
    }
   ],
   "source": [
    "query = [{\n",
    "    \"AddVideo\": {\n",
    "        # Notice the missing \"class\" property since we already know its a Video (represented as _Video in ApertureDB)\n",
    "        \"properties\": {\n",
    "            \"name\": \"crepe_flambe\",\n",
    "            \"id\": 45,\n",
    "            \"category\": \"dessert\",\n",
    "            \"cuisine\": \"French\",\n",
    "            \"location\": \"Brittany\",\n",
    "            \"caption\": \"Special Brittany flambe crepe\"\n",
    "        },\n",
    "        \"if_not_found\": {                  # avoid adding twice\n",
    "            \"id\": [\"==\", 45]\n",
    "        }\n",
    "    }\n",
    "}]\n",
    "\n",
    "# Read the image data as a binary blob\n",
    "fd = open(\"data/crepe_flambe.mp4\", 'rb')\n",
    "array = [ fd.read() ]\n",
    "fd.close()\n",
    "\n",
    "response, blobs = client.query(query, array)\n",
    "\n",
    "client.print_last_response()"
   ]
  },
  {
   "cell_type": "markdown",
   "id": "6d43e2e8-1bf5-413d-9d26-124727cb6fd6",
   "metadata": {},
   "source": [
    "### Original video"
   ]
  },
  {
   "cell_type": "code",
   "execution_count": null,
   "id": "47a7e885-4f01-48aa-8e44-d1301db7896d",
   "metadata": {
    "tags": []
   },
   "outputs": [],
   "source": [
    "from aperturedb import NotebookHelpers as nh   # Our helper package for image displays and other utilities\n",
    "\n",
    "query = [{\n",
    "    \"FindVideo\": {\n",
    "        \"constraints\": {\n",
    "            \"name\": [\">=\", \"crepe\"],\n",
    "            \"location\": [\">\", \"A\"] \n",
    "        },\n",
    "        \"blobs\": True,                          # This is set to False by default\n",
    "        \"results\": {\n",
    "            \"all_properties\": True\n",
    "        }\n",
    "    }\n",
    "}]\n",
    "\n",
    "response, blobs = client.query(query)\n",
    "\n",
    "client.print_last_response()\n",
    "num_videos = response[0][\"FindVideo\"][\"returned\"]\n",
    "for count in range(num_videos):\n",
    "    nh.display_video_mp4(blobs[count])"
   ]
  },
  {
   "cell_type": "markdown",
   "id": "3e878a63-a1fe-4fc6-a538-90e00a8317e0",
   "metadata": {},
   "source": [
    "### Sample and pre-process the cooking video when retrieving"
   ]
  },
  {
   "cell_type": "code",
   "execution_count": 8,
   "id": "e0208276-1103-40ea-b5bf-d148cbc547e8",
   "metadata": {
    "tags": []
   },
   "outputs": [
    {
     "name": "stdout",
     "output_type": "stream",
     "text": [
      "[\n",
      "    {\n",
      "        \"FindVideo\": {\n",
      "            \"blobs_start\": 0,\n",
      "            \"returned\": 1,\n",
      "            \"status\": 0\n",
      "        }\n",
      "    }\n",
      "]\n"
     ]
    },
    {
     "data": {
      "text/html": [
       "<video controls  >\n",
       " <source src=\"data:video/mp4;base64,AAAAFGZ0eXBxdCAgAAACAHF0ICAAAAAId2lkZQAAbMBtZGF0AAAAGGdkAA2s2UEwn7uEAAADAAQAAeAAPFCmWAAAAAZo6+PLIsAAAAKuBgX//6rcRem95tlIt5Ys2CDZI+7veDI2NCAtIGNvcmUgMTYzIHIzMDYwIDVkYjZhYTYgLSBILjI2NC9NUEVHLTQgQVZDIGNvZGVjIC0gQ29weWxlZnQgMjAwMy0yMDIxIC0gaHR0cDovL3d3dy52aWRlb2xhbi5vcmcveDI2NC5odG1sIC0gb3B0aW9uczogY2FiYWM9MSByZWY9MyBkZWJsb2NrPTE6MDowIGFuYWx5c2U9MHgzOjB4MTEzIG1lPWhleCBzdWJtZT03IHBzeT0xIHBzeV9yZD0xLjAwOjAuMDAgbWl4ZWRfcmVmPTEgbWVfcmFuZ2U9MTYgY2hyb21hX21lPTEgdHJlbGxpcz0xIDh4OGRjdD0xIGNxbT0wIGRlYWR6b25lPTIxLDExIGZhc3RfcHNraXA9MSBjaHJvbWFfcXBfb2Zmc2V0PS0yIHRocmVhZHM9OSBsb29rYWhlYWRfdGhyZWFkcz0xIHNsaWNlZF90aHJlYWRzPTAgbnI9MCBkZWNpbWF0ZT0xIGludGVybGFjZWQ9MCBibHVyYXlfY29tcGF0PTAgY29uc3RyYWluZWRfaW50cmE9MCBiZnJhbWVzPTQgYl9weXJhbWlkPTIgYl9hZGFwdD0xIGJfYmlhcz0wIGRpcmVjdD0xIHdlaWdodGI9MSBvcGVuX2dvcD0wIHdlaWdodHA9MiBrZXlpbnQ9MjUwIGtleWludF9taW49MjUgc2NlbmVjdXQ9NDAgaW50cmFfcmVmcmVzaD0wIHJjX2xvb2thaGVhZD00MCByYz1jcmYgbWJ0cmVlPTEgY3JmPTIzLjAgcWNvbXA9MC42MCBxcG1pbj0wIHFwbWF4PTY5IHFwc3RlcD00IGlwX3JhdGlvPTEuNDAgYXE9MToxLjAwAIAAAA/dZYiEACf//vWxfApq6eqKDOgyLuGWJtNEwAm5izuAtLKowf8v3v4OAUUsPUexRdwVRwk/QUdIGgUa95Zx/BUhA1pAuh48o4qVDHbMRfKQzLXRNMIwWhrhrtqwFEP/qzWDG5HywUTGRvgl/OdMeV0YTLV0GbtYMd0WtEV5xow1htI4j250zK0ivfHtm3dwLzdw2AGnr+WnM68RzXzCxRG6Ka9kDPH6BtgZh+/HLv8BfshazGe9ZAvRfZkuNjmffHqZ2t5od1tYhbfo/lSBppt0z4Bt1TRKZJXW717Y7KSQE1E64z1VNG3w8xgY/y6dUQO/QlJe6q60SNJtmC3djsvcTZ42WNZx2mx6dV5lrCj1bAE7Dq7PPbJRRIKNXU2SqixyV6y8Z1XhYJHVrBVv0FdNYveW9ytmlXZJtN/5f9hxd6Nch4J8N700EIABIHFpsD5znDLwHsyS+SfL/VzS1ShOP4jU+iQWRgWhKhUzT2ssc0/zi4+dy8pvmOOTcwWs3+86+F05n+2RvqTuJS/7tS7diTXP5sMNminHRUdoft8CI/2RpXSX5ydDiLNzYMoOAChOfbR8yhpeSgnESMb8UXYN6zGSbadPAp0WJRiY/24c7i1pRcDRA/AGwylYEvYQEDoSpixFchy8qlnq/+PhkBs/pVOume8edcKNISZCqGZB0vAUgMUU2U9ZlBoQJdBMmXuSASsaHsU+jQJZS2AYJ1vVFo7q+Q2cnibkHs3N3YkPh67uj5rzqn5kxsNDJU80P2WAOwZaCoVt8xCYRlsyrYQpCU+41lZ++ay0B/m7fmRZu3ANTd49nPlintO54/O9wP4L2rWfzf0mG2D5R2PhGsOArW9Trc063Iq3kdfCMzmSUR+r2F+KG+YrIVHK3cTNZNX+TPsC5YkBP7XPK/ML2vB+iH7s0XiwCc6VgLKgAAHS2XSk4Wl/9zj2vsHQE8AtSToE8BWCI+mjkDt3nQtYrTSoROyvK57iBhkDcmKMWQfEwXichbmE1xO3qH+jpXn6w52rqIWqjPcvjZTsCZ3Jnu4NG5hOfciFtqKxsjS6oA4pa0S+ThY6ELmYZk7QP/ULUtTZOsJD080KHsvpqRyZTRVtoXQWbg2fahQMRGIb9eZF7d/gfC6zCR6Fyn/q6vXxHmIxTWMobOf266hBPbPD+/BX4UzVGKvp529LN+Hd18LDv7pPXrttu9AfoHyxx55QO3l8z1W9fpkHBBq62aq0f/ep6NKCLWSvPMGryWZMja3w7ZJfMtyfX5ofVMee2IUrLl1yFo57TBuE6q7z+onnLBGb5TVW12QP/RhyyvDBXNsD3CSmENLdhcj3GISis4CG/EORhGz8+PoehavV1Vh+kwgFJTIhyePjyRqW1ffgcUAW0L/qcAb8npFly4v7+AoDIe/e9+6QwnpioxZssmIX/B2M7IjAL1h4TnCAvfNVrMTNetY/gEiwjb/AJ510BPISo2lsRY5zbM1/llBRY1Gtt/jYHqDac86H8aFRP3Tm074lEjaaLR1ECTqT2eYspPP6AsJyxgR08fP2UL1YAvspc+O/vTsC4sUzPuEXbj67Smw26fofAwEl2rU3gK51vnQaa8h/v0JIom7QGoggf7Uau18NO7GDBIoijh2xjc0jgxaQ1b2hWpyZKx8vIKjF2gvEb2Ho2mEeAVv9kodX+kpDw+p+RcNgzBxjiovcqonISWBp23zT6r/I9+EIsCyXmR6YoVRBE9PlnkcI1Qo8k0eoKWen4cVX2GJ5YB1IkGA+iMpnSdKGhgRJK8Y/EMLBXJo55wnZLWxgZMxYDzhc0TFVW9FkG7M5zuphC59dkr1I3OsqQXiIiVT8UFpVYV7HiVsy9CyEBcdBZfgtpDd+5ArwHVXXJMh+CJHvfbxeHedDqaZYtKMKrS54cn2i3zj6cE3Qv9MdrjF9nhe3GvlTZlBrx7DWwEbFMYmtMehp/iEnAgj/V6iU7C5KYQMjDEzlRKBCkCL6mzfI1/NTnEeNsEJl5lCacZgXNyaXI4PLHGELXCp8fuD54MZqbVKHjQ4mqXEiY2j+2B0oqyep+xcQyIf/YM07bIXfnF2qK1nNkxHB0MHzVAz460eUl3PAgeJIv0gkBcLOvRJEsruht7EBxwLuXfpC+p+EV5SQWJ4QzHlGJig4/SzNZmI9cD8RLMX5JdDL0axrbfIqz4dG2l6CyvUb4xkn0Ifjvp1kmrV/InkNlI53Bxtx30NLsYOo7u6M6VTejSFGOwcIhaafg02dKXQ3P/igOQzkcittRNSTDu+ZUMU5+E+DKlJICh8n9iUZLq5ulbnq13LFlfl1I/r+f9XlUrQzSXSDKU01TcTX7HCIj9wfmh3JPpNL51WPXQc3CaVKM0Vn1ymfDYQzyvpb/bj93mzSont5b1d4VD1y1eg2bHuhl98JUTLgG8TXZJu2bJcCyELorTLk1S4sLyj0qSs/jc65zfyhWG+3yp14IBQbYoAvJ4y3ivBmRk2RSu0wIvGgqR6SWR+AyV6CVm7c4eTJcvUNRFpmdQ65GFgDU8sULUb7ovlZ78dXzHcZEh3ZZ7xnNMG/NE7VXAqTR3mrYgrRTnR9D3G8lMN04MqrGhTmsTrp641jrBZZHMNNCQbAgWEJpLba+FC98rppWN1WgX6DyaxrGdC86/LoC1pPjmAdsAELcArd1sytMQHoFtRCCaQ5+434IFTmdDut6Js1noJ1C3VsydopwD45PPrm0lmqKgncFP3eogpKiAmIfj+O/c+S7pFTnqLpaH2o2kSTQFTRzF7jBV9WNjz9NZPj9mDRW0gyrstGT5hVQQpC5qoKA212blP9VewoAv5JQDkCIKIFP5IbEABZf3V1Z0WfOG8oW26DuXPqddfw5PKy15m1vp7R6BgDTPqVdkhZ5WQrjp/AWA5zdKZJmGUpWmARxb5VU84G3vHte9wj4T36ooXgesiRa8CA5CwrPQeADVzVCR4kSfZq8yHCWALmJAFW9zQddHAmry4mn70sdqztPNuaouHFnTC7W48uzoTNSOXTFZLJltSDfif5bxeWF27Js6qFSl7g5dLJNzvIA9nroue/Wpyg9nwm52hngBXOFBLi00n04dwz1r/faU2SOH4je0T6dlvzE37//ICrGGWr19/4iGnYBa03jALEKsjo3kgEyFZzo1usRr5QYK/Iy6xQxgYJqskABR3HFFYQWJzfj0xgvDsad/xna2UbUdbDQR/InqxtKf5Le1n5kDkbP8TgGEUhEjSvLjIazEHdRxmwQxaKiR6qnGm3YkjPwBxxHAQ38NxiXfT6XmvRpa4tK2P1S4PSW/Pfr537ZFszhgp1XXDgISqjIFwIP/ZtXJxXdcKRpdo2UwxXYuvWwFQhaDEJtdHjJ9/BJbhEtqO+hZ/y/KuxwKVbk09oZIf0VpobixSqBBoaqdhc9Ou8FICo+5toTFf81MhQp+P3TLaXRbCRfUnBN8rsYy5yEmVyQo75foF9PMEfbcISoJ0A/HnV/umiasdIKnlMH1y5Rr/rwRV8MgjrCqXSvK3DnCsr8D60OQkYKUcA1vvs6f3/0tOtwPwxQB4d9AIXRMOpXxJ+lZOPQ7ob2RfPfmEHfSwc9UmS2+ossjAZ+ksfXb8MgnrRmtsVh2uGT9fUOwp8kjQQ3NGNmbNaiMwwK0DWefvCAz6qgRv6vTbpWPLWMjy8L+aGgYIevEfq6gDHCfeLquL/hwLEXm0gloACLM28SCxXBofrIhs5Xgyz82/yFS+bS7xvS90MlLICL33f1XLQPzAoSkYJ2IeM0d7s0gvdFR4OZCk+KVU+5CFEaXGKsV0C690kkkE8fGM9FHkYbyNmKAdF4yLhGFP2jJiCSlqUML1rcueMymRnMBMD6wMdUzeS6qNcYLyg/q72I0QB8A8Jm4OLuBn7B6S0w6ibyN2HVREHcjCsc8XyuZU9angQEOdufECQsIoSsxkP/7jdg2xm8mdKDKTJMEZsRQ2f7cb0UxF7MnHQiHp+pZwklMKCjUv4tnjj1R7MPL+plYfwHmO+G3IS6i7cz5DAwideGIJXxTs0V7841TY4Kb1zgNYBczNaRWSb5VTCAuvVKTiRE08zg3bsHMlREBMnzyGsPeBeIyUzuS2GF53POyJ8Nn56TaUTrNIxqAdFujxtEcKguffP77RzIkIiw4x7b9N1ZehD2f3/T5dZIxdxCTPdc/EzCXTE746FIzNmFFFtqqXQhS2WTQn4kZBBC8w0PRWSA3Xsesm/ZmB5q0MaP9njF0IU8f+QgqUK/YB5/SplztcYLAg3e7mPyBbuaS+0MJBNvLw6yfOW9oY2fgvqHQvKx1XDIeNdc2GurHUN7pC6IHsAtaSChjtRjIY7FvC+nUqAfhGCypYys5Ocw+8iDP4V6apfUNl5XTt1+aMxkZQ0qIYHnGtqviCsVFX51SFcLM+LOCf9DfTeESo6+NrLUHs3j/gz1FEwjy6BLn0wCbxxiSoFkS+BfUCGH/51z0C6PJbbBWazt6NEwXUeMB2/3du3ah2gJ2i72kgzLprJG2+9g5sfL1pD+74fsUzU+dtmCCt+ISj3dh/z4htjHdedMygB2QJV0WWm9OmFm1IZHWxLTYp8Xf/Qb6AfJNNUdks589ItLywNX9k86zuTLXC8UsUBIv3U6fRCdIwgML448/B6M1N4U9Z25nKUcAgW+33YgziYDNiUKBi455uapSKoMbOQlVmlbCEYEyWkuu7uw3vx1OIkF89BBRtf2jdYN3o/5aLIzavKPFi8OB09rexMInIcL2/9W1dqBy7HitT9ab1w1ZzclJXjY11S/xh03Obfi4LijOP1gWh1GrqIvRUP6hANSUkn7nxfxtJQP4kV7dJ2FC9/70ctmgnicw4BwTS0LfflLl9AkAbLKMbPyfcrO+F/+P+jETj8PK5hu1flk9OblZ9g47bvHjuT6vC3NeaDA/E5xi+t8BWP36xecKbXDhjfBwwD5scKYBbqwonD0ibPrdoxXeGiU4wLlH8XRHcyFc/PkP3VA3M5idnzc4ylovIvvorVOrug4w8Fd9gwSjaqdUWdkgS8Jrt0k9rJk+VjlhqJ7LGtoT4VRNKFWbxZ4jTi8IMyyCn80wyNMX6mq/RgB5teM00/gnBk8px7TaS3qlNBL+1Z/Sutk21iLR1xzQ3jKolherVHiR4xxqEYXKQRCvvidpMr+7H6Uc719w2tQgUQh7AmBJTM3dqeCAgpMKc/hOTfu5gKW86oTYN4dGwZj47jzNxmyshcXJhuCFaEwIFTqrtI87TLyPrRdITx7huSR4K0zy1RJHw9BN7mexcVqEEhUXT10PIVPHzCWVddqj5AsQv0v9MPk7oNV8xmM/e35QnzuSPwZQHDCBFXJ0AbdaM6kSLzbbenyBvdOmlm9HKDCOpOZMyXr8OL7K+GrXAXp/L+T5sRpbJJM561CTtahIEAAAUXQZohbEJ//aJmhazQG5DAv8ALDsnd9XU73K/hJPdzvXNv2uYCKI/j0RiKVxsUhjaLdLdRe6xWYA/5VhBssI+qb3Y4zE1Wwqr28xs25x4g34gsJp+MRPqWipTKZCAAVLlpMjtolwQrs8bhyhNBADd9aOQ5UIThA2LqpwdzMQiq2vVB3W9OKx7ZkiV9raP+ZcoIdkKwbKf4xRAA0yI6Tj/s2ie/9cvA+W0inFMBf+bOr1eJLHgacX1LtbpITIThVw+LcVM21jeWTTSYleN4WRymnzG0flXKpXLgnrHhZen3aEsUK74PtKOEKYr/6uePwtZ4NNd1yhZ7EQyCNyZYr6PfEK6DxxWPCyMq/q9cEgDFDsxYR8rwD2ZNrNroJ95rg/jrhV/c/aZIT+gGtNSU+vHOqkFKy5q8c4jECqROzrZMiV2DPa4+TwYCRRNDX2Z5QLfFF8ECskqpA6h+z20ftcEDDaq3+xP4oDZ9wa/bBmePhY5p+PYvopPTZE0F6wp2T2I8MLxj5DhTXmQGGatumK/mVdQE4Axi6yGxglk7aeCDDlLX29siFCtFhQHHDqwysHKlXkysZ4ToQA4WIPUG26axNo8Z9XQif4GQXldz1ZV11arh6CymMrbIB+6ymgRyVqmqU5X+OHGJH75K7CkVyyTaJh84WkFgVrMVHVJYnjhhU3uphPVawlzzaobhE/q4NlkHB4wer2676EzkYtdGTXaN74gw4dpA25z9D3E48xkJWQQgDVk8ob3JjPuEhRc1TZMClnz6k6OZjGpyYuCMVMT3Y+XFbLnsQWhGEQNtrAbDQ/v5DpsMnrVwE4EgVhYkWvH6D+9i5+Ue5WgL3aSdZWck3eFn43pA16K/Bylf+DhVj+n3hyZsAtyR3p+5dLsNmCuaxhpgykNBoXPemQG5T8T0FacybNkzpQnhs5nkAJo/vU6DemO4NpAz2b2kEoD5nclxNf6fn1Br0cBgCDwKDcuAfeLnqGqRWvneuSVL8flvkGtpn5dXVGAdTg7LiTxt/Uf1tNajl9C/dfN2vF+yFuH2enefv/Us/FWQIj8SJSnR8r6ajb4OgeFKLqb0RRFMwKmD3IE64WroXbP1YI/QA0g4KEuuD8/aHW442uaEed/PKgDAVcnPIQF/T8et4+NrEkhVL1/DBRWQhtJD93GLaDKrBadJtqV/gvf3rw1uBGjx7HBcDP5jbh/FX5U+hJS9XhEbto7SfL3FrL5vUexfVMdOJyOkf8kh6iEwZZIfPvBcEGHJ3+TmyY3aWpL/WEya+rQ8+3VWOQGNBztXfXni9h0IRqbJMzXS/8mRpZUPKGDthGPLzO0JMfpK6wrnaW2g7m7BYtBVZ7NeM+coo/g06K91Tl2DZNmuGDPwm71tNSTK3zhfxDK06JbUEvExCtD4H6fGTJjXm+LkrYg89rxzigPf+czRafr9+iaNub+1MJr32rXGN+cbAVUJzeJuDlTGVVb0Sk085/RH2VZyT5cCnRprOtp1HQr7HeovAZd3N6NniPsbW83Xd7/1B2URi2rlCzVyUeCE8kAP/UbEbrdYlBpTzg3wtuSyVqvDRf9+mWpq9T4kpATEqdLmir85TFDDgHZirVUIGkVnPKN4g9DlBnGuxQVNZRDbastRxAkdcMX5N7z5pW4qP074vWTPDzWmR4vsDkBNJceFuOm8KVRQnDM1hSVJtbHukOdqaEM4ff3DIrpSufD6uM0+3x+6uiJNES7fyNZjNK71gAAABW5BmkI8IZMphCf//eC4skgKmgBxkV/bTG58Ig8F7TJJ/CJhyupwtq+8xSlgMZZFhnDfq+Yikzd0A+OyfkgETA97LRcYKmH+zl1YS3J/Ma/OLnFfUyoOZvgBcidHId6BKLL0ErgERht8/nGRoRJtpiKo7t1g0jrUr+/t/wxJem5NhqlCMWYmLxOVKG6Ba9dynhZBYDTOUjuM5EPEA8cHEXwZeDj3uEqoUxpJ3eJPYKOlCt7s73zaNWnHVxGQE3c7T5NlXg1w6NQr1AG+gqzEbD2iq4F1J4i8Vc3MavR0NHW7vbi25RZMt4GTEfuskO3ZnS1DX3jI0yVlet7VrtOqIXO9eHvpIOPOBGwpjEFtWCmuyZZV7cLel2eNO8WQeNc9reNDfwg+ksa9ZZjP5dOcHcw32Foz5dRyXDLyXVmX+BgUXTgSInUE6Xm+VEJb+yLttr3LkIe8GdatBOAYMAYrr2bWDksr7NRjyA4/L2G0o91CpyWZGukyfkCISsXN22p0lVce+vJA9fJaLoMMbMd3o3YbyO4ALZqiWsGjqghbGOcrgziZVaElLVX05ZyGfLlxNNencyyF2mrJNutUB+jkfKxYrS81er6UG1gQ5eHS3TqRftgZDAX2Ze7cHFTc4BX94iojQp2GHSc6xy0/RFWNsj/kxZBtPjTLC/Wu7XijemxQLzoepl0MNQ/xFItHUQy1xcMLPV8HU+A8jxXfJfxMgMMNq+ZJdSsr5HrweWt1Ubj5MdHNVjCEtMZrH4kM4MqOgJpGXl998XIwXJb3qvH7Sj5TUuj5JjR5AsEZ1HVRMjTC87kxyO8sjWtmqpcossRjRRxam8zSZ9FUKPBxBxH6pBdDr/08YUegNyJLNZFRVUOX/RvN/FeLi1ScDUJVPSIBq+rJXFIclgTCYrfL53F9I2z6c5vbiGcLLfS0aE9ZA5/SgajLXEsA1/USNEQryyrp1wRhcOEr7qyMtEIHhzE8PuZIGLApaVRh/56yc3Atv4CCelcC5xbKFdmfVCuM2Kfnx0aDrcP9DxToxlTqs1G3W3mi1jaNdEcrmrxmevM5nBNUMktAFUunpXpgCzWuD7CKke1Blwr/cGpeQfvHWtCLaKSo7PhlYN/Xlql8lx+7JEIZLXUfrCaiAV8OfwYE6pu/1WvfBUCHs05Q5H+9uKuPA2jmopWbocWogm2k6+fP9XyNf4ui+qbMtfFXshM4TRffs4kqp6gkDvqc6YqWlWfNxQke/AFoKLfePnj+VeCkbdxBtqna500lsTa+J1A5LY1o21JBDTw7KAMFMnv3voppvdWDgOZSKWu0O5utup04JWVPMkxwyXi8wj/l/d02Tg7jXGBCKxzCW/9Bybxg3RRqQ9NumntKZZS3ywkaVpZ782O+0urc2icvfx/h2kxef0BJ83ONUE/7Bds4TK/30L+w3Wfsjf8vCVzyMeF0XSXa4zvempWRPhSSxMBKdMXaKmcM+84d/1EBbbrYaoFrGgKLzKDwr78LFS5OJrzhvhSWHemyI19plw9gL/7gOpy/XC6TCCH8TvbBh2lhE7y58u6t3E7ptqKxyt71kbs1BzLRW3QVioQVYhwKJqRvr+LIV3Au4vUXw4MFtysROBAFKurpuQTt+saN1gfnx31w+6rKBaxHZx5WMakyiKNuYtRvuuDTtez1vKDjcSbizgQ1Z9GZ+bs2x92IzzVQWTs6dVwEDg8dk9rVBm8dhgqKh9hWF9aMLkiC7boVpDKLdVk7isOCgVgKLuv5ccSVSXtzmZYdTFMOLKmC52jtBbWb9mfz3QmvwWWfc4Q8qmL7Mixe70I/57/SiunwObjQAth532ygakoUcwpk0AbSg9PKcGobSusnAAAEqEGaY0nhDyZTAhX//cJPi+kqcABtMouMADT+OIpwnahs8zuVyHlqTYIZjY+55yYtPnque7iqVr5WLUbu7tTU6RH0vmBKcxvrzROCEhmA+dYjuKjR6vBPpmMp3fauQ+sP0N49NRDfrlsWd5LNULjeat/JxTMekk4PsNWdksIwu8IoEk3MncMrYaIDihOPpfDglq4PB+lSDXeD/JvKfDvFhjWQACGBWbMIpKqHsftDBld6+XkKODV9iT51zACExlPxY2h6GxujZZFcvkoyvn3ieGQSrKHnBejMI/H843vbfiBCJmtFGdgRtC9tNjfFYDNtYj6wj+Z7XV9lWh+Qz4ZCt57q/Aq9jT1IHWjhoPesdhmnHn33y8F1gYqawdrhjaa8kznzNhKNQsCKsvPJ9W7UiauF3T8SBqCXlN8bDJSzI+IAcS0DJKHroe4iMNrIpUXm4VaN4PxZdSx/zWDwxY5+9neajkdNVhHx3qUWyRfkhIIMnJgv3PotznzyyKDA4tfAL70B/e6pHvhBPx7zPI+v/d+PU3y97gOqtTtB/P2+J2dPqMj/LAQFSnEHEh5jpkvMkiCd3+oS1zTrM9E/25Z15efR3VvWQi9y34POQ7QzppqX5lL00FGsg4qqIz91lBsibk5Rhp1s7fih0ZhcSrqo4nzfxaOgpMiJdc5UtMfzYhFgsNxbJ9PDDngxd/YRkhL61pp6sSROmEM3XjhDlM4CueXVteEmsMT5hCKEtudMmxyMvi4hY5VaulldKpYXwN5j/dzWeSR9+pBUdjzu46176Wb97bJ8X2rydqsz2Cyctj0Bcs1jQkOcvEVersR7d/jaluebuAYSfa766fD+VyfsESX0Gw19CJOANZjipY380/xVYnYSXidCwFilOP2TxozeqPrFR/wRvjnMD416DzZ3/ToRLI8EYwypx2g5tFLzlgk3bivOnhh+juT3xbxprgO8qQ7nJCCRjNhUaIOvGC3hZ6NH0V01EiNpGXjo1C5y/iWDwS0o30GebcEPNN6+Jh5qEFTwJMrVO2Muwe8eQPy1O03KrvQ70DrYy1JQmRPjENdJ8jX3pMG/Z1EVsjg/kB3qB7Prf5XUhmyPe218EO3vyhyuhO7d2y9qKRmQ9DXYNWOp28H3EHQqRCe7ELQsgaBS98xKZGOmVt1K8QoYoW3F+nCWHYl6URfwm/14oXcYWcyaGaIDdklgqmdNaaQQeXN5STFiI0+/bCgAmhT2kwimRUCsdsZDH7HDbAZeLPa3arJVFxthSk90RzeH/dL/TprzbXke0LiTJ6m2+eBXdBG2Mo5fy4oA+Yg3AhR4j+LuDq+hCXVobWU9TwqoWDjB7/yuPA1r+Whlokhd1o62EL9VHDCnjTQsbEkKtU5GQQYW/YkeUSin4n9PWxphzGXWRPCzT90lQoXGFhdI71/vwd92ODgyR8ALm/oBLixjrtUDyiNxQJ9OogkLusDM6LWmh0cdMFVsEAnS1A6xktpZpWXcVa5dwhZPmUYr2rJ155rvgqIxAhYEodjSzA66YNRRVgWGLlkh2T/FsMKxtt0s+UnRJzCU15lYSj0oBqVRWRNwAtwxiJDPhcwcytwAAARkQZqESeEPJlMCE//9ombfCR1C684CqAPkA152e8hOPyauOwkRrqR5Tv+DF3Fw6wfwsh+qUkDVGYN72ApF418HoJ89yzq50cumDvCLUGjpyM+xb4UZ6cu6nozQNHLMuq54Fc5ShahbXSv8pSDSgq540qkH8qWITIB+iVOXfpvMWLUPrk8rmSlI34VAWE8zTR8K7fje7Q9KHm5duw0Fwt8Okw0zgevIU2hJQCQ0qm7FcnYk7O5c2O5ChTKdFp2GZb6bRk66cXiSRww2yNakZldF8kB5VIJ8+9lyTMfp9shmqanNMrIAVMGycwwopIWbQe8Ewhms4uvjjjmg8uwp0aCmyZFDkuQwS+4ipz1DcQmPS5sBC0EVhIyI9Vl+AY/dzPzv+1WdyISqpO+ZEmvNcXr8djV/ODjOZTan6Ab9ToXmw6Yq2oSji1MUmhLUH58KJAK8YpyAzk55FTAIM70AHTbPP6AtRj6BqejLszIPBJdY3G/1qvjEyk8Ijd3OjUoQLTBjJdL+dQgD4dmc2qEhtpewURxhC+ZVeePFubknqcIbeCgmsSwFBTY+O/VIAtGWgcnFikF8zMpAAjq1SG0AATEsPYH1Gm10J21KAfh/ehheoDhKsjZDrkM4EGBfjzFB3ekysEB6fXjg102hlpvcyJaXTJvXqwC0NwzLgevgjYdKUjWBTBvSXu5tazEPPIx/PgXM6HDj8ggkquEKVMhmacCRKFC+cqL3f8NUFQlz32/X43VEcr/cTp6v86Jt6zAEwpuZrZwIGi5VYgGiiuvtBhwihqXao0YYthvty7Ax7Qdt0pjTQ92k+10AMAGoH/Pds5IUQXT8BEWVn/68r44escpogsa1ko70rHhc8XVgxwXwJ/dNsImcPf6LgYfkPdtQLRoBFE1l3Bi5u3qrTmPK4Kntna3oF3VwO388g9OlcjOlDpqESddZqOtZavc+U7Cwx+Jee17mvf6AobrtZJcfopXKRBZSoneHetFRzAROCv33VbQNH5QFcsPQF/XMy+IUdQpoIbg6Uq9/pfsJpD69wONHO+J9yiE2zNqpdS57it/WDfc9fw5bYYuXWCuvkr8zy5QfEB2lkNVTt6/fyjHuMkkE54hyPIUYLRbPRMNS/VhHBBCxZ3bsHp2DbuKn2TU7e5OhKyekfw+9U27FW77NuVJEheSzeuYmJl3z/QKrKHwvYedTXJEP8ftRYO/A+52ff6kISsYdhXNfBfgSqlJ4Sli+80HDutDiXlN7aAzC8erZebI00e9oFi1LSDvGdGvGB1jiDmVLzqK5W44/C/Z8HalB5NuDTURz5gsjoMrTYTUJQCxg2cNjaC+Ph133OMtHsYsGM9/v41ixRXHbILO3D9cCzUewS60crhAtgcW3KSgNs5uDhwNA+ZQ/NrWJ4OE+CEmToWe73io+ru/3O/1/Qzb5kGLChz7Wrey2dNzrrbRS5m+IVy6kCb0cWAQdsDLJPAY5iy78eRkfEinmcq/xJA48xFXZ9YEAAAWUQZqlSeEPJlMCE//94Bk96oAVJFtlN9xWAP1wa8Rzf2LAbb8vmedu3NYZ3ZsrWJGMpH+TVZ1j8M6Hi9jRLQv+baYNgghg57QNH531hDvsC9NSR/hc7SrXu+sNeKIE8Dne6Su7r65GKJTR0/5i+z/481P3s0sERFV0c3RjrEdJYzKVuShZsIIqmpJblEBuXbkkIZAXkNz+DPvbwnlv7fLkHbKlbBjpQTCcLaDFZh6gPQ06mXFQbJix3Dm+od+pL4u1DIyT9BIRfcOk4eBHCs9Kg2piMkDpbLvAbOMNM6JcA8XdiyA+guYktDaiBYdZNJByERPy8lUN7edVSqnNDvfymi2uy+k0XpvlOGVmcj88NDLWc86DsvO/nBJfR634K3aI2RMksbU3Kqi2rtsO66ZZQDpBDX/ZWBjfFeCHC5FjFPPRUw7XYVj/6S5LLxQOQXK7HHLLcynEtsxRbNBMwQIb82I1RpDWLEJoQKNYKROZ7aahMqlZeHtz74jUv8ZPFA2DuFcVJPgTomYSJwCNbKZRPhUipyZ3rVJMfk1SRyB7qMWsRPn9Qan1PiWp5KFeUxPBG8VVlowU8bDhGUg5BySyvAXIox6mAzm6AnWi0wJeG+6cNSzp2QWjo2pLVTTmJLzASMIkynDhuLnp5+8pO0W92JRJfnkVGgtcZwd4MM0uFC14gTN149TTabCSye/ChP5tOH7zcA86VvDkNSpBM350Oi4W3Ky20CQSux/wX5686BdoAwWK6mKWwA3Wf28NThzFteydZgxHg5v8QaHU/JFQn/5LrUt+OU1DsPFFQMPhEhc/rWxo6wz3rG+jz98qwUMgOqPKacm9+1xaZn50J/7qWouXe4N2Ls+CZlkLdlUus+r+fio2GR4cy9ixO3ciGG6lK0x73iCyxBUarAc3hTigZgg3W2xiXmtzqhhTgHJNarPnqgcn6ic7yXMDWPy47lYAB2snG8HJfVQml55mpdimZbbul2lj8bh+PdAzex61RZoMAYoNkhMUlvmTrWOK737UVBlHZ6dqJwXcNH7H72TZZO5WI8CyE381o6AfJAxpMFAeQ6ZGPtcycr+XqW/ZNfDpAoPfngXPEkZEIfF9F9nX/LEfn4vCljroRFooAZYAG4jE18mnYR3YwjctEZOIt6hAvuc7pnBGcvzEbdqds39nsos/p3ZsgTNGdQznMGYWsUAeILvMpwQ1pN/XIS6rYg9jkv0RFO5DNnHFLuoJOHRu9JIiGu99Gv2wvNCQYVyBLa245lVCqqGo2n8b/gA/9AxPEFVr0hr0rqZ8j+lN7OJpKKVTQ8wrb8xQygfRSFjAwTbb225uNV4yxkFEbtsThJJXOXfrie0fwEIA4cgVRISGH66EPPmGjP78Ia0QZGGgq1JTytkwUIIzmOF5Irnym6eJwBWXBmX3ZieYxg13tysr+lvY32WF191b+Eb59I8X+2zm/Tk3Dnz90V1L3YbXTQm5h9Pl+LHknCfbdvlubI02ZyEGsmIMzQ4TqfeTPUiZjFeiZOIJ9/078PefUV1d09ajDC7nSW5ARRc2Z73Ephy4UMfsXCDzAXBsgkoVpnRfDfcfB9CDGflckEkt9H0ehbSVyDJ+JMsdVRhA0+sG+YZLSfK2k74vr71BN9LiOa/INWyq/nZbjhOEgdIPFQxGYIEOG45ot5en5P7Q0XiH+9iCnrXtBRkJaw9vajUgrmaa+Vt3Jaj4XYeAK6jWQFuNqg6zWPb0c5DaqbhNbneopa1NgvGTfPkMcitvKfmp1QJrybBP0o1z/1NMfRxv1u+nIPibgX6e6fIL5Zi9LEY0xFSwnEtJSJjROdhcwlC85lmCF3bhkl/Jsr3yRg6RlnrPzSBge6SXTpNrm0TuQUjFKfoT/VNp5ZHTvXnXVRhORnaa8wc73p+BAAAFE0GaxknhDyZTAhP//d9ydQAIiRXCiqQli1rqIjv/25pzBw1BRRqXoEsxW33RXGMhXlFRnImbI+g0Ew6/l7QMcMOeE8+SQqu9qUy4wd+nhhFW9VqlCGs5k3WEwuABa/BO/ZRmqwCxHniNu0Y8ZZg6+KUENuV6fEU73VHfC/In79uZ06BAhUORkcbU4SOSHwV9spyyHnyF8kaIxzvBl2TvMlezzaGV3jMwknNXQfU4Ky5odnGUzv6uqtGDQ2OHWNSzaPtcPvuaAJxyAYYg/D1bazTCdWuSKH2GJiwnHBXwzeGk0N4vZRlmm48ZOW6Go36h5vAKx8NLtt/jpCqDATDUu+wmi+YT0JT5fh070GTweIRxU8ggq9cuDJo7iKkjqCTi5kf8Id7Vlc0bVGNwpajPVWTVxIf0WNSZ3czvTmAYBxAOz3m8bvHBSOP2mjujxMne7XRXsc6GpTSxQWtyTaFEuLOtfZHsAPsoLm/IFq006+kEREfV229v55MahneWYWOoRsakv8QnexZHugApGBqSGPCtp/C/3m+YUsO4pEcZZzgQ0mhRPliP0MtJJa0L1uFOq9CXGT8dJdxpK29Bu2sUiedV1kzL3BbaXz/uxOL4oekZN1IgZrC4MoIHuu5VzX93Z+y/+cPpQaHLYMhHMeSJ/0ReG+hSq9n5cwFUdsPxSxfZEPrKtJigYECt8CGkUMp97VsuTHB04XyvhMxfqpJ5a4gbxZoorni9NWqZFvcqre2mnvEqoOUPghu603uc/Wex6VjwKzJsJyxwtuWnpBvchXQ8Vfdxsa7QdyfcNlAj02hdg8bT0Jv/6YlsWpytSi6UHOftUzBuio5uno324DVGxKp+mwnl1xoej+QWhBNPl2zgTvlLzhGaL/vy9M9hlekRIhp1yk45WXjdfGCeXDtDoO+QKGu7JvxcqWiGGt0b3gFbbG+j8gFuAyAvUEotBKzYGG/yHr20ENJJd3piNuFpAfka3CYF1M600W/JED1vKOl8e/aNXVw0VgmPk/z26d0v0ATzvA8C+BPfelP2Mkvglk8+ZGlC8rsx0koxl9LkBs+eTw1Gv0+k33pdWUxUoF5QBlu7elgx0LHKqI4peJlt/u4Mxrr9LcAosp/98agEk6CmRxcJUpEZDFvtMbokW1Vjnqy7xUTpwNaCJFVfDY6EfObfH0Zfcg6K7N7NtVF0wvO05kotO+R/7ZEGCcU7AgTs8/yGQY3Qt4CUdeHmMR9aRkHehkBVgv/+1NybftZnk8aSUfQ2rO7xp6KpIO1lykz6Web19YyYTsITjrexVe10fBStVngoydKWk+iTwi9mKx5SdSSJaVKY9SnX5d2tigupAmeEXjikkiDhQFWlWTaHAqvg7p6xtjy2k3Dv2vhWI9FXSRQHn6Eb3h1m62Vru8rSm19rrrEriPBCCJmC26TqtXTMCkiviZ55/aRAH/oTwTWI3e3Zg0OVjO/nLryeiWq9hnS1bEdLxDGH+eH3mqymeYD5m2twXJtTNH8IJPoFIsrvtFYfwVbpMX1wSS6nCQYK+AL492QaBptwH/XegWWOkGdhNTAGY9kJqm2NZh+NxTpazV0JFVWKz4jf8vXxsHDTDh3InzEK1jaNDmkE7GGzQQCo9aXJGVvEpgiehvzY+sud7gxWfddGne6jtyYSv1Vw/Tw6cU4kOOg/8NArTFNFm1wfmpqD9omCWuwTbezKfWQ7Aig//GMfqQC6AoC51b+0zeZOMQAABMpBmudJ4Q8mUwIT//3XigABERVySSnxGQ/MaTFzs6+mhVX2J2mxbdu8tycX/9BIGYfQuc+aIlzjU8Lj5/ULwZipWgVXqpulJR26i08U18lq7TJje5t8M9v3Olse7WC16t95hLoDsrWM25+vizCZY73SLZWY3lLH+WOYoQelcqWusjy9umY2y1sKmitow7zaXH3n3IBx0G2teUuAMuOmPXzvB+pnWS7pvsl9+bJQ0EiYKFQwHfOv6lq8x+WwMgTXruF1XaAUhq7PH16AfQ1SfrDG7/b8sImFbddReQ1wWOwzWE4KkDjj78YOKPM6sFK9kfxkbuWakScQ3RSbtRXBF555/zrwmfqvSYwacHwbvuzfb704HOcIYeDbJjVhdL5waWimJNwPWwnhmf1oXk8eYBfYm1VFnsPqgwCPb4hJi48HfKotwPtoa/CsryrsTPiblsbxjnuyzOww6dVeIb/yqC2jEctrFEF/wScEsJY8vwtOdeJapnHJUbKUnw0ynzvdObJ7YPo4mkzfDmGQeLy7McV5mpggogfJLgr/A5YRWDzdkDl/z8o4zTZOlqV5wMm92ntGG0sovli7nU9+2JBbMtDxmoRAZo7DYo96cWwzToYyDLprNhw/kANATzyRaeTlqq//ItmRtUZetal//O3E+tpn+ZF1tTSvAoGO7ZsmZvvAt4N169EaGOn3rqtuvdZZJJLDldgSbGgfB1VQoypkpyBWfnT0vAu1IHDfuODVNI6XIV2UErx6xK+SWuu1zKWPRkUSfbE0yTzctHdmdxA4LvUP/kVjAc7OMfRDm3jndNiBzserj1xzljk68T7BQjWUpQXobqopRtFHD9syfuGJlL+zEaI9h+0ucBptHEnD0/9C8n7pFoyLZy0RjyVkzuU6StfGRx/OKnGZJJ2BPgO6+uB1ZHbneFiEPI/tPNm1xXxgPK/EjvplsvzMQmP+nJLY243jDMFZL3F5uFRysSxNsmRkIfjxsvAki8EczNPyq+j2lIyfW+nx01E9bn1MzuQXV5Jr1vP89dL/EwPx1yc7T0ddmDjHgap+1Wjdp5ed0vy7C3kYIdcA3n82GF5SLkNCAGNl2gWKQDf8eVdEnY02tM1TFkxPgzpdpyhVhvbDtzySoGwiS0qQ0xsjMOlZ0dwuJv8tnCZK0tZTiO/EQx4bkgzR3PH7v7/KlYXkPucfiE0DOeLGSddsq4GuxdjpPtGe5qoX4/Z3osGxvdqhEmPcoKoyHUOyb1fub9x2Au0eDYfaWy8zFFkQeYN5miiEfAEJBiuSEDQXSsZ8xhUm9bxKrr3EcsMeOIFo2Bg+8fX/8ZMGl2U616wfGYVbPwHcJRsdekvmRcd3l4EtIJa9B5FgpurB3DE+5fZ9KZyJ6ADSVKXXB9xi143qP7pwXbAze6KxxV1uBcIz46CwFM2a3k5A3M0CTAmGpDaWIekvvkh1cqKO/SubASBgYsfRvvE//LcrSDn9b1VwcMqm8XFycvK7o9V5HK5Lo2UniyXGeeCkb+bSZgFR1bA4Z0MrA21kFTCaThosJUOXCInJj7e/E/ghjuZVg1JwJGbL+4eM2GkV92ZYiHL29fQNDnFym+oEhWD+yG+wrIpZtXEtFjXQNej6oPgzZkwj9OmWs/67aQAABO1BmwhJ4Q8mUwIT//3YhvvJACqWsbnMwVaHXRKCvcStYcD98vv+Jmb9T+uPtJyMQVUejJzbjmelLDcRZe/U53x3HCItPkFVuFtUuoWYJu8m15PkLcJudoKDiH2LZCGh7bV9AJuMk5oV728i/FnVtRHqqoS14pVmAWmfvBGV+xbQyOpzLoUGRnL5826e4K01uXdalSTDetgaroVLjqcnir1pwmVOOoE5zQBs7+rQiNMs2neXlR9lA2J/pHqQVfvjvvIXffMoPl/ycRt0P6mHmskLtZK2FsTWwScgpvG5K+BUcCZkRMQwftAgEWNQsgoXHUJnslk1e8kzTsfJUWUKIEabgJehkP5Jx0FtjAwcRlrM/k3Qnji6+hfLZi6Qeh66tc21A3GgqoquACF5Doq5mbptywtu0VMCvPsuTpBfY/bMkO48QHq7rBdvhT8ssLyDzd7CugSS/BwMa07YlO+c3PwWnYPK3sELuyTv2mFYjkIM5KwHrQcRrdff1Uz26r8Zn7CjbcDJt64s828E9TzUjdeQe1fF8FTIl0JW7gkrYzHmWRwBvS7xsSdWZtgveCLypDaaPNKEtqS434lQenBb73HSYfN8+O/dKEcPeyjBU7cGqpOAM/wEabQ7TG/H/38xJy055qSN4vbXdpBCWfub5aa7xD9VtMA9oxJiFzMr+aCB0quf1SGrxyLXQAlz4bHwTB8HXPrNUTRRHtYyKIRh380rq1hsAv7v5KJS0+8bw2nU4w2A1bF2J+VzJsbXPTW/6BOUlK41w0UTE6vhuqcmyYhhl4V4dLTRoZwGKcd73L6YVlXVovMDEL0e2St/ay3ANPt2FKsY2nF9VkibQkARPJ76XLLDq7GT7euJdp2liarVj0w4+gjJuzCWXTgVCpLB3UStn+mMMcXTf0AlaYMsZ1wADYC1iie8olG8jtNQkLX1AGdABya+IdCjznI1IAfSxj7aqoFfnwQIyoHNe3P+vZyMaBiDBMsntbYpS4BrxOR7trwePs46V+92GVfer/vWUECIXdsRaYZRCQTN1ixBP3K5gNMZJcbmEh+4KK79YTY6FM0k/tdomb4YYlyYmWxh3eA6UQqP9o1bwgAN/g4bb39eDqbaFFeLARzgnZWoDzDnPISiVpEF2wm74MM92gLADFwkYtwepqxm+Kq/jU7Nv/hJsrP65efbZikxnJNR78+sQbn/SOK2Xoufkshk9Zkq81Tm8CnYXNQQJK5TxM/o7o6ICyu9kQ7ni51tv0+4AGUk8yVZ1Lw3wD/yBYX4JXc+bQMdyx9Vw7CLyVfUmUJToFho+3ru8D7royRwQPgJInTJnekSI9zAdpAJKHdIKcSXwyt5+gHxDn4sCte9U/yROc7Pt1+OGSUmVaNtO8UKNCTREsDp8v7ADcfIpZUNSSicNfJi5xvtKtDXL8ZDBiMoV//H2O6YSqXKZbrSxm2+u5Y8fVYNl/hZN86I/NknfwCaLKoswdN6HDdrrZa8SQONesiw1vBcWlDcrmGFFB+Z3h+gpNciYiG4EWXj3w0b0j/C4soMDyZS2FVXmGMN8sZCxoRo3KyjayXrV8O6EgJmRWCgKdn4ya6FhTbcGc9CnZjHGZZwXir0cDbnb88Hj8eZi4Med2W/5aPeyj8Gh/ht/TEzSf5HLpERCWekYXL/3/VdMiu3EvUNY+LMpuVdRePwAAAEqUGbKUnhDyZTAhX//g3oNoAAg5g5ZNzve+cRTQwGOQezk9mPCwYrMDQFDRegR2VmjjLfmH9HNQx3AXOLiwnBAZ96k+Ln3XbAYx3pCMz8lpvFn/ySSQL+fCFiaIOgRguedeelktqGJsLuZ2khO97OyuB3kz+mCtu5+/6XVjlXf8XqbQPFaSo7OH6iuvsNVvMXpruCo7u2Hym+vL2L7Ykr3r0PoZVzHWrrptrKnfHX+yu1VVXh0f+thxhumprrrDQx8IzLN8z9PC2FdYF4dvHzteGNXmcHnvITSQcgrw3ZEPpeNNLkHqxnmv/jSObiKeGLJKasVlE8LH3NMds5SN8A7rdb6ipFTuUlCijMqJy2b/Xh7PI4ZUwnmCG9v27HkgEQ3+1Ggm88a1FOH+V1N5Hpnlnt1R4qDMLvSSo2rEVS3pCo9lFueaWqwTt5wGRdS7cGbmrS6i9TWGqcOMJ7cR7xBkHAIcfuXJt/tzyAnbA6KPKF/KH/+cYR8mpXZctbBmnVrekNzAkbtBIwbvcco1zpWPiqPVQQHgbi7wIkoRPloDyjvG1kZuQsGdT0AolkjWWYJcrVAuSRmHUQxqXoxPS0RS+Z3glqCuggo6RubfOss2X06JtNqD9KUIbYs8iPrDhhVMFapY66fsEBcSoJo5zVfT9D3DFA1bsgVgNvP6R2hWOMxOiPWE5AmQ+4kOeVnT9Oq51FB7Y9eX4KosfTKXCF8pKPoImAPmPueWKn/Tr62H/sBvtBTNcnAoZ5jUomLlItKTqTxroBFw7lXJ4D+expEDYtUHAIg2SFxwesAOkOZbkgn5NILaR48uUFoMzpn68Ud8uEDJz1QyDmwBmDPLu2mpvRTYjehTZjkjkHqhU8y0k6C3WrJRyFhonK0S1ubiDcywtFDMCmidE9MJ1tA0h98j2OckoBGo9Wn1s+oCpaTsyH8jFOyuweE5G69l1BGRhETJ8zUPF/TeDvSjWTxfiTu1zGk82McFdkn/1w+EsQwKCtPqSXoieBFv51LWiW9Gv+I0r4fWKu+HnW+TUweeDagSY3TH4rTyXPT6cYjjVR0fLFc4eskBhpq8zNa5OV7U1eM2ufLMdyXBLINeLmD3J3tkuDfbebPMnP55U79uNRXVa65DyEixsMg8bXjYNhUbIVz66B2d+hHE87RqvaGX7hE+FaVbOJFmU+kDlXnSmAKybsxPMyabxoON0wICc62n3yDGWUPUglLgCrQZlr/BawyygJSH246HmX2BgU3knRoIkzePZQPCLhBxZ/AFvjiZ+smBnujMESofJK93n/CHpLzQc9WONTPpU9APxBqKWa7HjCqfCN4p0SmXxWvqE98stx02OeOwf7XqY/ECpd0AxbCafHC8krlsk6OJxB0S05qZ7ACDcKoBPEUSupCFh89Eqzz9MDAosan2zGOenod7LrNNemK0DhljuQB0ED62td/PnzYcKLPPPRMtVPlLB3TknRrsYNJ4prdoQBtu80zOXDVJZ2XGo6m/dngcX3+rOXrmAImskgm5o8Tg5EQYHUbJhVa2F8jy2T5S3Yla4BVie/3Xo7vtZJP6PiYlEaMNJvW2lpSMQr8khYfHHAAAADmEGbSknhDyZTAhP//du5V86ACTYeMscnWTFcxIuseXUS9eBdzKb7ZXfEYkKPi6mj0bT9eq7yVMxh1q7qVQdQIUdwj6oheuQhylFs6Qsv/uEzt8j1YFNZLsPFY9uIEf5rbdSdo2lZ/K76qB51o0hR9e3NiDW5hiQrjfAwToO/lOMgaKrMsxkBUjbOdikh4RNT5Kb+6hRunmNkRUni1pIlYxfHWw55Jkertfg5lQ/yr5JVDrKIp2XGdy7rh62c5Iz168r8wYzJvbNLNKn8NT3FxTT1bLbcICljilU3tOkA7BZntPjmTt9B3JAZFh8uk3QMW6zPBwMNUudXuHjSrB5eJfWHkjZCrEPUT+/lkA9I+0MeC9Zr14JN8/2EbZ2NKOLvXDurNg4qbWGEv5hlDq7GwnL6e/z3DnoKiwpmuACAEC/G6CWEZjMVIbKu3IlxuZwkFo/jEYFtyuVHywLdEo8XaCIAbtt6pVXLeTY4nEhEEwoAUSEMOdcjYhHKiB1UXZ8oV42+ZxKaNv7wiGpMAoT9iNgiHLKQ6npn3342TviE5DllT4hDGmQqNl9RWstaQom4GCnREDf1qB2QHMEk08lBWsC0KCn6D2AypCXQYikLLx+UArk2p4gh1Q0rbgVakmkxCsbz6uLhV3sb8vozXbi3L2HujlgRO0lj1GaurJ0fWIgPEdwACoQt3sjJca7YmpwgXPtuEelOWF2MmBuacANINNhbCr0N9jDZNuJ1oe7uUgeR+xSWUjHhX138gF+07B6bE6X78uDI92zPiYvEWjDpwSZX7ZyfYGFPKoa5RsFgBKG6Kk+1q9h48viDMuyo6mNfD6q08eQBz9vhbpeTrX7wuSCUxdRdnl6q2fujEt2091CYIq6hFogQ+taYqCNvufdz7R4fBPBBqNCQi0B/8fqTIINElrvLCaRf72GP8uYKclrqxX55LfyRgNEIDbNYOGeznxylJP9yHs3Nh497kq9yfNKW3MYUk5EqFGj7rUAjCyL6j5D4m8vOm63vO6bkOPChiXeGGJ926yhPDAGLd2XnW1BMUy5Zlsrntea0AdKIhHfm9eoG9X0Bbz0nkYbyaHAuons/+lapR96cD+hQsRQGKjw87O0JpdaGJKUQxxLjfW1qRsZxRNUS+YEybcKwnq48/0KUIiAwlJjgCo+GDwv/qIDkqCpvaaHSG591KiDukxL8ve+dzFKjeoIy+rFAPpoq/qlrsNG0iu8XAAAEAEGba0nhDyZTAhP//d325i/uQAbRDkmE4gklj75AMrOWg9hkjIONUOI0rjBsMlKhS6l5DTIPFPZ796Z0G5xQafa96oGR9OrpqfZcwMItgl3QLIuuylBTUD5BN7mSCEVCVo1YA6TB1e6eUakW8JovYCnGue5OiuDbJuCvNx2PSXvaQTuE3Q73W0KQY81cOo0QksWmv1iSN0SFjy7Cegzq5zh5Q030TmR/sVDeYu3eQCn+i+i/783wsN8K0otVe5X7FZ55fM8aT7VJc6cezhXJzM80vUaQhgX942T7rLUiFVxjMQ3rz38n77tTgPwuGXdtAgMOYNVe0YBVJFQSvrk1sFCy2mskyjmoom0mdIooIdcg4Ve9rXBriEX9a5Gvhzyk1RJRL4O/mmyqwbZcQcMX29Y29m2tPia5kKYA0waRv7Zrdhe1NSzyWhrNi1KWEUuVVavlmr4au7tPc0JzGa+uImDUiGZaZ7f7vjzw3iZw43TUT1k2tvugoL7iTkSW1XCqgLz+4tjmg/VcGLi2M18b1+QNRAl643Xxj7EbithaZbxvg5Q/3Y0fxeFgbfYbxRkhDZ8HcgC98I2HeKhweUKIayXueXKm99NqHwoA2SKSslkh3syVQuNin7oNytHWdMYPBWI23K8xqAN/tHTS/QdFtwq2AD9rWxnV0mXSGE3/zICg/XzBvi15TXbI5oAz9+n264qt34X0ltvgSrMXq5uDFUoH1r6jJuBVLXkinzTj74YWfS+e60gsr3uCfrNmdiWeBpSQDtzyjA5BZY0rP+gP9lyQ2zoYQsrpD4Dahn9+AS0E6mGRkelh0AIwEQOE50l2H9MGXsOe5J/xzGZi0v46DP3veJ1lQkJ81xX/Xu0dzYUqhkGUVbcmw8eNjj8R6/eBn64WdtOVTPOPXkcH+Eo6ZvovYJTfwSb1ex6UiXpsUB/9Sq9bHGzxItufAGDq5thJZRf6gbuPyWcIjcV7kGqNS+XfLddrDyFIA2Ov+otU1+rTl0spmul9YjLpzUv5LT9ldXbujzNiux3n0kI5d+RqavxTdR0fYoA9QUJqEAfS0wJDwcXldAJY+v7XsjNEhdxwcfj+irEzZYOAG5/6/1PpURguvUms1r75Wtj93Uv8oet8U4gJbZbwhYuBNKfbGs/Fl1gQCR8cZ2MaBGNDLTs5E/VbfJ5IWfTZtciW3LcfcL83UaQykNP7RboTSJUzrFnuCQvnimDy6fO2OLAeJUPjKr3ocwzJ7v7syZNoJETKRw4M+YBfd9ib/svvfrbUy/opGbi5Q2jMiLeDW+0+s+kK7/EWhG2ZVDcJox0Xcao7i7tyw7RyJpr7ziO13MF/vorZCbu2zt7HUwlHEQZJJAx45pQAAAUBQZuMS+EIQ8h8D9QPzAIT//3S+YNBEsSMKGHI0AFoFHuD6s4U/7Ctg136KWpiu3sIoctAv+j9g9RSmJbhvjOE3nvchTwDoABaxePasHDT/5eezMTduPHQrFUp37T2rqTWROP7yQr5JMZiE3Bo1bbg4Q+Zq1x6J9tXphgeAdAt3jwfuzKBd1wsEr2+rPAIOP5qLT4iD+MapozY7I4CEiHykjqwFa8Zsv4olc6MFIEs4vM6TFxVqRfa0eSXX+eIubv5OPHKiukAbxY9LQCS1PMcZg+9ZH8XDzmzPkYdwOvbH4b5nwd43Gqq5Xnri5YB4qZprfbyWI5bTd1h8TkjXTYfQ9qXAxAjhPlq0y3lpLj0q3kpvjjG0f0b0aVSnMduDxAqua5Mm3I549w56CgkV1Hr8U7oxIKD8BMgVHZWwfiuxFEfY1L3WkNAR9P39eWQQMqQxFCR3+OMA12eyd8ELYWjt/Ck8i3MXO0Skx6M2iibi4B+GKhtkwJ3kiYLFnFsZ8srHq2EFZOxyMXJfAAUcfNXUoq2DbvJBQJ4CBK7k7qshr7RHoEmqa+qSfIUcX7cck3wldeBjUja2ha9jzXQUlq0NJhf2tAUjbK57TFlNSWx+rXKDsbXnR8Gfm26iZ2EoJzFzItJfaNEXDpoOYesdQ1Trl5DrlDzxiO6xmm5qGPOfNGSLdGdnj/MJTNT7CHGNYna2wxrSaGwbCy7KzQ7gZvju+tl6p6+KBBBFsN5SYEQ9KIP7PnK2v3A/WTW5zLit8IqwBGaw9PgBjm+318MVF9tq27/v8f7VfAoFjtdHA6u4bfAes9HiRy6MK33OuF2kwM/wAw9lvuZasFZKZ1AVOceT3+h8ykaPA/x/uaLbde8IPwh22cnxRfUj6KeTMsVqNINmmx5uR8vZhO711NGV95QJ5v8xslx0NLubcbSbQPaT1daTIVHDtCemh5+y9Y2N9074xt5wjLr1nfeeYWJgItxFkhuylZCFrGQI0mDnszxa8zx4yujBbuuOabrSufsabiHf+fR9zox52j26b9NU21whHgYYLnknUAKtHpu4w6dtOo/YFHpe5o5Ezre1DkyrASOlKeaJRx1cmfa3bTedLrs0rvXxSVPwjIIRkyk1jEeXuqFcOk53OkWs6LupI8/tADewRNtGm/ucDs2XIQYMSIQAL8mPR4H1IowDJ97HlvL8RBv42cnEUG0+PYFCyh2ZKFgEepZL2hVWzCJP8+zC/lh7w3itmY24GIxanqqOTBTY/oItH8jPV1MO3RkwfnYLLxrrxVqiPTU0zaFBxFVGxaYLW5f4sTI9z97wsP7RHBSvGYpaoSMAzrOpDDwIA73ktEodsuWf51cFh2D2eRnVF6UVYS+FoLbNzMPrYoxy+47JikcDgm2iguDeVp/ZLjEMZsWqhjqTdZiwRP9ZGnw3xyNbbC4ajS3gxRchiv14RYjrVlDjBVggTG5X4PuRaGg4MDkN7xzdwyQ7gQ0F54vzQ5fYCk7K1LEH0ZZGR99LFRha5u75VJ7iv5IVGhdmTi6AHT1dP56mZOuK0qGkYDtDTp8lc/tfb8sQ4BX8GWT1DLeTAouGzUhKCv/WnrJ+Q3Hxg7ZIyxcNiLL3gfwU8qvpjY03p2RVIojtLZZKXCMBQhh9u83BZlXottq/cvg7iIxlguWl6NHHGGc3gSaliFi6LMcHrGk5YR8B2y23WWykE7+KMwwAAADuUGbrUnhDyZTAhP//eB7DL80gBnTu3lAlyL3jZ6doTjuHkPr5Jc+cEaGzKdzKkxuHxhs1dm/oXqrl703Av4bSShRGNx2ewLj0mt8C9wYQXYmTEThnCmi6YRjKlQ97xwptfg73EEf9aUvAoodtQBIRjGLzkXm5c/eu8Z9DFZYca/EjZ/okDQpsgSWgG7/gYIYakLpCacy/fIIIZpiW5Yf+WUXwRw8a7LpooIBaLvmxYiy2aaqRVaWhB+fPsuwYyKrztlcR5bEkMMwX0lPA3v3uy2DgJw0AaMT8UZXzweFnGVViqssbCj966daR83a191w51WAueerwfCXjVheflzxyOqHlkRVCea2WBYaMe+8B7WPHPZWUqpPDQWpHLhdQnOqHbUPPoC3mJQo7UlIBWQ1eRlW5I5SBnesXISjwXn2rc6nD14CIQJI5o1bOR/TuXcVKBSCxY4cGBdOi55pAQF72WNw1sXEtD3KVgJbZXhtznXR62l6ZsW1JoGG2TkkGhqpMknYEfyfSW+xUBDIWVQcZ9jXin6Sy9XfEM0a7gxnqYqFbRMORAl1aExVjEcoi0XoT6a5DsZQR3Xb409ILuPwoNW1kl3wDZNkiRTInnu7pmFFE8kB4t1ZS52AAjAovoKJg9xKcTdNJdGXmxbn0NM9sPdcDhjnniPHsJaN1/X0yj3+KNufeYgW2PZnpVXtk9EAQ97C7Qp5b5+/q31f7weAVYthlSGXCcIn3tT1ec1OUtSq8c63pO5oAiECD92DIu6HCaTW9qLk5eAHk7GQABmqSReGgckIXFbb5rfsyaqU4V1MHnGdVhCTKdcnUrzuxlpBP9eab/wei64VqsPkoX6wqj8K10LywLxOTRnz7AhvkPKApIXlOqzdwaFRqokWJBVGYjNcJrBgLR+bcrCcpaK3auO6OhbxbtdDTpCXGGh/X0glFeSb6hYAcLVHqyag5xcHdHn/x3ycNlKmlS28tOfGohnuiOIZJiZbsUjwL3fWQ3orwkQK/vVYG/hmMS6sergdwNNoiEMfuwiXrdR2DstwBXl+gK9QULyzeEubjRW/Gf+bmoiooQb3HQjRyMBZ4GVaO4UzycHXDLLlTbuureMKBhB6AiSypcz7Ucrk/QLVe7AxRnQ5TeJyyAuSeiZhdkr8+TT50DKr2t3j5MdQg5CrKGVp+0QnSYYFLpHc6cxUT2gySsnR+dkhL7JxWFjC9LELh3bf2OI9vcdSa798rtMOmmBKj+yMJ0DzBiWbD0XyIfUcbpWPKmcq6fBNAAACdUGbzknhDyZTAhP//aJmVASPslUnQDSr2CIo/S3ZhwkiBrCXpC6k+gOeDBFLBGAHzg6Gf+7DVzVCNAPXe17XGXdjjLrWjDq36OuILNTDVS5NxrIBId68d+9b+uMXR8rQovXQmMpd1BFLg3PqHNK/E5x/7ZIX/+3NGGfiPsTyv6qEvODY7CetE+g20snGLaEUjY5skAx5fC2wbbFS3rcNa48uI1E92JcZdkFyBa029YvRRM/VFOlvkhJUj1JrJbDfqeZfcl3TM7/b46H1Tvwu1gqkXVFKZCNSH5R2zBJACsfHM+FVbMlwfNqt/Wv1zMNpI23+UEJCWUN5HTJwwGxB5u/6bYh3mK+OYf9sgdyyO6A7wnGueoqyvdSTsgMKaNrd59JeXf3mbWX2muZUs9w60y2QnNEUjREVXXoQrF0ZmiuX4oMfG2m01rQtIzg5MN4uZLTi4UoemiqPyZU+zAeJg5xKreafN0MNDaDcPuRDpuYCnvm9JjD4nWVeuy4/mpyoryi1yvCEY7cBGmCf4jS72Gh8MkMBfp79iAWsfx+L8Pb+Sg6VZpEKJrVNPCMEC63Y6EVSJ/YbIGviVNJ5l2EW3X8CGOlv085yynKTs0WuMF6HtEMpXdrulz40E1vuUBYps0t83GyC7gpD2UT+9haHKkkqXge3aopDr3ic18Z/EXcS+RBOI8Ozzro3Qfcanm65cg46HJIaAqn8qPk6ffBmaYb9wzPcRr4u7SrJT2NgWbt3bKuZoEOsnCxJdR9NxMf9fEVBo6M7plU13WBPC+/qxL7QXp7H1Ydhgf+3P85AHWj6Q0ABqA4z/5gbR7hjdBRbtLtlL3ntAAADHkGb70nhDyZTAhP//dGlyychuoALMNBk8wmS4tjXZkaH2gU/FUF7LHK5f3Hf5b9bRyyh+KQST6IA6Pf6AYaW8fwd7JKJhcMqGi92upBy2JEtmgL/fl1VbVbg0dQnAAfTh1jfIsN20RYdH6irczXyw5QUnYGrm4k2vasp44C6Zs/sJYW6BHHgCeg3CEW13vh7EX6pyGnOuph69dbF0TklPbLHGLKkNiW6DjOz9MjyF3aCT1J2xVp3GmuNEDk0GV2uqcYxteBuTe07vZtHjd8TifrOcXq1VC0DPYVck9BomFkWow/Hn8Q310WcG/sFFhL7hsqPONMmgX5hCsb3aP5N/AW6qRla6J59nExW+OkY/g/VOFbh3RIYq/+zKWyLTl+eTNUs5h3KzGqmvShSoAhqifD31s0XaJ/r7HZZFLu6FpKR9tjFGK3kZ5cQdeWNLsgyJPpTksH5vicrbwdZlb/3k4hzMlN27RsO4FUlAuirZrGleIIXosecogtst1kDmf0NRnq14QlxXqQ5B818J24aPW6GqKTN+mqdvwWGS+E/0p00R82SW/Qwyv6n4GhBjgJnk/7o6WvPTKEPiGjmyl5eAoawvao/H8ysHFkL83lSvmUqGUUKcb98Z86N/kOlU1nijYbk+EclRzOxncEbd0spL1TA3Rh4NlvnuCCcEY/ztByBDEHLxoiGupBiD0JvoX1MBceD1qoSdbNIgW5rEJR8Qw7btsP77B+CB6xYJN70clKL52LNKBYw3rm4sGgz0DpnO449HOH+0I+z0uvNdlpd3J+/dBuOXrgTFapN/uyDUzoY6flm+WscDyv57Fk4A70RPdoZy/Rwh5gZLEwHJaycl1O1j25+60qbNV2RuurD+jWp2f4JMQ32YPHxoVvPyyt+9D7YyP0e5bhSEB+Y8n+dzGLqcS34UD0YlW/yFEIqyrWwNPQ5O+9TrkE6nf4I7fZ+7MXhf4N1aRPgxMqQC942VRehHVBo3E9SU7jEPKk1b+jjQ4usjCCysRcOF0exjyk1y5WA6UwkJmdcSWmwdmFXUF4+ZQznUO9eIs42PQfeqwAAA5dBmhBJ4Q8mUwIT//3RpQWlE24AbVtqDV0JY+96OHmq0BeKJJFk0qPcaVnoPXDoKbX6dvzaslAgB+Hq03ie5B5TDkgvshUHydVDM8HAAYwq8VKbU/k4yRk8xS7v/IMhtWneS/LcvBdZ/vWB2CJSb+n1FRh9LFLjcxIJsH7OSrNrsP6iD20NEYPksjnX7hncXv5DlNBxhWOO5OfP9r1McP84ecVcraw6LBIZUS7OmSX2JMaRiPxlog6S/1hsQ77VBVmRwh41Xvqvq4zjS/lg9N4wn9R4L4xD51sp1vnY70ZESqEuC1dHz0LlDOfqztNO9ucwpJFCn9snvB6cZZLmZ53/dVLWwzKGre2J+YDTdpMoqubZ8o2DNVT0m0PwC1+bFBJaMDRHf7vXK3v9y4ZZsuXpa+EtOEr+IjXIzvUVES9bTg/HBSjSoQFi/47cTqNfK504cVqbMNlHjNZ+G0ntRVaKRvW4AeASg81zTA2cPiy/WxfKfKcbh6sEIM0j8dXXOqIWiejAX612Iwx0xljONqlw/j6Lk9aKx6DOqT9WDcAQwv1pWrbDlnkNc93dK5jl0134zesHengFNvCj7qN8ldi+PJHbjKVkPbNtux71fG5EotchHd4rbeFo9tnABqqTp5oqriNPheRxt/0w8DBs77mBcOjzvwGae6YDKm5peAykdzYqEFK6KgOS6jFBGRV4YnDWalLHaVPWWVPmIv2RtSGes/HWnVxTy6ffm7Uj9arVdji20XEOK2RuZZCjBWMGYSQ4BoyxrQgq5tRbb76ir3YapkBfnGQAPeK6qLs6eC4giJxLomqZVaewujkYRcNRoElr30ElUPCuys5hn6VHE+/j9ICVNEBRY3aEnqjJivVMkov+NF1FBXmKkzuyEMAKpyBVwxXys2Ki/am3unrw1J4HYwXlS611IViL3S0XXQH1VJ851iXKeEbeFJWdOzIYJLCx6oT3DNYV/yIt1sEjYLptQzxyptKrfTDL1L7O5OtjvkXXkIqYephY19xzM7Lyiebszeo8L5UDOrf1XkCjiZSJ93ZQqnqcc7qiSoyz7uSWT1qwBLWRENyiHNm4Q0vfiuocwj5XlgFWl7LrQFBrruQsdPsztrq50274dmaGbxKsDyvCUg+u8958HbjJvGCvbdMkpfkiYbog61zVqmgzdr+QcYrHYFmc/JsQ0OhuDezeqcFJz1DTCF7LpjhbRGUOrVd39Sy40I7jAAADfEGaMUnhDyZTAhP//digeqACzvhsk4pStBQ/hep6EK5Y0BRDp3cIkIIot7CyUmOgrvmL7qV1fgL8ma0tsUlt7vQ/SG37593OypdGe4uNKLwXfuKgK4rvdOkgUSv1AMRu1ZaXVCvblFIIXJVWJ1zMQbGTJ/A/KE3lPrrgMdHbu+WiJrcgLu/rdXEd2MSpfcPlxX187i8IsLi/E8RLAdO35XNjEJ2iJHsSzn4kCheSqXr0HPqiNkSjBHw9rWW3xZU/dcnB1h/zHQ+zGqM+8hjA2mDB1sLSmQ2Y9jg5F8j8hzDL0WQogPzywDecltewT1/xmbsigwMoCwRefQB9CwtzbweHU/7/BTdjijq0aoSwoZJvxBr27OdLEhSjY2M3tUUoPP1ZvYafssINNGm4UdyzErWIXIaNTzbXt3WbfHfNJI+acuRfH8OVGlar/CLS7QOJGCQG+47mO07OGmInQ1voafiErqzdPhjmlIkofilfRdHXItGp5+7vgFIl0FBTYCM7xVwdJhyf0/5oyr1PPfMr6aFX6PuSiCAXeJa/6Nw2VIvKoqNmR7OoruROwK2S+s4OdnK8wEhDYfJDLQm9qgSgeEZJir1WXz1/EhF9lYbVOx/PX9dBPECv3U+UcTNbbBZhlmL7ijkHYiZeIIo0jbY20pqZCoRii9aoniACihUs2wnGDH7MgQ+WDikL9RljlwocYTxd3MnqAROgtfLz7jmPBDiC27YHuWWlrYOT9j1HqaJ9H8gYd5OG7ZP7lS/tQYnXhFoVsoxKGDv09SwV+T6TAB/PSUvMeSWUiTjuCQlZ9ZSCqutGfAn2VAXB7+r/XA1QquyN9WqlIkPIFT695AYC0O+ITIsJjUUyV4JcE3YnCGdNuJ8IRRK77hNgiqHmlKBqv34paytIcW8B+nYv25qNudxzrvjMrSM9FtsanI7EUJBnM7nVN1Oi8ruml0oECkwSZI7xWtJADgIGiZnQg6fp8mpCK0ew89vk24sfpXEgyPMpvvTdV7uv3PS/OhCztPqz6rg0o4Rm8cPlxcoguvV5NigvSkjRcuKXS6cFnagNecSKRvcnPBoW5ovsq4ORPAjN1z4gLjvkPMlP1d5XZd9FTSrWQVVuvCX1QzUgMP6WBtLGyJyxtEIJ7xAFqzayLSYwbvQ9mqD8sfv66XkP3ex/2vVVP2BZ/gC1i9lTRuAAAAJ8QZpSSeEPJlMCE//92HNIADP2+mi5NL8UsgNHEatRNc/3PrzUB79bBfbh9bUwg8QTyT98ow73Zh2dEQLMwe7YCNUOAGF+V0OJFj8rNoqYxSHM4nbbRmWOUXjAzFkcFel16YwM2YrMJN+caxoITp6rE0gF60HnmiEvH0USau371X6Anzqz9/v7p1ebwt6O+NTSheUly4UZcTU6QxoXNUiBCetI+PdxjGmYbEbRNVsc3dgxha8VlleBvfjfbsgaOhwVodwNJiRJvBRIlmQMEN/L1BGxvGJlY0rkEXF/HXJa2h9zX1LV1Ep5g1tZMSBnt6p5hTrW2d9O+r773SedJVTnqLNlPRGwxbuBSZBNoaqv8ff+Hlm+HDd/CwBCZjEMVkXewppLIn+Gb5fsttfsZwDZKO4g6cEEYysNCRDDdIXcvsVVCWmzPBxkRmjJdamJ2xktOzvDjSFezmuMlZ2D5rfAgJM/mL6vZ0BOmntMw7KAZGKPHnvykjFqWSrPr9tlGdj/r0Dw8apCXXNhkKQgP2Gn8wteSfXZHFYzU4AsQGi2EbvaV/5h/U44+hSZ9u2KaIhYkUWZa1aVg0GSmfK38H1iu3+HA0jETokPZzMFETkDDyI4CNkeqjGMxf5dCdCyibiStDlR/xdwHNlzdoQ5/e38EwKdeN+Uf7/PQX/31ZRWYhUUfQRah+tGvsYdSPbNTc44PbIFFNeppK2MgU0Rfg7DEZmi4NyzOgk3XJ4wDvahT6Bd/wfrVWdBUFAHffNaNWc1MCJ2xOVxXe6/3SYnc3zxYpniehQlHC57ydKx+HVW/dSN8UJLtlwR8lgdf1oE0sHQEkvQV1WjsKWimdNBAAAC20Gac0nhDyZTAhP//jb6S6UoNbID46s/M5mZqViDeCrhlBuNlvTuEBaePFwv06lsNFeXFG5HBfe1tFWw8DzGbwbRTHJinhspMg/xHpGxF/5PbMhYNPZCqIwFH9fcyrZATV/GTaWu/LiBZSpuz6vzK9Ab0TpeZm301i9N404bDt1mywViwExxhd12Zd0Z6mcESOOpA6IB0IiHUfnQ2D0AOgkUU9uxGende5wwLjrOOUtPacICogwykmNBHbIg8Al8ImPVVOmwUq0ZXd/pqGIeKBXlGHMBY3wlqwDtSjwQxjFaXXgbMHCfby6KSIIWXZGkA2J/WKp7DCofeqN3XxAGriMolHqf7+udj6Kpk7ikBeuWZQuhRAFXkDYIaYafypgVXa9AzyY5c8wf6NEVquMs/aTxlzboZhGiKthb22Iph7t4YatX8s2HXG3tL++af2eCvOHLY8owkppAKJ4wJIB8quwKNdhdFe6yNrSZRU7q8MmoG6YuYwAKhH8471mKrljrBKpNQnn5DHIQMK8v7tZvc8t2YWF7s5iG51n4EbUoXYCNJ0n+O/ThrbHVGf2A8pWV0bd/MZyhzVbJ03p65pKDwM/8MZxURtuzzKufuvzpmwT95+g2rrXH3xwQXeTjPGyf8GjLd0Y8Y7zXjNGH5t0/fHsgl/eekKpbInLY6pGeAvRpe9djzo1vfuNR+xNmNFxAzL/uDb0d/4vWhbJ77ZbcTIVatGuPX7JKlTd7PXtN1HVJ1CwXKT5TcjNZ+E+lejWihafLg5Xq62SoVDe/KlLFQzbz+CdRzFwsVknl4WoPnt8PxATsqBgpicobZWhfqbQHOUM/U2MRp4WLLF4WRBZAD3Qz7knH8R5uix1z9ZJhmT5Szi6Z8M5Io43KArAWSssUHBWEerVxmQeCh2wmhrP3/IsDSLIYKEl3o8Hv8lxb6aknFSeAa05WdMRDLyAfUsjHvD5y6Gt4n4gVTIztAAACz0GalEnhDyZTAhX//k9MHU6IA3+xRifC1NT+mQllFMZSQlzffoXeu4nU722YyzqfZegNx0ClJouDe/vRt8u/shiRlYdlrx+w0V+zXj3SymD9MK+YV/q8cDhs1nEEWqLtDQnar2fEUJs33lKE1NUL2oHslOSxiEF1+5oCrAK86qXMccmzyFrD4mHjbZD8OOLHER67yeAlXSh25lDEi7M35/NWixa4ny054UJXz690r5bm3RKxNBqQMdjwkRHwFhKjPb20R4UTY3i44WhzGwzxCRdFrefUFcWDUdyu3lp1zTtH0JQeTMFusg3xBYh1w13HpkA/ZisN+zN6O0U7v0aMjEOh6eYjnVWJEEtcudokV7eE8O0x95wtxNyVPjcuk9J5yA2+kViySXVsnfwxMp0ApEFjiwupd3L8nlU6ieptONnBLEA38heqwWIiKA048wR0RrZU5C0g7GM0SeHITtS3/ptUq5uUdZst1Bx00ORgjApN0C6RAJeQ7lVEUjpEYDXwAIknBLvuqrSamZryLteAD4wZZZKc3nz8zrSuUeqO9DpOuy5OflFjWjwDRnpvJk4DAS2uBKNvDWsXuuNzsyiwvi9ohi8+pgmoE2TqV92DKEnjb1/gn1fSFG1bFFZRSvPVjE6Frmx1F0W7f8BocdWcICUinj5nHcEua35QOyCcABheTAvWgN1dnaQwcjAiZkd7XYSBDbHaBJMhH2hTIHS6WIXl5deyFi4j1RHYLnVUUmCfTjbwpLlOQw5B8JUPfjO3x+/AJdCfn0dzQAjUUW9iDDEaObUZHwj7iOAgMlXAn8QyW6ix0yV5laLlFPsB0vNO12DyohCbQKE4wnqqC0CmVZ1CP/DzGonCjgLwHd3104LiD+UxRl+HP3wX7YUgY77PjcVc4PyeSxlSqfvK7vu4HJImdgJoQYVLusqyOwPrTa4VnrqKMHA7r9RlYRjaDliUAAACx0GatUnhDyZTAhP//d90tFEomVOduVVvd/1AoHM0+O6IFUoS0yAd0+lSEVCdF2iin3X7BG3aNIfFcgtJPJ+LQaMhz1rhElzH/0AIc5yFYDXyRcJsMNTmazW+b5JYzJ3ZAkNP/NmsJE/foLwwtuCqHBmhwq1NJeoDnR+eV1Icu2KUuVDeE12pgLQaftAg+nk9bj6esc1GQcX8b1bJ8HGeI0LHvU+DiefGTF6BABTBCXJNarJoqyfIZeJGQMLxdVhZ9B7bzcap7XF0u0pPwTEd8AWeqxLLwYzeL4EMoIvtWPNFCPVlqdnP5S+hDZw3yHjvEenfXtMjPVE2AiDi4xcOezQKCQI6liof35JICNbLH0uTx4no7YHm09qWqRTZ6gt1cCTIrJ+zqfArg5vr2qgr9a/h2PymI+vPh4GZrBdGTmXFcvZoeJ2WBMDBsyN2Er8YNXY+Zt72yb0ixw5uX2EK22X/vVf+vg9pCyKV/naKTyVJhaKadokLFOTwc07NelryqA82euxZ8FglHKhy08TKun702IdsSH4JyvFWMJZbK3aKwyAJge13GV/e3ToCyXnKl1hzSeh9HvQHLVlsXQ1NGaK9KsMN/Rod7sCJRzTW+ps5/jCySzjKoj+xq8sy5jc48SQs+fcpQdAwAwlgTOeaZsu49UpNfe+n6RX/r9XoWvMVUSC3xn37IRRUOITNPvpMSIVqKBEZrkDX4ZnK4IqRZP2ReT9e+j4FSzZWagyg0DPKEPdXLG64ekdWO0+EumYJEkCwLBCWZwiM/K0dNKDQxfkA3RDIl4AlzC4SVdx2rRsxg5iHDPVeLpfD6YURqnpfSs0t4Or9qPVQEPg25U3fFaIFDku3HlRaKESKnLEDRoYCu0XUlEYpLQe+92gw+pjurHROHzIpOmEbNcVoLDo+A7p9tw274AzZA9km82KhLolM7E0WGUrxgQAAAcxBmtZJ4Q8mUwIV//4Sm5jy5elcWqBPQDrHVuheMLs5tEJL5zuF62pjvVEIIEW39dF3ZfD07bBfYxix7rY4eWccnS7b8q2ytVI9jjjTw2jAgVskUzcDKO71B00WzmTJKnH6lTLe6Z6xO77qPeAi9gF+nUNYniWT5A4ygCN7vI9VRPf8ilW/RfRCu14tKSUpnuYszvi3hx/Fbn5h4EbzMjE8htMbn0za+fTseapmgd9dP9TtBvKd/rwdUM0bHHvKcVTor2BL5VDAotQpRrVYtl7lDlgqg44hNHwSOnDu1hVi2tG2vVTUmwJT9RH9RCMWVcIpx4XPkfoxo5F4+YXDuRCFN+J/07oj40pB1gQqc+iPLuPxFDKZTj3BUe8WXuvuUzmj4qLgsBpSzy0VlIyQ3A/pUJctZrD5Dkih8L8Lj0bfKVGUH+WKgjz0ZgwjzSxHKz8X6gaUy6wbpz26YOCZYKyNRbgiGIYbgEHWzW3SAUHxcv37HFW2Xn3HGMqt+9D9fRKOitWDeBbt9mnNiGGUrby7dKPkpHToh0Ie7YUeNHZp9wVJLm8/wXBBmOzcmKnVPNGXEzsYqk4oEuEXXeEdtoQwxAqbYB0j4mUPl/RMAAABq0Ga90nhDyZTAhP//dUkSoAAWHVf1B/oov5Bry1bPiCtoTq3sASWaul5wTkTeLzcjZjjB8uP4B2rl/h8CPfjoOWHwYRkkHyyHMwFY+bmIXxKVCgQEe8RSFRg8ntktEZTjUCFiVJDf6zKwnQ/Q/xjGBo2mhRoa3aVuU66jHjkv2TaSHiSOVBercgjWC7y2/QQ8igxPBl/UKZMmQ8g8Q+xke8SKILyGnoEpm5eSp3IsFguE7iJDEWbJ4hL642aDtQugGicYI7dAaiyk391Nm3ina0GQ6b5Z4x6navPhhQ4NOFyHwR6Y70GmbrdDD8rk0Q9AylnhxLr6xavRpYBrNeSZIXQB8XLaQIt0QyZ/Ul2O5H225plK04WQEQLu6Swyod8bHmgUq/0ZhMN6dHzfRZ+Bn1g3eER4TC8imBbCpD0JZWl3QzVYvvAwFWPCqZQ4pX98YRg7WUvJ5+xCX52fNqurcyNnlKF5kTYUAYST0v1WyW6hCylfDF/7R5RjUO/xZkWqYD82eNin5mIhiVN1Jdw0s/e/1PJsHB1yhs5FN+lf2d7NTSXTsHqxxCaGUEAAAGrQZsYSeEPJlMCE//92J7GGuqxADWsCLUprUpJJhGIVmM+IjObe92iChiz82tZZngxd049LECXBWKrxyrFObZTl5bbkCUNKgbun4AL6oLu7YaeNQEYYIt7ceIMCX1dL4P7N2VmhBCWuun+L9x63KuNG4bM02YhK+IRaLmZDsfcfH01oR+HWYAJesCyKWSBS301j1EC3eSM48CATi671H8sdvS5E7x3e0gWA9icogzH/ur9F9yMD0ssdpUaC3iZBhddEYatV1r0k73AV4utGt0zOBxmq6u3wqZK1JJ454sTJ0uvE/r1OfHX3sZnFvafH8sCUaIqzlfXqunninMUWhdMQH8iW8796RXXA5MIiJHLfQk4h7yXsrBEcDnHl/ioDwOQbSb88co6TSFy7WuzTxmkqMceJb23qUrS70DMdzBUyHjT3W2lFBdOXCVRwZNsept+W5OYy0cZIqBZAvuCKzuvRkAW6DWm3EVr1CORHQI8SfEE/UOhDycVk6O2GeVoclCn8CsM8sNGa6BWlwvThXJLDKgXktm0h+reavuYfMlYs5DUvST+MMtqw7CtgQAAA21tb292AAAAbG12aGQAAAAAAAAAAAAAAAAAAAPoAAADQgABAAABAAAAAAAAAAAAAAAAAQAAAAAAAAAAAAAAAAAAAAEAAAAAAAAAAAAAAAAAAEAAAAAAAAAAAAAAAAAAAAAAAAAAAAAAAAAAAAAAAAACAAAC2HRyYWsAAABcdGtoZAAAAAMAAAAAAAAAAAAAAAEAAAAAAAADQgAAAAAAAAAAAAAAAAAAAAAAAQAAAAAAAAAAAAAAAAAAAAEAAAAAAAAAAAAAAAAAAEAAAAABLAAAASwAAAAAACRlZHRzAAAAHGVsc3QAAAAAAAAAAQAAA0IAAAQAAAEAAAAAAlBtZGlhAAAAIG1kaGQAAAAAAAAAAAAAAAAAADwAAAAyAH//AAAAAAAtaGRscgAAAABtaGxydmlkZQAAAAAAAAAAAAAAAAxWaWRlb0hhbmRsZXIAAAH7bWluZgAAABR2bWhkAAAAAQAAAAAAAAAAAAAALGhkbHIAAAAAZGhscnVybCAAAAAAAAAAAAAAAAALRGF0YUhhbmRsZXIAAAAkZGluZgAAABxkcmVmAAAAAAAAAAEAAAAMdXJsIAAAAAEAAAGPc3RibAAAAJtzdHNkAAAAAAAAAAEAAACLYXZjMQAAAAAAAAABAAAAAEZGTVAAAAIAAAACAAEsASwASAAAAEgAAAAAAAAAAQAAAAAAAAAAAAAAAAAAAAAAAAAAAAAAAAAAAAAAAAAAABj//wAAADVhdmNDAWQADf/hABhnZAANrNlBMJ+7hAAAAwAEAAHgADxQplgBAAZo6+PLIsD9+PgAAAAAGHN0dHMAAAAAAAAAAQAAABkAAAIAAAAAFHN0c3MAAAAAAAAAAQAAAAEAAAAYY3R0cwAAAAAAAAABAAAAGQAABAAAAAAcc3RzYwAAAAAAAAABAAAAAQAAABkAAAABAAAAeHN0c3oAAAAAAAAAAAAAABkAABK5AAAFGwAABXIAAASsAAAEaAAABZgAAAUXAAAEzgAABPEAAAStAAADnAAABAQAAAUFAAADvQAAAnkAAAMiAAADmwAAA4AAAAKAAAAC3wAAAtMAAALLAAAB0AAAAa8AAAGvAAAAFHN0Y28AAAAAAAAAAQAAACQAAAAhdWR0YQAAABmpc3dyAA1VxExhdmY1OC43Ni4xMDA=\" type=\"video/mp4\">\n",
       " Your browser does not support the video tag.\n",
       " </video>"
      ],
      "text/plain": [
       "<IPython.core.display.Video object>"
      ]
     },
     "metadata": {},
     "output_type": "display_data"
    }
   ],
   "source": [
    "query = [{\n",
    "    \"FindVideo\": {\n",
    "        \"constraints\": {\n",
    "            \"name\": [\">=\", \"crepe\"],\n",
    "            \"location\": [\">\", \"A\"]\n",
    "        },\n",
    "        \"blobs\": True,\n",
    "        \"operations\": [{        # Original videos are longer. We just want to sample and prepare them\n",
    "            \"type\": \"resize\",   # performance depends on the video complexity\n",
    "            \"height\": 300,\n",
    "            \"width\":  300\n",
    "        },{\n",
    "            \"type\": \"interval\", # Interval Operation, performance depends on the video complexity\n",
    "            \"start\": 30,        # Start from 1 sec (30fps * 1)\n",
    "            \"stop\": 150,        # Continue till 5 secs (30fps * 5)\n",
    "            \"step\": 5           # Read every 5th frame\n",
    "        }]\n",
    "    }\n",
    "}]\n",
    "\n",
    "response, blobs = client.query(query)\n",
    "\n",
    "print(client.get_last_response_str())\n",
    "nh.display_video_mp4(blobs[0])"
   ]
  },
  {
   "cell_type": "markdown",
   "id": "cf14b58a-1466-453b-80a8-319a41959ba8",
   "metadata": {},
   "source": [
    "## Cleanup"
   ]
  },
  {
   "cell_type": "code",
   "execution_count": 9,
   "id": "6dcc806f-48ff-4d68-a849-262e6f333f6e",
   "metadata": {
    "tags": []
   },
   "outputs": [
    {
     "name": "stdout",
     "output_type": "stream",
     "text": [
      "[\n",
      "    {\n",
      "        \"DeleteVideo\": {\n",
      "            \"count\": 1,\n",
      "            \"status\": 0\n",
      "        }\n",
      "    },\n",
      "    {\n",
      "        \"DeleteImage\": {\n",
      "            \"count\": 1,\n",
      "            \"status\": 0\n",
      "        }\n",
      "    }\n",
      "]\n"
     ]
    }
   ],
   "source": [
    "query = [{\n",
    "    \"DeleteVideo\": {\n",
    "        \"constraints\": {\n",
    "            \"name\": [\"==\", \"crepe_flambe\"]     # if this matches multiple videos, they will all be deleted\n",
    "        }\n",
    "    }\n",
    "},{\n",
    "    \"DeleteImage\": {\n",
    "        \"constraints\": {\n",
    "            \"name\": [\"==\", \"Focaccia\"]\n",
    "        }\n",
    "    }\n",
    "}]\n",
    "\n",
    "response, blobs = client.query(query)\n",
    "\n",
    "client.print_last_response()"
   ]
  },
  {
   "cell_type": "code",
   "execution_count": null,
   "id": "5d5116eb-b175-4c3e-a370-a9e0f03e49d9",
   "metadata": {},
   "outputs": [],
   "source": []
  }
 ],
 "metadata": {
  "kernelspec": {
   "display_name": "Python 3 (ipykernel)",
   "language": "python",
   "name": "python3"
  },
  "language_info": {
   "codemirror_mode": {
    "name": "ipython",
    "version": 3
   },
   "file_extension": ".py",
   "mimetype": "text/x-python",
   "name": "python",
   "nbconvert_exporter": "python",
   "pygments_lexer": "ipython3",
   "version": "3.10.12"
  }
 },
 "nbformat": 4,
 "nbformat_minor": 5
}
