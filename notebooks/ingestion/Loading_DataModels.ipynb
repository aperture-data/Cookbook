{
 "cells": [
  {
   "cell_type": "markdown",
   "metadata": {},
   "source": [
    "# Loading the data into the DB, using Data Models (1/3).\n",
    "\n",
    "Following the concepts on the different [means](/HowToGuides/start/Ingestion) of ingesting the data, we will build an example using the DataModel method in this notebook.\n",
    "\n",
    "We will use the [Cookbook dataset](https://docs.google.com/spreadsheets/d/1G1HPG3Dxx5W39OD6b74wMHvWupD7N-DLUbV7tD5owx8/edit?usp=sharing) to have the data persisted onto ApertureDB instance.\n",
    "\n",
    "We merge the first 3 sheets on the source into a json file such that there will be a list of Dishes objects, and each Dish may have multiple ingredients, along with some oher miscellaneous properties."
   ]
  },
  {
   "cell_type": "markdown",
   "metadata": {},
   "source": [
    "## Data Models\n",
    "\n",
    "A popular way to define the schema in python is using pydantic, and we shall use the same to create the associations of our Cookbook.\n"
   ]
  },
  {
   "cell_type": "code",
   "execution_count": 8,
   "metadata": {},
   "outputs": [],
   "source": [
    "from typing import List, Optional\n",
    "from aperturedb.DataModels import  ImageDataModel, IdentityDataModel\n",
    "\n",
    "class Ingredient(IdentityDataModel):\n",
    "    Name: str\n",
    "    other_names: Optional[str] = \"\"\n",
    "    macronutrient: Optional[str] = \"\"\n",
    "    micronutrient: Optional[str] = \"\"\n",
    "    subgroup: Optional[str] = \"\"\n",
    "    category: Optional[str] = \"\"\n",
    "\n",
    "class Dish(ImageDataModel):\n",
    "    contributor: str\n",
    "    name: str\n",
    "    location: str\n",
    "    caption: str\n",
    "    recipe_url: str\n",
    "    cuisine: str\n",
    "    dish_id: int\n",
    "    ingredients: List[Ingredient]\n"
   ]
  },
  {
   "cell_type": "markdown",
   "metadata": {},
   "source": [
    "### Create objects of these classes.\n",
    "\n",
    "We will provision the data using a json file, prepared from [script](https://github.com/aperture-data/Cookbook/blob/main/scripts/create_nested_json.py)\n",
    "\n",
    "Example line from the json file:\n",
    "\n",
    ":::note title=\"Sample from the dishes.json\"\n",
    "```\n",
    "{\n",
    "    \"dish_id\": 1,\n",
    "    \"url\": \"https://raw.githubusercontent.com/aperture-data/Cookbook/refs/heads/main/images/001 Large.jpeg\",\n",
    "    \"type\": \"main dish\",\n",
    "    \"location\": \"NJ\",\n",
    "    \"cuisine\": \"Indian\",\n",
    "    \"recipe_url\": \"https://www.tarladalal.com/rajma-chawal-punjabi-rajma-chawal-4951r\",\n",
    "    \"contributor\": \"gautam\",\n",
    "    \"caption\": \"Beans with rice\",\n",
    "    \"name\": \"rajma chawal\",\n",
    "    \"ingredients\": [\n",
    "      {\n",
    "        \"Name\": \"red kidney beans\",\n",
    "        \"other_names\": \"rajma\",\n",
    "        \"category\": \"vegetarian\",\n",
    "        \"subgroup\": \"legume\",\n",
    "        \"macronutrient\": \"protein\"\n",
    "      },\n",
    "      {\n",
    "        \"Name\": \"rice\",\n",
    "        \"other_names\": \"chawal\",\n",
    "        \"category\": \"vegetarian\",\n",
    "        \"subgroup\": \"grain\",\n",
    "        \"macronutrient\": \"carbohydrates\"\n",
    "      }\n",
    "    ]\n",
    "  }\n",
    "```\n",
    ":::\n",
    "\n",
    "These objects can be passed to a function called generate_add_query which takes care of generating the queries that ApertureDB can execute to persist the objects on the DB."
   ]
  },
  {
   "cell_type": "code",
   "execution_count": null,
   "metadata": {},
   "outputs": [],
   "source": [
    "from aperturedb.Query import generate_add_query\n",
    "from aperturedb.CommonLibrary import  execute_query, create_connector\n",
    "import json\n",
    "\n",
    "with open(\"dishes.json\") as ins:\n",
    "    client = create_connector()\n",
    "    dishes = json.load(ins)\n",
    "    for dish in dishes:\n",
    "\n",
    "        dish = Dish(**dish)\n",
    "\n",
    "        query, blobs, _ = generate_add_query(dish)\n",
    "        result, response, output_blobs = execute_query(client, query, blobs)\n",
    "\n",
    "        if result != 0:\n",
    "            print(response)\n",
    "            break\n"
   ]
  }
 ],
 "metadata": {
  "kernelspec": {
   "display_name": "package",
   "language": "python",
   "name": "python3"
  },
  "language_info": {
   "codemirror_mode": {
    "name": "ipython",
    "version": 3
   },
   "file_extension": ".py",
   "mimetype": "text/x-python",
   "name": "python",
   "nbconvert_exporter": "python",
   "pygments_lexer": "ipython3",
   "version": "3.11.9"
  }
 },
 "nbformat": 4,
 "nbformat_minor": 2
}
