{
 "cells": [
  {
   "cell_type": "markdown",
   "metadata": {},
   "source": [
    "# Loading the data into the DB.\n",
    "\n",
    "Following the concepts on the different [means](/HowToGuides/start/Ingestion) of ingesting the data,\n",
    "we will use the Cookbook dataset to have a working example with each of the type defined.\n",
    "\n",
    "We are going to use each of the documented methods to ingest the same dataset."
   ]
  },
  {
   "cell_type": "markdown",
   "metadata": {},
   "source": [
    "## Data Models\n",
    "\n",
    "A popular way to define the schema in python is using pydantic, and we shall use the same to create the associations of our Cookbook.\n"
   ]
  },
  {
   "cell_type": "code",
   "execution_count": 67,
   "metadata": {},
   "outputs": [],
   "source": [
    "from typing import List\n",
    "from aperturedb.DataModels import  ImageDataModel, IdentityDataModel\n",
    "\n",
    "class Ingredient(IdentityDataModel):\n",
    "    ingredient_name: str\n",
    "\n",
    "class Dish(ImageDataModel):\n",
    "    contributor: str\n",
    "    dish_name: str\n",
    "    location: str\n",
    "    food_tags: str\n",
    "    caption: str\n",
    "    recipe_url: str\n",
    "    dish_id: int\n",
    "    ingredients: List[Ingredient]\n"
   ]
  },
  {
   "cell_type": "markdown",
   "metadata": {},
   "source": [
    "### Create objects of these classes.\n",
    "\n",
    "We will provision the data using a json file, prepared from [script](https://github.com/aperture-data/Cookbook/blob/main/scripts/create_nested_json.py)\n",
    "\n",
    "Example line from the json file:\n",
    "\n",
    ":::note title=\"Sample from the dishes.json\"\n",
    "```\n",
    "{\n",
    "        \"url\": \"https://github.com/aperture-data/Cookbook/blob/0e01a8dca2a995e311508ddbf10a9de13c67bb9b/images/001%20Large.jpeg\",\n",
    "        \"contributor\": \"gautam\",\n",
    "        \"dish_name\": \"rajma chawal\",\n",
    "        \"location\": \"NJ\",\n",
    "        \"food_tags\": \"Indian\",\n",
    "        \"caption\": \"Beans with rice\",\n",
    "        \"constraint_id\": 1,\n",
    "        \"dish_id\": 1,\n",
    "        \"recipe_url\": \"https://www.tarladalal.com/rajma-chawal-punjabi-rajma-chawal-4951r\",\n",
    "        \"ingredients\": [\n",
    "            {\n",
    "                \"ingredient_name\": \"rajma\"\n",
    "            },\n",
    "            {\n",
    "                \"ingredient_name\": \"rice\"\n",
    "            }\n",
    "        ]\n",
    "    }\n",
    "```\n",
    ":::\n",
    "\n",
    "These objects can be passed to a function called generate_add_query which takes care of generating the queries that ApertureDB can execute to persist the objects on the DB."
   ]
  },
  {
   "cell_type": "code",
   "execution_count": null,
   "metadata": {},
   "outputs": [],
   "source": [
    "from aperturedb.Query import generate_add_query\n",
    "from aperturedb.CommonLibrary import  execute_query, create_connector\n",
    "import json\n",
    "\n",
    "\n",
    "with open(\"dishes.json\") as ins:\n",
    "    client = create_connector()\n",
    "    dishes = json.load(ins)\n",
    "    for dish in dishes:\n",
    "\n",
    "        dish = Dish(**dish)\n",
    "\n",
    "        query, blobs, _ = generate_add_query(dish)\n",
    "        result, response, output_blobs = execute_query(client, query, blobs)\n",
    "\n",
    "        if result != 0:\n",
    "            print(response)\n",
    "            break\n",
    "\n"
   ]
  },
  {
   "cell_type": "markdown",
   "metadata": {},
   "source": [
    "## Ingesting using the CSV Parsers.\n",
    "\n",
    "Let's ingest the same data. We shall pre process the csvs to confirm to aperuredb's input CSV format."
   ]
  },
  {
   "cell_type": "code",
   "execution_count": null,
   "metadata": {},
   "outputs": [],
   "source": [
    "from aperturedb.ImageDataCSV import ImageDataCSV\n",
    "from aperturedb.CommonLibrary import create_connector, execute_query\n",
    "\n",
    "dishes = ImageDataCSV(\"../../images\")\n",
    "client = create_connector()\n",
    "\n",
    "for query, blobs in dishes:\n",
    "    result, response, output_blobs = execute_query(client, query, blobs)\n",
    "\n",
    "    if result != 0:\n",
    "        print(response)\n",
    "        break"
   ]
  }
 ],
 "metadata": {
  "kernelspec": {
   "display_name": "package",
   "language": "python",
   "name": "python3"
  },
  "language_info": {
   "codemirror_mode": {
    "name": "ipython",
    "version": 3
   },
   "file_extension": ".py",
   "mimetype": "text/x-python",
   "name": "python",
   "nbconvert_exporter": "python",
   "pygments_lexer": "ipython3",
   "version": "3.11.9"
  }
 },
 "nbformat": 4,
 "nbformat_minor": 2
}
