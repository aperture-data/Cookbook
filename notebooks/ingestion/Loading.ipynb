{
 "cells": [
  {
   "cell_type": "markdown",
   "metadata": {},
   "source": [
    "# Loading the data into the DB.\n",
    "\n",
    "Following the concepts on the different [means](/HowToGuides/start/Ingestion) of ingesting the data,\n",
    "we will use the Cookbook dataset to have a working example with each of the type defined.\n",
    "\n",
    "Starting from 2 input files, we will take the data into the ApertureDB using the 3 methods mentioned in the link above.\n",
    "- Ingestion with DataModel.\n",
    "- Ingestion with CSV Parser.\n",
    "- Ingestion with Data Generarators.\n",
    "\n",
    "We are going to use each of the documented methods to ingest the same dataset.\n",
    "\n",
    "**Schema**\n",
    "\n",
    "- There will be Dishes in the DB. Each dish will have a photo.\n",
    "- Each dish will comprise of more than 1 ingredient\n",
    "\n"
   ]
  },
  {
   "cell_type": "markdown",
   "metadata": {},
   "source": [
    "## Data Models\n",
    "\n",
    "A popular way to define the schema in python is using pydantic, and we shall use the same to create the associations of our Cookbook.\n"
   ]
  },
  {
   "cell_type": "code",
   "execution_count": 8,
   "metadata": {},
   "outputs": [],
   "source": [
    "from typing import List\n",
    "from aperturedb.DataModels import  ImageDataModel, IdentityDataModel\n",
    "\n",
    "class Ingredient(IdentityDataModel):\n",
    "    ingredient_name: str\n",
    "\n",
    "class Dish(ImageDataModel):\n",
    "    contributor: str\n",
    "    dish_name: str\n",
    "    location: str\n",
    "    food_tags: str\n",
    "    caption: str\n",
    "    recipe_url: str\n",
    "    dish_id: int\n",
    "    ingredients: List[Ingredient]\n"
   ]
  },
  {
   "cell_type": "markdown",
   "metadata": {},
   "source": [
    "### Create objects of these classes.\n",
    "\n",
    "We will provision the data using a json file, prepared from [script](https://github.com/aperture-data/Cookbook/blob/main/scripts/create_nested_json.py)\n",
    "\n",
    "Example line from the json file:\n",
    "\n",
    ":::note title=\"Sample from the dishes.json\"\n",
    "```\n",
    "{\n",
    "        \"url\": \"https://github.com/aperture-data/Cookbook/blob/0e01a8dca2a995e311508ddbf10a9de13c67bb9b/images/001%20Large.jpeg\",\n",
    "        \"contributor\": \"gautam\",\n",
    "        \"dish_name\": \"rajma chawal\",\n",
    "        \"location\": \"NJ\",\n",
    "        \"food_tags\": \"Indian\",\n",
    "        \"caption\": \"Beans with rice\",\n",
    "        \"constraint_id\": 1,\n",
    "        \"dish_id\": 1,\n",
    "        \"recipe_url\": \"https://www.tarladalal.com/rajma-chawal-punjabi-rajma-chawal-4951r\",\n",
    "        \"ingredients\": [\n",
    "            {\n",
    "                \"ingredient_name\": \"rajma\"\n",
    "            },\n",
    "            {\n",
    "                \"ingredient_name\": \"rice\"\n",
    "            }\n",
    "        ]\n",
    "    }\n",
    "```\n",
    ":::\n",
    "\n",
    "These objects can be passed to a function called generate_add_query which takes care of generating the queries that ApertureDB can execute to persist the objects on the DB."
   ]
  },
  {
   "cell_type": "code",
   "execution_count": 10,
   "metadata": {},
   "outputs": [],
   "source": [
    "from aperturedb.Query import generate_add_query\n",
    "from aperturedb.CommonLibrary import  execute_query, create_connector\n",
    "import json\n",
    "\n",
    "\n",
    "with open(\"dishes.json\") as ins:\n",
    "    client = create_connector()\n",
    "    dishes = json.load(ins)\n",
    "    for dish in dishes:\n",
    "\n",
    "        dish = Dish(**dish)\n",
    "\n",
    "        query, blobs, _ = generate_add_query(dish)\n",
    "        result, response, output_blobs = execute_query(client, query, blobs)\n",
    "\n",
    "        if result != 0:\n",
    "            print(response)\n",
    "            break\n",
    "\n"
   ]
  },
  {
   "cell_type": "markdown",
   "metadata": {},
   "source": [
    "## Ingesting using the CSV Parsers.\n",
    "\n",
    "Let's ingest the same data. We shall pre process the csvs to be compatible to aperuredb's input CSV format.\n",
    "The generated schma for the data will be still the same."
   ]
  },
  {
   "cell_type": "code",
   "execution_count": 7,
   "metadata": {},
   "outputs": [],
   "source": [
    "from aperturedb.ImageDataCSV import ImageDataCSV\n",
    "from aperturedb.EntityDataCSV import EntityDataCSV\n",
    "from aperturedb.ConnectionDataCSV import ConnectionDataCSV\n",
    "from aperturedb.CommonLibrary import create_connector, execute_query\n",
    "\n",
    "dishes_objects = ImageDataCSV(\"dishes.adb.csv\")\n",
    "ingredients_objects = EntityDataCSV(\"ingredients.adb.csv\")\n",
    "connection_objects = ConnectionDataCSV(\"dish_ingredients.adb.csv\")\n",
    "\n",
    "\n",
    "client = create_connector()\n",
    "\n",
    "for objects in [dishes_objects, ingredients_objects, connection_objects]:\n",
    "    for query, blobs in objects:\n",
    "        result, response, output_blobs = execute_query(client, query, blobs)\n",
    "\n",
    "        if result != 0:\n",
    "            print(response, query)\n",
    "            break"
   ]
  },
  {
   "cell_type": "markdown",
   "metadata": {},
   "source": [
    "# Ingest using a Query Generator\n",
    "\n",
    "When the source data is in a format that does not conform to any of the CSV pasrsers in the SDK, we could use the approach of defining a custom Query generator.\n",
    "\n",
    "This does require a level of familiarity with the Query language.\n",
    "\n",
    "Let's implement a class to deal with the cookbook example.\n",
    "\n",
    "The Query generator is used to define a \"get_item\" to return a query to issue to ApertureDB that persists the record being iterated at the source."
   ]
  },
  {
   "cell_type": "code",
   "execution_count": 16,
   "metadata": {},
   "outputs": [
    {
     "name": "stdout",
     "output_type": "stream",
     "text": [
      "Loaded 20 dishes\n"
     ]
    }
   ],
   "source": [
    "from typing import Tuple\n",
    "from aperturedb.QueryGenerator import QueryGenerator\n",
    "from aperturedb.types import *\n",
    "from aperturedb.Sources import Sources\n",
    "import json\n",
    "\n",
    "class CookBookQueryGenerator(QueryGenerator):\n",
    "    def __init__(self, *args, **kwargs):\n",
    "        super().__init__()\n",
    "        assert \"dishes\" in kwargs, \"Path to Dishes must be provided\"\n",
    "        with open(kwargs[\"dishes\"]) as ins:\n",
    "            self.dishes = self.dishes = json.load(ins)\n",
    "            print(f\"Loaded {len(self.dishes)} dishes\")\n",
    "\n",
    "    def __len__(self) -> int:\n",
    "        return len(self.dishes)\n",
    "\n",
    "    def getitem(self, idx: int) -> Tuple[Commands, Blobs]:\n",
    "        record = self.dishes[idx]\n",
    "        q = [\n",
    "            {\n",
    "                \"AddImage\":{\n",
    "                    \"_ref\": 1,\n",
    "                    \"properties\": {\n",
    "                        \"contributor\": record[\"contributor\"],\n",
    "                        \"dish_name\": record[\"dish_name\"],\n",
    "                        \"location\": record[\"location\"],\n",
    "                        \"food_tags\": record[\"food_tags\"],\n",
    "                        \"caption\": record[\"caption\"],\n",
    "                        \"recipe_url\": record[\"recipe_url\"],\n",
    "                        \"dish_id\": record[\"dish_id\"]\n",
    "                    }\n",
    "                }\n",
    "            }\n",
    "        ]\n",
    "        for i, ingredient in enumerate(record[\"ingredients\"]):\n",
    "            q.append({\n",
    "                \"AddEntity\": {\n",
    "                    \"_ref\": 2 + i,\n",
    "                    \"class\": \"Ingredient\",\n",
    "                    \"connect\": {\n",
    "                        \"ref\": 1\n",
    "                    },\n",
    "                    \"properties\": {\n",
    "                        \"ingredient_name\": ingredient[\"ingredient_name\"]\n",
    "                    }\n",
    "                }\n",
    "            })\n",
    "\n",
    "        blob = Sources(n_download_retries=3).load_from_http_url(record[\"url\"], validator=lambda x: True)\n",
    "        return q, [blob[1]]\n",
    "\n",
    "\n",
    "from aperturedb.CommonLibrary import create_connector, execute_query\n",
    "\n",
    "client = create_connector()\n",
    "generator = CookBookQueryGenerator(dishes=\"dishes.json\")\n",
    "for query, blobs in generator:\n",
    "    result, response, output_blobs = execute_query(client, query, blobs)\n",
    "\n",
    "    if result != 0:\n",
    "        print(response, query)\n",
    "        break"
   ]
  }
 ],
 "metadata": {
  "kernelspec": {
   "display_name": "package",
   "language": "python",
   "name": "python3"
  },
  "language_info": {
   "codemirror_mode": {
    "name": "ipython",
    "version": 3
   },
   "file_extension": ".py",
   "mimetype": "text/x-python",
   "name": "python",
   "nbconvert_exporter": "python",
   "pygments_lexer": "ipython3",
   "version": "3.11.9"
  }
 },
 "nbformat": 4,
 "nbformat_minor": 2
}
