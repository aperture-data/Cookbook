{
 "cells": [
  {
   "cell_type": "markdown",
   "id": "00e03a8c-a74d-46de-bbb4-e1c8ab038f30",
   "metadata": {},
   "source": [
    "# Indexing for Faster Queries\n",
    "**ApertureDB relies on [indexes](https://docs.aperturedata.io/query_language/Reference/db_commands/CreateIndex) to enable faster queries on attributes of interest or embeddings.**\n",
    "\n",
    "You can create an index before adding any object or connection (fastest).\n",
    "\n",
    "You can add an index after the corresponding objects or connections already exist in the database (slower since it has to build the index)"
   ]
  },
  {
   "cell_type": "markdown",
   "id": "4367007e-77ed-4f45-883b-df974e790d05",
   "metadata": {},
   "source": [
    "## Connect to the database\n",
    "\n",
    "If you haven't already setup the database or configured it, check out our [quick start guide](https://docs.aperturedata.io/Setup/Quick%20Start)"
   ]
  },
  {
   "cell_type": "code",
   "execution_count": null,
   "id": "6feb5b71-e1d7-43d6-9b7e-e676e86bde3b",
   "metadata": {},
   "outputs": [],
   "source": [
    "# Install the required client packages if needed\n",
    "%pip install --upgrade --quiet pip\n",
    "%pip install --upgrade --quiet aperturedb"
   ]
  },
  {
   "cell_type": "code",
   "execution_count": 1,
   "id": "436e466b-a176-40fd-9351-8cd9f3a35d59",
   "metadata": {},
   "outputs": [],
   "source": [
    "from aperturedb.CommonLibrary import create_connector\n",
    "\n",
    "# Create the connector for ApertureDB\n",
    "client = create_connector()"
   ]
  },
  {
   "cell_type": "markdown",
   "id": "e51499f7-a213-478d-a916-d240ff26666d",
   "metadata": {},
   "source": [
    "## Create an index on Ingredient's name\n",
    "\n",
    "If we often search for an ingredient by its name, it should be indexed"
   ]
  },
  {
   "cell_type": "code",
   "execution_count": 2,
   "id": "2161b3c5-c8a3-4575-bd99-97f917f2a56c",
   "metadata": {
    "tags": []
   },
   "outputs": [
    {
     "name": "stdout",
     "output_type": "stream",
     "text": [
      "[\n",
      "    {\n",
      "        \"CreateIndex\": {\n",
      "            \"status\": 0\n",
      "        }\n",
      "    },\n",
      "    {\n",
      "        \"AddEntity\": {\n",
      "            \"status\": 0\n",
      "        }\n",
      "    }\n",
      "]\n"
     ]
    }
   ],
   "source": [
    "query = [{\n",
    "    \"CreateIndex\": {\n",
    "        \"class\": \"Ingredient\",\n",
    "        \"index_type\": \"entity\",\n",
    "        \"property_key\": \"name\"\n",
    "    }\n",
    "},{\n",
    "    \"AddEntity\": {                        # GetSchema can show us the indexes but when there are entities in them, so add one\n",
    "        \"class\": \"Ingredient\", \n",
    "        \"properties\": {        \n",
    "            \"name\": \"butter\",  \n",
    "            \"macronutrient\": \"fat\",\n",
    "            \"subgroup\": \"dairy\",\n",
    "            \"category\": \"vegetarian\"\n",
    "        },\n",
    "        \"if_not_found\": {                # conditional add\n",
    "            \"name\": [\"==\", \"butter\"] \n",
    "        }\n",
    "    }\n",
    "}]\n",
    "\n",
    "response, blobs = client.query(query)\n",
    "\n",
    "client.print_last_response()"
   ]
  },
  {
   "cell_type": "markdown",
   "id": "8efb6c45-e29a-43f9-85d3-dd2e5a67e1d0",
   "metadata": {},
   "source": [
    "### Verify index using GetSchema"
   ]
  },
  {
   "cell_type": "code",
   "execution_count": 3,
   "id": "a4fdcc75-fd0e-4eb1-9be7-db00d8cd0f4b",
   "metadata": {},
   "outputs": [
    {
     "name": "stdout",
     "output_type": "stream",
     "text": [
      "[1, True, 'String']\n"
     ]
    }
   ],
   "source": [
    "# CHECK if indexed parameter for Ingredient's name is True\n",
    "# https://docs.aperturedata.io/query_language/Reference/db_commands/GetSchema\n",
    "query = [{\n",
    "    \"GetSchema\": {\n",
    "        \"type\": \"entities\"\n",
    "    }\n",
    "}]\n",
    "\n",
    "# Execute the query to get back a JSON response for GetStatus \n",
    "response, blobs = client.query(query)\n",
    "\n",
    "print(response[0][\"GetSchema\"][\"entities\"][\"classes\"][\"Ingredient\"][\"properties\"][\"name\"])"
   ]
  },
  {
   "cell_type": "markdown",
   "id": "81cf9d8f-f26e-433e-8dbb-9df0697115f9",
   "metadata": {},
   "source": [
    "## Remove the index\n",
    "\n",
    "Indexes occupy space - we can remove them when unnecessary"
   ]
  },
  {
   "cell_type": "code",
   "execution_count": 4,
   "id": "ba43a55a-325c-4e12-872d-65564d47023c",
   "metadata": {},
   "outputs": [
    {
     "name": "stdout",
     "output_type": "stream",
     "text": [
      "[\n",
      "    {\n",
      "        \"RemoveIndex\": {\n",
      "            \"status\": 0\n",
      "        }\n",
      "    }\n",
      "]\n"
     ]
    }
   ],
   "source": [
    "query = [{\n",
    "    \"RemoveIndex\": {\n",
    "        \"class\": \"Ingredient\",\n",
    "        \"index_type\": \"entity\",\n",
    "        \"property_key\": \"name\"\n",
    "    }\n",
    "}]\n",
    "\n",
    "response, blobs = client.query(query)\n",
    "\n",
    "client.print_last_response()"
   ]
  },
  {
   "cell_type": "markdown",
   "id": "9a0390d9-6b00-4a01-af92-a3e03fbd4657",
   "metadata": {},
   "source": [
    "### Verify index using GetSchema\n",
    "\n",
    "Here we check whether the `name` property of `Ingredient` entities is indexed.  See [GetSchema](https://docs.aperturedata.io/query_language/Reference/db_commands/GetSchema).  We're expecting it not to be, because we have not created an index yet."
   ]
  },
  {
   "cell_type": "code",
   "execution_count": 5,
   "id": "362f0a8a-e221-4c22-ac3e-a2c15c721396",
   "metadata": {},
   "outputs": [
    {
     "name": "stdout",
     "output_type": "stream",
     "text": [
      "[1, False, 'String']\n"
     ]
    }
   ],
   "source": [
    "query = [{\n",
    "    \"GetSchema\": {\n",
    "        \"type\": \"entities\"\n",
    "    }\n",
    "}]\n",
    "\n",
    "# Execute the query to get back a JSON response for GetStatus \n",
    "response, blobs = client.query(query)\n",
    "\n",
    "print(response[0][\"GetSchema\"][\"entities\"][\"classes\"][\"Ingredient\"][\"properties\"][\"name\"])"
   ]
  },
  {
   "cell_type": "markdown",
   "id": "e00b107f-b557-466f-bc40-5d99decbc30a",
   "metadata": {},
   "source": [
    "## Using Python SDK Utils for Indexing\n",
    "\n",
    "The [Utils package](https://docs.aperturedata.io/python_sdk/helpers/Utils#create_entity_index) in ApertureDB Python SDK provides a lot of helper functions. One of the things they can help you to do is to add indexes."
   ]
  },
  {
   "cell_type": "code",
   "execution_count": 6,
   "id": "ca03c780-8733-4ecb-944e-0fbfd1c0a394",
   "metadata": {},
   "outputs": [
    {
     "data": {
      "text/plain": [
       "True"
      ]
     },
     "execution_count": 6,
     "metadata": {},
     "output_type": "execute_result"
    }
   ],
   "source": [
    "from aperturedb.Utils import Utils\n",
    "\n",
    "utils = Utils(client)\n",
    "utils.create_entity_index(class_name=\"Ingredient\", property_key=\"name\")"
   ]
  },
  {
   "cell_type": "markdown",
   "id": "20b97d50",
   "metadata": {},
   "source": [
    "Check again whether the `name` property of `Ingredient` entities is now indexed. \n",
    "We're expecting that it will be, because we just created an index."
   ]
  },
  {
   "cell_type": "code",
   "execution_count": 7,
   "id": "25ce16b8-d5bb-4d06-a9cc-5d3d48671cf0",
   "metadata": {},
   "outputs": [
    {
     "name": "stdout",
     "output_type": "stream",
     "text": [
      "[1, True, 'String']\n"
     ]
    }
   ],
   "source": [
    "query = [{\n",
    "    \"GetSchema\": {\n",
    "        \"type\": \"entities\"\n",
    "    }\n",
    "}]\n",
    "\n",
    "# Execute the query to get back a JSON response for GetStatus \n",
    "response, blobs = client.query(query)\n",
    "\n",
    "print(response[0][\"GetSchema\"][\"entities\"][\"classes\"][\"Ingredient\"][\"properties\"][\"name\"])"
   ]
  },
  {
   "cell_type": "markdown",
   "id": "688cdeac",
   "metadata": {},
   "source": [
    "The Utils module can also help us to remove an index."
   ]
  },
  {
   "cell_type": "code",
   "execution_count": 8,
   "id": "091e19de-f6e7-4a37-a275-f6f2ee918c6e",
   "metadata": {},
   "outputs": [
    {
     "data": {
      "text/plain": [
       "True"
      ]
     },
     "execution_count": 8,
     "metadata": {},
     "output_type": "execute_result"
    }
   ],
   "source": [
    "utils.remove_entity_index(class_name=\"Ingredient\", property_key=\"name\")"
   ]
  },
  {
   "cell_type": "markdown",
   "id": "8b8a6bbe",
   "metadata": {},
   "source": [
    "Now check again whether the `name` property of `Ingredient` entities is indexed.  We're expecting that it won't be, because we just removed the index."
   ]
  },
  {
   "cell_type": "code",
   "execution_count": 9,
   "id": "6d6bfbaf-96c4-4848-ba8e-a0e95ff662fc",
   "metadata": {},
   "outputs": [
    {
     "name": "stdout",
     "output_type": "stream",
     "text": [
      "[1, False, 'String']\n"
     ]
    }
   ],
   "source": [
    "query = [{\n",
    "    \"GetSchema\": {\n",
    "        \"type\": \"entities\"\n",
    "    }\n",
    "}]\n",
    "\n",
    "# Execute the query to get back a JSON response for GetStatus \n",
    "response, blobs = client.query(query)\n",
    "\n",
    "print(response[0][\"GetSchema\"][\"entities\"][\"classes\"][\"Ingredient\"][\"properties\"][\"name\"])"
   ]
  },
  {
   "cell_type": "markdown",
   "id": "f20fca35-bdf4-447e-9e3a-cfa135b6772d",
   "metadata": {},
   "source": [
    "## Cleanup"
   ]
  },
  {
   "cell_type": "code",
   "execution_count": 10,
   "id": "2db3e0d5-1666-4cc0-8933-0b9d92f48d4e",
   "metadata": {
    "tags": []
   },
   "outputs": [
    {
     "name": "stdout",
     "output_type": "stream",
     "text": [
      "[\n",
      "    {\n",
      "        \"DeleteEntity\": {\n",
      "            \"count\": 1,\n",
      "            \"status\": 0\n",
      "        }\n",
      "    }\n",
      "]\n"
     ]
    }
   ],
   "source": [
    "query = [{\n",
    "    \"DeleteEntity\": {\n",
    "        \"with_class\": \"Ingredient\",\n",
    "        \"constraints\": {\n",
    "            \"name\": [\"==\", \"butter\"] \n",
    "        }\n",
    "    }\n",
    "}]\n",
    "\n",
    "response, blobs = client.query(query)\n",
    "\n",
    "client.print_last_response()"
   ]
  },
  {
   "cell_type": "markdown",
   "id": "8b9b6833-3d4e-423c-b489-d0711d4543c0",
   "metadata": {},
   "source": [
    "## What's next?\n",
    "\n",
    "* [Bulk loading](https://docs.aperturedata.io/HowToGuides/Ingestion/Ingestion/Ingestion) of data\n",
    "* [Database administration](https://docs.aperturedata.io/category/production-deployment-and-administration)"
   ]
  },
  {
   "cell_type": "code",
   "execution_count": null,
   "id": "e0df8adc-2b69-4058-9ffe-65f5b921f62b",
   "metadata": {},
   "outputs": [],
   "source": []
  }
 ],
 "metadata": {
  "kernelspec": {
   "display_name": "Python 3 (ipykernel)",
   "language": "python",
   "name": "python3"
  },
  "language_info": {
   "codemirror_mode": {
    "name": "ipython",
    "version": 3
   },
   "file_extension": ".py",
   "mimetype": "text/x-python",
   "name": "python",
   "nbconvert_exporter": "python",
   "pygments_lexer": "ipython3",
   "version": "3.10.12"
  }
 },
 "nbformat": 4,
 "nbformat_minor": 5
}
