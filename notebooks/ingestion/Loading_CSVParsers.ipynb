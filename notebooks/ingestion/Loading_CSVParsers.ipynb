{
 "cells": [
  {
   "cell_type": "markdown",
   "metadata": {},
   "source": [
    "# Loading the data into the DB, using CSV Parsers (2/3).\n",
    "\n",
    "Following the concepts on the different [means](/HowToGuides/start/Ingestion) of ingesting the data, we will build an example using the CSV Parser method in this notebook.\n",
    "\n",
    "We will use the [Cookbook dataset](https://docs.google.com/spreadsheets/d/1G1HPG3Dxx5W39OD6b74wMHvWupD7N-DLUbV7tD5owx8/edit?usp=sharing) to have the data persisted onto ApertureDB instance.\n",
    "\n",
    "We convert the first 3 sheets on the source into 3 CSV files which are compatible with the CSV Parsers in the SDK. For a comprehensive understanding of the functions of the various CSV Parsers, refer to this [page](/category/csv-parsers).\n"
   ]
  },
  {
   "cell_type": "markdown",
   "metadata": {},
   "source": [
    "## Data Models\n",
    "\n",
    "A popular way to define the schema in python is using pydantic, and we shall use the same to create the associations of our Cookbook.\n"
   ]
  },
  {
   "cell_type": "code",
   "execution_count": 8,
   "metadata": {},
   "outputs": [],
   "source": [
    "from typing import List, Optional\n",
    "from aperturedb.DataModels import  ImageDataModel, IdentityDataModel\n",
    "\n",
    "class Ingredient(IdentityDataModel):\n",
    "    Name: str\n",
    "    other_names: Optional[str] = \"\"\n",
    "    macronutrient: Optional[str] = \"\"\n",
    "    micronutrient: Optional[str] = \"\"\n",
    "    subgroup: Optional[str] = \"\"\n",
    "    category: Optional[str] = \"\"\n",
    "\n",
    "class Dish(ImageDataModel):\n",
    "    contributor: str\n",
    "    name: str\n",
    "    location: str\n",
    "    caption: str\n",
    "    recipe_url: str\n",
    "    dish_id: int\n",
    "    ingredients: List[Ingredient]\n"
   ]
  },
  {
   "cell_type": "markdown",
   "metadata": {},
   "source": [
    "### Create objects of these classes.\n",
    "\n",
    "We will provision the data using a json file, prepared from [script](https://github.com/aperture-data/Cookbook/blob/main/scripts/convert_ingredients_adb_csv.py)\n",
    "\n",
    "Example lines from the json file:\n",
    "\n",
    ":::note title=\"Samples from the dishes.adb.csv\"\n",
    "```\n",
    "url,id,contributor,name,type,location,cuisine,caption,Recipe URL,constraint_id\n",
    "https://raw.githubusercontent.com/aperture-data/Cookbook/refs/heads/main/images/001_Large.jpeg,1,gautam,rajma chawal,main dish,NJ,Indian,Beans with rice,https://www.tarladalal.com/rajma-chawal-punjabi-rajma-chawal-4951r,1\n",
    "https://raw.githubusercontent.com/aperture-data/Cookbook/refs/heads/main/images/002_Large.jpeg,2,gautam,paneer bhurji,main dish,NJ,Indian,\"Scrambled cottage cheese with finely chopped onion, bell pepper and tomatoes\",https://www.indianhealthyrecipes.com/paneer-bhurji-recipe/,2\n",
    "```\n",
    ":::\n",
    "\n",
    ":::note title=\"Samples from ingredients.adb.csv\"\n",
    "```\n",
    "EntityClass,UUID,Name,other_names,category,subgroup,macronutrient,micronutrient,constraint_UUID\n",
    "Ingredient,8ccd94efe6ac436f8c9f4b180677344a,all-purpose flour,maida,vegetarian,refined grains,carbohydrates,,8ccd94efe6ac436f8c9f4b180677344a\n",
    "Ingredient,3d1ef186f6c14e61a67b01f2abfef6c4,apple,,vegetarian,fruit,carbohydrates,,3d1ef186f6c14e61a67b01f2abfef6c4\n",
    "\n",
    "```\n",
    ":::\n",
    "\n",
    ":::note title=\"Samples from dish_ingredients.adb.csv\"\n",
    "```\n",
    "ConnectionClass,_Image@id,Ingredient@UUID\n",
    "HasIngredient,1,328ade6ff21244bd92332704ef72bda9\n",
    "HasIngredient,1,45663216d9ea4262a608b9067adc5d1f\n",
    "\n",
    "```\n",
    ":::"
   ]
  },
  {
   "cell_type": "markdown",
   "metadata": {},
   "source": [
    "## Ingesting using the CSV Parsers.\n",
    "\n",
    "Let's ingest the same data. We shall pre process the csvs to be compatible to aperuredb's input CSV format.\n",
    "The generated schma for the data will be still the same."
   ]
  },
  {
   "cell_type": "code",
   "execution_count": 7,
   "metadata": {},
   "outputs": [],
   "source": [
    "from aperturedb.ImageDataCSV import ImageDataCSV\n",
    "from aperturedb.EntityDataCSV import EntityDataCSV\n",
    "from aperturedb.ConnectionDataCSV import ConnectionDataCSV\n",
    "from aperturedb.CommonLibrary import create_connector, execute_query\n",
    "\n",
    "dishes_objects = ImageDataCSV(\"dishes.adb.csv\")\n",
    "ingredients_objects = EntityDataCSV(\"ingredients.adb.csv\")\n",
    "connection_objects = ConnectionDataCSV(\"dish_ingredients.adb.csv\")\n",
    "\n",
    "\n",
    "client = create_connector()\n",
    "\n",
    "for objects in [dishes_objects, ingredients_objects, connection_objects]:\n",
    "    for query, blobs in objects:\n",
    "        result, response, output_blobs = execute_query(client, query, blobs)\n",
    "\n",
    "        if result != 0:\n",
    "            print(response, query)\n",
    "            break"
   ]
  }
 ],
 "metadata": {
  "kernelspec": {
   "display_name": "package",
   "language": "python",
   "name": "python3"
  },
  "language_info": {
   "codemirror_mode": {
    "name": "ipython",
    "version": 3
   },
   "file_extension": ".py",
   "mimetype": "text/x-python",
   "name": "python",
   "nbconvert_exporter": "python",
   "pygments_lexer": "ipython3",
   "version": "3.11.9"
  }
 },
 "nbformat": 4,
 "nbformat_minor": 2
}
