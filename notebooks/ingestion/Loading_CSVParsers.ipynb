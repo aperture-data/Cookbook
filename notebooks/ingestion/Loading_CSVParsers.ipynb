{
 "cells": [
  {
   "cell_type": "markdown",
   "metadata": {},
   "source": [
    "# Ingest Cookbook (CSVParser)\n",
    "\n",
    "Following the concepts on the different [means](https://docs.aperturedata.io/HowToGuides/Ingestion/Ingestion#ingestion-using-data-from-csv-files) of ingesting the data, we will build an example using the CSV Parser method in this notebook.\n",
    "\n",
    "We will use the [Cookbook dataset](https://docs.google.com/spreadsheets/d/1G1HPG3Dxx5W39OD6b74wMHvWupD7N-DLUbV7tD5owx8/edit?usp=sharing) to have the data persisted onto ApertureDB instance.\n",
    "\n",
    "The script converts the first 3 sheets on the source into 3 CSV files which are understood by the CSV Parsers in the SDK. For a more in-depth understanding of the various CSV Parsers, refer to this [page](https://docs.aperturedata.io/category/csv-parsers).\n",
    "\n",
    "\n",
    "> #### Connect to the dataabse.\n",
    "> - If you haven't already setup the database or configured it, check out our [quick start guide](https://docs.aperturedata.io/Setup/Quick%20Start)\n",
    ">\n"
   ]
  },
  {
   "cell_type": "code",
   "execution_count": null,
   "metadata": {},
   "outputs": [],
   "source": [
    "# Install the required packages\n",
    "%pip install --upgrade --quiet pip\n",
    "%pip install --upgrade --quiet aperturedb"
   ]
  },
  {
   "cell_type": "markdown",
   "metadata": {},
   "source": [
    "## Prepare Input Data"
   ]
  },
  {
   "cell_type": "code",
   "execution_count": 1,
   "metadata": {},
   "outputs": [
    {
     "name": "stdout",
     "output_type": "stream",
     "text": [
      "--2024-10-01 16:47:52--  https://github.com/aperture-data/Cookbook/raw/refs/heads/main/scripts/convert_ingredients_adb_csv.py\n",
      "Resolving github.com (github.com)... 140.82.114.3\n",
      "Connecting to github.com (github.com)|140.82.114.3|:443... connected.\n",
      "HTTP request sent, awaiting response... 302 Found\n",
      "Location: https://raw.githubusercontent.com/aperture-data/Cookbook/refs/heads/main/scripts/convert_ingredients_adb_csv.py [following]\n",
      "--2024-10-01 16:47:52--  https://raw.githubusercontent.com/aperture-data/Cookbook/refs/heads/main/scripts/convert_ingredients_adb_csv.py\n",
      "Resolving raw.githubusercontent.com (raw.githubusercontent.com)... 185.199.109.133, 185.199.110.133, 185.199.111.133, ...\n",
      "Connecting to raw.githubusercontent.com (raw.githubusercontent.com)|185.199.109.133|:443... connected.\n",
      "HTTP request sent, awaiting response... 200 OK\n",
      "Length: 1745 (1.7K) [text/plain]\n",
      "Saving to: ‘convert_ingredients_adb_csv.py’\n",
      "\n",
      "convert_ingredients 100%[===================>]   1.70K  --.-KB/s    in 0s      \n",
      "\n",
      "2024-10-01 16:47:52 (20.5 MB/s) - ‘convert_ingredients_adb_csv.py’ saved [1745/1745]\n",
      "\n",
      "Written to ingredients.adb.csv\n",
      "Written to dishes.adb.csv\n",
      "Written to dish_ingredients.adb.csv\n"
     ]
    }
   ],
   "source": [
    "# Get the script to generate the data.json\n",
    "!wget https://github.com/aperture-data/Cookbook/raw/refs/heads/main/scripts/convert_ingredients_adb_csv.py\n",
    "\n",
    "# Run the script to generate the right CSV files\n",
    "!python convert_ingredients_adb_csv.py"
   ]
  },
  {
   "cell_type": "markdown",
   "metadata": {},
   "source": [
    "### Create objects of these classes.\n",
    "\n",
    "We will provision the data using 3 csv files, prepared from [script](https://github.com/aperture-data/Cookbook/blob/main/scripts/convert_ingredients_adb_csv.py)\n",
    "\n",
    "Example lines from the CSV files:\n",
    "\n",
    "> #### dishes.adb.csv\n",
    ">```\n",
    ">url,id,contributor,name,type,location,cuisine,caption,Recipe URL,constraint_id\n",
    ">https://raw.githubusercontent.com/aperture-data/Cookbook/refs/heads/main/images/001_Large.jpeg,1,gautam,rajma chawal,main dish,NJ,Indian,>Beans with rice,https://www.tarladalal.com/rajma-chawal-punjabi-rajma-chawal-4951r,1\n",
    ">https://raw.githubusercontent.com/aperture-data/Cookbook/refs/heads/main/images/002_Large.jpeg,2,gautam,paneer bhurji,main dish,NJ,Indian,>\"Scrambled cottage cheese with finely chopped onion, bell pepper and tomatoes\",https://www.indianhealthyrecipes.com/paneer-bhurji-recipe/,2\n",
    ">```\n",
    "\n",
    "\n",
    "> #### ingredients.adb.csv\n",
    ">```\n",
    ">EntityClass,UUID,Name,other_names,category,subgroup,macronutrient,micronutrient,constraint_UUID\n",
    ">Ingredient,8ccd94efe6ac436f8c9f4b180677344a,all-purpose flour,maida,vegetarian,refined grains,carbohydrates,,8ccd94efe6ac436f8c9f4b180677344a\n",
    ">Ingredient,3d1ef186f6c14e61a67b01f2abfef6c4,apple,,vegetarian,fruit,carbohydrates,,3d1ef186f6c14e61a67b01f2abfef6c4\n",
    ">\n",
    ">```\n",
    "\n",
    "\n",
    "> #### dish_ingredients.adb.csv\n",
    ">```\n",
    ">ConnectionClass,_Image@id,Ingredient@UUID\n",
    ">HasIngredient,1,328ade6ff21244bd92332704ef72bda9\n",
    ">HasIngredient,1,45663216d9ea4262a608b9067adc5d1f\n",
    ">\n",
    ">```\n"
   ]
  },
  {
   "cell_type": "markdown",
   "metadata": {},
   "source": [
    "## Ingesting using the CSV Parsers.\n",
    "\n",
    "Let's ingest the same data. We use the pre converted CSV files as input.\n",
    "\n",
    "> ### Dig deeper!\n",
    ">\n",
    ">Learn more about:\n",
    ">\n",
    ">- [ImageDataCSV](https://docs.aperturedata.io/python_sdk/data_loaders/csv_wrappers/ImageDataCSV)\n",
    ">- [EntityDataCSV](https://docs.aperturedata.io/python_sdk/data_loaders/csv_wrappers/EntityDataCSV)\n",
    ">- [ConnectionDataCSV](https://docs.aperturedata.io/python_sdk/data_loaders/csv_wrappers/ConnectionDataCSV)\n",
    ">\n",
    ">"
   ]
  },
  {
   "cell_type": "code",
   "execution_count": 4,
   "metadata": {},
   "outputs": [
    {
     "data": {
      "application/vnd.jupyter.widget-view+json": {
       "model_id": "3b8aed362f2c44d197e29fa4d352502a",
       "version_major": 2,
       "version_minor": 0
      },
      "text/plain": [
       "  0%|          | 0/164 [00:00<?, ?it/s]"
      ]
     },
     "metadata": {},
     "output_type": "display_data"
    }
   ],
   "source": [
    "from aperturedb.ImageDataCSV import ImageDataCSV\n",
    "from aperturedb.EntityDataCSV import EntityDataCSV\n",
    "from aperturedb.ConnectionDataCSV import ConnectionDataCSV\n",
    "from aperturedb.CommonLibrary import create_connector, execute_query\n",
    "from tqdm.auto import tqdm\n",
    "\n",
    "dishes_objects = ImageDataCSV(\"dishes.adb.csv\")\n",
    "ingredients_objects = EntityDataCSV(\"ingredients.adb.csv\")\n",
    "connection_objects = ConnectionDataCSV(\"dish_ingredients.adb.csv\")\n",
    "\n",
    "pbar= tqdm(total=len(dishes_objects) + len(ingredients_objects) + len(connection_objects))\n",
    "client = create_connector()\n",
    "\n",
    "for objects in [dishes_objects, ingredients_objects, connection_objects]:\n",
    "    for query, blobs in objects:\n",
    "        result, response, output_blobs = execute_query(client, query, blobs)\n",
    "\n",
    "        if result != 0:\n",
    "            print(response, query)\n",
    "            break\n",
    "        pbar.update(1)"
   ]
  },
  {
   "cell_type": "markdown",
   "metadata": {},
   "source": [
    "## Load CSVs via adb CLI\n",
    "\n",
    "Assuming that the input files were generated in the first step of the Notebook, you can use the [adb tool](https://docs.aperturedata.io/category/command-line-tool-adb) to ingest the data as follows:\n",
    "```bash\n",
    "adb ingest from-csv dishes.adb.csv --ingest-type IMAGE\n",
    "adb ingest from-csv ingredients.adb.csv --ingest-type ENTITY\n",
    "adb ingest from-csv dish_ingredients.adb.csv --ingest-type CONNECTION\n",
    "```\n"
   ]
  }
 ],
 "metadata": {
  "kernelspec": {
   "display_name": "package",
   "language": "python",
   "name": "python3"
  },
  "language_info": {
   "codemirror_mode": {
    "name": "ipython",
    "version": 3
   },
   "file_extension": ".py",
   "mimetype": "text/x-python",
   "name": "python",
   "nbconvert_exporter": "python",
   "pygments_lexer": "ipython3",
   "version": "3.11.9"
  }
 },
 "nbformat": 4,
 "nbformat_minor": 2
}
