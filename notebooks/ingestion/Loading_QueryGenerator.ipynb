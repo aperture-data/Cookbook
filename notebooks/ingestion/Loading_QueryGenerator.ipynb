{
 "cells": [
  {
   "cell_type": "markdown",
   "metadata": {},
   "source": [
    "# Ingest Cookbook (QueryGenerator).\n",
    "\n",
    "Following the concepts on the different [means](https://docs.aperturedata.io/HowToGuides/Ingestion/Ingestion#custom-defined-data-generators) of ingesting the data, we will build an example using the QueryGenerator method in this notebook.\n",
    "\n",
    "We will use the [Cookbook dataset](https://docs.google.com/spreadsheets/d/1G1HPG3Dxx5W39OD6b74wMHvWupD7N-DLUbV7tD5owx8/edit?usp=sharing) to have the data persisted onto ApertureDB instance.\n",
    "\n",
    "We merge the first 3 sheets on the source into a json file such that there will be a list of Dishes objects, and each Dish may have multiple ingredients, along with some oher miscellaneous properties.\n",
    "\n",
    ":::caution\n",
    "\n",
    "The guide assumes that the SDK has been setup as per the instructions.\n",
    "\n",
    "Colab one time setup [instructions](/Setup/client/notebooks?notebooks=colab).\n",
    "\n",
    "Non ephemeral jupyter server one time setup [instructions](/Setup/client/notebooks?notebooks=notebook).\n",
    "\n",
    ":::\n"
   ]
  },
  {
   "cell_type": "markdown",
   "metadata": {},
   "source": [
    "## Needed resources.\n",
    "- ```create_nested_json.py```: The script merges the first 3 sheets on the source into a json file such that there will be a list of Dishes objects, and each Dish may have multiple ingredients, and each ingredient has miscellaneous properties. This ends up as a json file.\n"
   ]
  },
  {
   "cell_type": "code",
   "execution_count": 1,
   "metadata": {},
   "outputs": [
    {
     "name": "stdout",
     "output_type": "stream",
     "text": [
      "--2024-10-01 16:55:05--  https://github.com/aperture-data/Cookbook/raw/refs/heads/main/scripts/create_nested_json.py\n",
      "Resolving github.com (github.com)... 140.82.112.4\n",
      "Connecting to github.com (github.com)|140.82.112.4|:443... connected.\n",
      "HTTP request sent, awaiting response... 302 Found\n",
      "Location: https://raw.githubusercontent.com/aperture-data/Cookbook/refs/heads/main/scripts/create_nested_json.py [following]\n",
      "--2024-10-01 16:55:05--  https://raw.githubusercontent.com/aperture-data/Cookbook/refs/heads/main/scripts/create_nested_json.py\n",
      "Resolving raw.githubusercontent.com (raw.githubusercontent.com)... 185.199.109.133, 185.199.110.133, 185.199.111.133, ...\n",
      "Connecting to raw.githubusercontent.com (raw.githubusercontent.com)|185.199.109.133|:443... connected.\n",
      "HTTP request sent, awaiting response... 200 OK\n",
      "Length: 1757 (1.7K) [text/plain]\n",
      "Saving to: ‘create_nested_json.py.1’\n",
      "\n",
      "create_nested_json. 100%[===================>]   1.72K  --.-KB/s    in 0s      \n",
      "\n",
      "2024-10-01 16:55:06 (5.41 MB/s) - ‘create_nested_json.py.1’ saved [1757/1757]\n",
      "\n",
      "/Users/gsaluja/Projects/ad/Cookbook/notebooks/ingestion/create_nested_json.py:39: DeprecationWarning: DataFrameGroupBy.apply operated on the grouping columns. This behavior is deprecated, and in a future version of pandas the grouping columns will be excluded from the operation. Either pass `include_groups=False` to exclude the groupings or explicitly select the grouping columns after groupby to silence this warning.\n",
      "  \"name\"]).apply(dish_ingredients_aggregator).reset_index()\n"
     ]
    }
   ],
   "source": [
    "# Get the script to generate the data.json\n",
    "!wget https://github.com/aperture-data/Cookbook/raw/refs/heads/main/scripts/create_nested_json.py\n",
    "\n",
    "# Run the script to generate the data.json\n",
    "!python create_nested_json.py"
   ]
  },
  {
   "cell_type": "markdown",
   "metadata": {},
   "source": [
    "# Ingest using a Query Generator\n",
    "\n",
    "When the source data is in a format that does not conform to any of the CSV pasrsers in the SDK, we could use the approach of defining a custom Query generator.\n",
    "\n",
    "This does require a level of familiarity with the Query language.\n",
    "\n",
    "Let's implement a class to deal with the cookbook example.\n",
    "\n",
    "The Query generator is used to define a ```getitem``` to return a query to issue to ApertureDB that persists the record being iterated at the source."
   ]
  },
  {
   "cell_type": "code",
   "execution_count": 3,
   "metadata": {},
   "outputs": [
    {
     "name": "stdout",
     "output_type": "stream",
     "text": [
      "Loaded 29 dishes\n"
     ]
    },
    {
     "data": {
      "application/vnd.jupyter.widget-view+json": {
       "model_id": "fe59c97d428942e999dab171eed69a61",
       "version_major": 2,
       "version_minor": 0
      },
      "text/plain": [
       "  0%|          | 0/29 [00:00<?, ?it/s]"
      ]
     },
     "metadata": {},
     "output_type": "display_data"
    }
   ],
   "source": [
    "from typing import Tuple\n",
    "from aperturedb.CommonLibrary import create_connector, execute_query\n",
    "from aperturedb.QueryGenerator import QueryGenerator\n",
    "from aperturedb.types import *\n",
    "from aperturedb.Sources import Sources\n",
    "import json\n",
    "\n",
    "from tqdm.auto import tqdm\n",
    "\n",
    "class CookBookQueryGenerator(QueryGenerator):\n",
    "    def __init__(self, *args, **kwargs):\n",
    "        super().__init__()\n",
    "        assert \"dishes\" in kwargs, \"Path to Dishes must be provided\"\n",
    "        with open(kwargs[\"dishes\"]) as ins:\n",
    "            self.dishes = self.dishes = json.load(ins)\n",
    "            print(f\"Loaded {len(self.dishes)} dishes\")\n",
    "\n",
    "    def __len__(self) -> int:\n",
    "        return len(self.dishes)\n",
    "\n",
    "    def getitem(self, idx: int) -> Tuple[Commands, Blobs]:\n",
    "        record = self.dishes[idx]\n",
    "        q = [\n",
    "            {\n",
    "                \"AddImage\":{\n",
    "                    \"_ref\": 1,\n",
    "                    \"properties\": {\n",
    "                        \"contributor\": record[\"contributor\"],\n",
    "                        \"name\": record[\"name\"],\n",
    "                        \"location\": record[\"location\"],\n",
    "                        \"cuisine\": record[\"cuisine\"],\n",
    "                        \"caption\": record[\"caption\"],\n",
    "                        \"recipe_url\": record[\"recipe_url\"],\n",
    "                        \"dish_id\": record[\"dish_id\"]\n",
    "                    }\n",
    "                }\n",
    "            }\n",
    "        ]\n",
    "        for i, ingredient in enumerate(record[\"ingredients\"]):\n",
    "            q.append({\n",
    "                \"AddEntity\": {\n",
    "                    \"_ref\": 2 + i,\n",
    "                    \"class\": \"Ingredient\",\n",
    "                    \"connect\": {\n",
    "                        \"ref\": 1\n",
    "                    },\n",
    "                    \"properties\": {\n",
    "                        \"Name\": ingredient[\"Name\"],\n",
    "                        \"other_names\": ingredient.get(\"other_names\", \"\"),\n",
    "                        \"macronutrient\": ingredient.get(\"macronutrient\", \"\"),\n",
    "                        \"micronutrient\": ingredient.get(\"micronutrient\", \"\"),\n",
    "                        \"subgroup\": ingredient.get(\"subgroup\", \"\"),\n",
    "                        \"category\": ingredient.get(\"category\", \"\")\n",
    "                    }\n",
    "                }\n",
    "            })\n",
    "\n",
    "        blob = Sources(n_download_retries=3).load_from_http_url(record[\"url\"], validator=lambda x: True)\n",
    "        return q, [blob[1]]\n",
    "\n",
    "\n",
    "\n",
    "client = create_connector()\n",
    "generator = CookBookQueryGenerator(dishes=\"dishes.json\")\n",
    "for query, blobs in tqdm(generator):\n",
    "    result, response, output_blobs = execute_query(client, query, blobs)\n",
    "\n",
    "    if result != 0:\n",
    "        print(response, query)\n",
    "        break"
   ]
  },
  {
   "cell_type": "markdown",
   "metadata": {},
   "source": [
    "## CSV Parser files are also supported by adb CLI.\n",
    "\n",
    "The ```CookBookQueryGenerator``` class can be saved in a python file called CookBookQueryGenerator.py\n",
    "```bash\n",
    "adb ingest from-generator CookBookQueryGenerator.py\n",
    "```\n",
    "\n",
    ":::caution\n",
    "\n",
    "The filename needs to match the class name for the adb command to work.\n",
    "\n",
    ":::\n"
   ]
  }
 ],
 "metadata": {
  "kernelspec": {
   "display_name": "package",
   "language": "python",
   "name": "python3"
  },
  "language_info": {
   "codemirror_mode": {
    "name": "ipython",
    "version": 3
   },
   "file_extension": ".py",
   "mimetype": "text/x-python",
   "name": "python",
   "nbconvert_exporter": "python",
   "pygments_lexer": "ipython3",
   "version": "3.11.9"
  }
 },
 "nbformat": 4,
 "nbformat_minor": 2
}
